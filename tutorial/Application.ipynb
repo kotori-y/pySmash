{
 "cells": [
  {
   "cell_type": "markdown",
   "metadata": {},
   "source": [
    "# Application\n",
    "\n",
    "In order to obtain a better understanding of **pySmash** and its application, we introduce examples to show a regular significant fragment extracting process. We will show the workflow of **pySmash** in *package* and *software*. This application scripts can be obtained from [here](https://github.com/kotori-y/pySmash/blob/master/tutorial/Application.ipynb)."
   ]
  },
  {
   "cell_type": "markdown",
   "metadata": {},
   "source": [
    "## Example of toxicophore analysis on a carcinogenicity dataset"
   ]
  },
  {
   "cell_type": "markdown",
   "metadata": {},
   "source": [
    "Toxicity is a significant issue for the pharmaceutical industry in early drug development phase. In order to gain a better understanding of the utility of substructure extraction, 1092 compounds that have been tested long-term carcinogenicity bioassay on rodents, including 694 carcinogenicity toxic compounds and 358 non-toxic compounds were collected from [here](http://old.iss.it/meca/index.php?lang=1&anno=2013&tipo=25) (Benigni, et al., 2013). Three algorithms were used for fragment extraction, with circular fragment (minimum radius = 1, maximum radius = 4) and path fragment (minimum path = 1, maximum path = 7) parameter setup. For substructure requirement, the minimum number of compounds with the substructure (minNum) was set as 5 and the minimum portion of aimed label compounds with the substructure (minAcc) was set as 0.7. To control the familywise error rate, the Bonferroni correction was also applied. The result is summarized in [Result 1](#Result-1).<br>"
   ]
  },
  {
   "cell_type": "code",
   "execution_count": 1,
   "metadata": {
    "ExecuteTime": {
     "end_time": "2020-09-23T06:39:01.604810Z",
     "start_time": "2020-09-23T06:38:57.980289Z"
    }
   },
   "outputs": [],
   "source": [
    "# rdkit\n",
    "from rdkit import Chem\n",
    "# science modules\n",
    "import pandas as pd\n",
    "import numpy as np\n",
    "# Display\n",
    "import IPython\n",
    "# pySmash Learner\n",
    "from smash import CircularLearner, PathLearner, FunctionGroupLearner"
   ]
  },
  {
   "cell_type": "code",
   "execution_count": 2,
   "metadata": {
    "ExecuteTime": {
     "end_time": "2020-09-23T06:39:03.042079Z",
     "start_time": "2020-09-23T06:39:02.970243Z"
    },
    "scrolled": false
   },
   "outputs": [
    {
     "data": {
      "text/html": [
       "<div>\n",
       "<style scoped>\n",
       "    .dataframe tbody tr th:only-of-type {\n",
       "        vertical-align: middle;\n",
       "    }\n",
       "\n",
       "    .dataframe tbody tr th {\n",
       "        vertical-align: top;\n",
       "    }\n",
       "\n",
       "    .dataframe thead th {\n",
       "        text-align: right;\n",
       "    }\n",
       "</style>\n",
       "<table border=\"1\" class=\"dataframe\">\n",
       "  <thead>\n",
       "    <tr style=\"text-align: right;\">\n",
       "      <th></th>\n",
       "      <th>SMILES</th>\n",
       "      <th>Label</th>\n",
       "    </tr>\n",
       "  </thead>\n",
       "  <tbody>\n",
       "    <tr>\n",
       "      <th>0</th>\n",
       "      <td>CN(c1ccc(cc1)N=Nc1ccccc1)C</td>\n",
       "      <td>1</td>\n",
       "    </tr>\n",
       "    <tr>\n",
       "      <th>1</th>\n",
       "      <td>CC(=O)Nc1cccc2c1c1ccccc1C2</td>\n",
       "      <td>0</td>\n",
       "    </tr>\n",
       "    <tr>\n",
       "      <th>2</th>\n",
       "      <td>c1cc2ccc3c4c2c(c1)ccc4ccc3</td>\n",
       "      <td>0</td>\n",
       "    </tr>\n",
       "    <tr>\n",
       "      <th>3</th>\n",
       "      <td>ClC(Cl)Cl</td>\n",
       "      <td>1</td>\n",
       "    </tr>\n",
       "    <tr>\n",
       "      <th>...</th>\n",
       "      <td>...</td>\n",
       "      <td>...</td>\n",
       "    </tr>\n",
       "    <tr>\n",
       "      <th>1048</th>\n",
       "      <td>CN1C2CCC1CC(C2)NC(=O)c1cc(Cl)cc2c1OC(C2)(C)C</td>\n",
       "      <td>0</td>\n",
       "    </tr>\n",
       "    <tr>\n",
       "      <th>1049</th>\n",
       "      <td>O=C1C=CC(=O)C=C1</td>\n",
       "      <td>1</td>\n",
       "    </tr>\n",
       "    <tr>\n",
       "      <th>1050</th>\n",
       "      <td>c1ccc2c(c1)sc(n2)SSc1nc2c(s1)cccc2</td>\n",
       "      <td>0</td>\n",
       "    </tr>\n",
       "    <tr>\n",
       "      <th>1051</th>\n",
       "      <td>O=NN(CCN(C)C)C</td>\n",
       "      <td>1</td>\n",
       "    </tr>\n",
       "  </tbody>\n",
       "</table>\n",
       "<p>1052 rows × 2 columns</p>\n",
       "</div>"
      ],
      "text/plain": [
       "                                            SMILES  Label\n",
       "0     CN(c1ccc(cc1)N=Nc1ccccc1)C                    1    \n",
       "1     CC(=O)Nc1cccc2c1c1ccccc1C2                    0    \n",
       "2     c1cc2ccc3c4c2c(c1)ccc4ccc3                    0    \n",
       "3     ClC(Cl)Cl                                     1    \n",
       "...         ...                                    ..    \n",
       "1048  CN1C2CCC1CC(C2)NC(=O)c1cc(Cl)cc2c1OC(C2)(C)C  0    \n",
       "1049  O=C1C=CC(=O)C=C1                              1    \n",
       "1050  c1ccc2c(c1)sc(n2)SSc1nc2c(s1)cccc2            0    \n",
       "1051  O=NN(CCN(C)C)C                                1    \n",
       "\n",
       "[1052 rows x 2 columns]"
      ]
     },
     "execution_count": 2,
     "metadata": {},
     "output_type": "execute_result"
    }
   ],
   "source": [
    "# loading data\n",
    "data = pd.read_csv('./datasets/carc/carc.txt', sep='\\t')\n",
    "pd.set_option('display.max_rows', 8)\n",
    "data"
   ]
  },
  {
   "cell_type": "code",
   "execution_count": 3,
   "metadata": {
    "ExecuteTime": {
     "end_time": "2020-09-23T06:39:05.340147Z",
     "start_time": "2020-09-23T06:39:05.112656Z"
    }
   },
   "outputs": [
    {
     "name": "stdout",
     "output_type": "stream",
     "text": [
      "Positive Number: 694\n",
      "Negative Number: 358\n"
     ]
    }
   ],
   "source": [
    "mols = [Chem.MolFromSmiles(smi) for smi in data.SMILES]\n",
    "labels = data.Label.values\n",
    "\n",
    "print(\"Positive Number: {}\".format(labels.sum()))\n",
    "print(\"Negative Number: {}\".format((1-labels).sum()))"
   ]
  },
  {
   "cell_type": "code",
   "execution_count": 4,
   "metadata": {
    "ExecuteTime": {
     "end_time": "2020-09-23T06:39:07.529434Z",
     "start_time": "2020-09-23T06:39:07.522322Z"
    }
   },
   "outputs": [],
   "source": [
    "# Instantiate\n",
    "cir = CircularLearner(minRadius=1, maxRadius=4, nJobs=4)\n",
    "path = PathLearner(minPath=1, maxPath=7, nJobs=4)\n",
    "fg = FunctionGroupLearner(nJobs=4)"
   ]
  },
  {
   "cell_type": "code",
   "execution_count": 5,
   "metadata": {
    "ExecuteTime": {
     "end_time": "2020-09-23T06:41:24.325907Z",
     "start_time": "2020-09-23T06:39:09.179983Z"
    },
    "scrolled": false
   },
   "outputs": [],
   "source": [
    "# Fitting\n",
    "kwgrs = {\n",
    "    \"mols\": mols, \n",
    "    \"labels\": labels, \n",
    "    \"accCutoff\": 0.7, \n",
    "    \"pCutoff\": 0.05, \n",
    "    \"Bonferroni\": True\n",
    "}\n",
    "\n",
    "sigCirPvalue, sigCirMatrix = cir.fit(**kwgrs)\n",
    "sigPathPvalue, sigPathMatrix = path.fit(**kwgrs)\n",
    "sigFgPvalue, sigFgMatrix = fg.fit(**kwgrs)"
   ]
  },
  {
   "cell_type": "code",
   "execution_count": 6,
   "metadata": {
    "ExecuteTime": {
     "end_time": "2020-09-23T06:41:38.003042Z",
     "start_time": "2020-09-23T06:41:37.990593Z"
    }
   },
   "outputs": [
    {
     "data": {
      "text/html": [
       "<table border=\"1\" class=\"dataframe\">\n",
       "  <thead>\n",
       "    <tr style=\"text-align: right;\">\n",
       "      <th></th>\n",
       "      <th>Pvalue</th>\n",
       "      <th>Total</th>\n",
       "      <th>Hitted</th>\n",
       "      <th>Accuracy</th>\n",
       "      <th>Coverage</th>\n",
       "      <th>SMARTS</th>\n",
       "      <th>Substructure</th>\n",
       "    </tr>\n",
       "  </thead>\n",
       "  <tbody>\n",
       "    <tr>\n",
       "      <th>2380084179</th>\n",
       "      <td>1.584474e-08</td>\n",
       "      <td>126</td>\n",
       "      <td>113</td>\n",
       "      <td>0.896825</td>\n",
       "      <td>0.162824</td>\n",
       "      <td>[*]-[N]=[O]</td>\n",
       "      <td><?xml version='1.0' encoding='iso-8859-1'?><svg version='1.1' baseProfile='full'              xmlns='http://www.w3.org/2000/svg'                      xmlns:rdkit='http://www.rdkit.org/xml'                      xmlns:xlink='http://www.w3.org/1999/xlink'                  xml:space='preserve'width='150px' height='150px' ><!-- END OF HEADER --><rect style='opacity:1.0;fill:#FFFFFF;stroke:none' width='150' height='150' x='0' y='0'> </rect><ellipse cx='40.3678' cy='143.182' rx='18.9554' ry='18.9554' style='fill:#9999E5;fill-rule:evenodd;stroke:#9999E5;stroke-width:2px;stroke-linecap:butt;stroke-linejoin:miter;stroke-opacity:1' /><path class='bond-0' d='M 125.932,93.8832 131.26,14.3182' style='fill:none;fill-rule:evenodd;stroke:#E5E5E5;stroke-width:4px;stroke-linecap:butt;stroke-linejoin:miter;stroke-opacity:1' /><path class='bond-1' d='M 114.749,96.0714 78.971,113.652' style='fill:none;fill-rule:evenodd;stroke:#0000FF;stroke-width:2px;stroke-linecap:butt;stroke-linejoin:miter;stroke-opacity:1' /><path class='bond-1' d='M 78.971,113.652 43.1927,131.234' style='fill:none;fill-rule:evenodd;stroke:#FF0000;stroke-width:2px;stroke-linecap:butt;stroke-linejoin:miter;stroke-opacity:1' /><path class='bond-1' d='M 123.109,113.084 87.3307,130.665' style='fill:none;fill-rule:evenodd;stroke:#0000FF;stroke-width:2px;stroke-linecap:butt;stroke-linejoin:miter;stroke-opacity:1' /><path class='bond-1' d='M 87.3307,130.665 51.5524,148.246' style='fill:none;fill-rule:evenodd;stroke:#FF0000;stroke-width:2px;stroke-linecap:butt;stroke-linejoin:miter;stroke-opacity:1' /><text x='118.929' y='108.883' style='font-size:15px;font-style:normal;font-weight:normal;fill-opacity:1;stroke:none;font-family:sans-serif;text-anchor:start;fill:#0000FF' ><tspan>N</tspan></text><text x='128.26' y='14.3182' style='font-size:15px;font-style:normal;font-weight:normal;fill-opacity:1;stroke:none;font-family:sans-serif;text-anchor:start;fill:#7F7F7F' ><tspan>*</tspan></text><text x='33.363' y='150.682' style='font-size:15px;font-style:normal;font-weight:normal;fill-opacity:1;stroke:none;font-family:sans-serif;text-anchor:start;fill:#FF0000' ><tspan>O</tspan></text></svg></td>\n",
       "    </tr>\n",
       "    <tr>\n",
       "      <th>3153453529</th>\n",
       "      <td>1.609288e-03</td>\n",
       "      <td>23</td>\n",
       "      <td>23</td>\n",
       "      <td>1.000000</td>\n",
       "      <td>0.033141</td>\n",
       "      <td>[*]-[CH2]-[N](-[N]=[O])-[C](-[*])=[*]</td>\n",
       "      <td><?xml version='1.0' encoding='iso-8859-1'?><svg version='1.1' baseProfile='full'              xmlns='http://www.w3.org/2000/svg'                      xmlns:rdkit='http://www.rdkit.org/xml'                      xmlns:xlink='http://www.w3.org/1999/xlink'                  xml:space='preserve'width='150px' height='150px' ><!-- END OF HEADER --><rect style='opacity:1.0;fill:#FFFFFF;stroke:none' width='150' height='150' x='0' y='0'> </rect><ellipse cx='75' cy='111.119' rx='7.22375' ry='7.22375' style='fill:#9999E5;fill-rule:evenodd;stroke:#9999E5;stroke-width:2px;stroke-linecap:butt;stroke-linejoin:miter;stroke-opacity:1' /><path class='bond-0' d='M 15.2517,73.377 43.7203,56.9406' style='fill:none;fill-rule:evenodd;stroke:#E5E5E5;stroke-width:4px;stroke-linecap:butt;stroke-linejoin:miter;stroke-opacity:1' /><path class='bond-5' d='M 43.7203,56.9406 56.7513,64.4641' style='fill:none;fill-rule:evenodd;stroke:#000000;stroke-width:2px;stroke-linecap:butt;stroke-linejoin:miter;stroke-opacity:1' /><path class='bond-5' d='M 56.7513,64.4641 69.7824,71.9876' style='fill:none;fill-rule:evenodd;stroke:#0000FF;stroke-width:2px;stroke-linecap:butt;stroke-linejoin:miter;stroke-opacity:1' /><path class='bond-1' d='M 109.892,56.9406 109.892,26.8417' style='fill:none;fill-rule:evenodd;stroke:#E5E5E5;stroke-width:4px;stroke-linecap:butt;stroke-linejoin:miter;stroke-opacity:1' /><path class='bond-1' d='M 102.668,56.9406 102.668,26.8417' style='fill:none;fill-rule:evenodd;stroke:#E5E5E5;stroke-width:4px;stroke-linecap:butt;stroke-linejoin:miter;stroke-opacity:1' /><path class='bond-2' d='M 106.28,56.9406 134.748,73.377' style='fill:none;fill-rule:evenodd;stroke:#E5E5E5;stroke-width:4px;stroke-linecap:butt;stroke-linejoin:miter;stroke-opacity:1' /><path class='bond-6' d='M 106.28,56.9406 93.2487,64.4641' style='fill:none;fill-rule:evenodd;stroke:#000000;stroke-width:2px;stroke-linecap:butt;stroke-linejoin:miter;stroke-opacity:1' /><path class='bond-6' d='M 93.2487,64.4641 80.2176,71.9876' style='fill:none;fill-rule:evenodd;stroke:#0000FF;stroke-width:2px;stroke-linecap:butt;stroke-linejoin:miter;stroke-opacity:1' /><path class='bond-3' d='M 75,81.0198 75,105.099' style='fill:none;fill-rule:evenodd;stroke:#0000FF;stroke-width:2px;stroke-linecap:butt;stroke-linejoin:miter;stroke-opacity:1' /><path class='bond-4' d='M 78.4117,117.259 88.6316,123.16' style='fill:none;fill-rule:evenodd;stroke:#0000FF;stroke-width:2px;stroke-linecap:butt;stroke-linejoin:miter;stroke-opacity:1' /><path class='bond-4' d='M 88.6316,123.16 98.8515,129.06' style='fill:none;fill-rule:evenodd;stroke:#FF0000;stroke-width:2px;stroke-linecap:butt;stroke-linejoin:miter;stroke-opacity:1' /><path class='bond-4' d='M 82.0236,111.003 92.2435,116.904' style='fill:none;fill-rule:evenodd;stroke:#0000FF;stroke-width:2px;stroke-linecap:butt;stroke-linejoin:miter;stroke-opacity:1' /><path class='bond-4' d='M 92.2435,116.904 102.463,122.804' style='fill:none;fill-rule:evenodd;stroke:#FF0000;stroke-width:2px;stroke-linecap:butt;stroke-linejoin:miter;stroke-opacity:1' /><text x='9.62934' y='81.0198' style='font-size:12px;font-style:normal;font-weight:normal;fill-opacity:1;stroke:none;font-family:sans-serif;text-anchor:start;fill:#7F7F7F' ><tspan>*</tspan></text><text x='103.469' y='26.8417' style='font-size:12px;font-style:normal;font-weight:normal;fill-opacity:1;stroke:none;font-family:sans-serif;text-anchor:start;fill:#7F7F7F' ><tspan>*</tspan></text><text x='134.748' y='81.0198' style='font-size:12px;font-style:normal;font-weight:normal;fill-opacity:1;stroke:none;font-family:sans-serif;text-anchor:start;fill:#7F7F7F' ><tspan>*</tspan></text><text x='69.7824' y='81.0198' style='font-size:12px;font-style:normal;font-weight:normal;fill-opacity:1;stroke:none;font-family:sans-serif;text-anchor:start;fill:#0000FF' ><tspan>N</tspan></text><text x='69.7824' y='117.139' style='font-size:12px;font-style:normal;font-weight:normal;fill-opacity:1;stroke:none;font-family:sans-serif;text-anchor:start;fill:#0000FF' ><tspan>N</tspan></text><text x='100.657' y='135.198' style='font-size:12px;font-style:normal;font-weight:normal;fill-opacity:1;stroke:none;font-family:sans-serif;text-anchor:start;fill:#FF0000' ><tspan>O</tspan></text></svg></td>\n",
       "    </tr>\n",
       "    <tr>\n",
       "      <th>3356397823</th>\n",
       "      <td>1.157093e-02</td>\n",
       "      <td>30</td>\n",
       "      <td>28</td>\n",
       "      <td>0.933333</td>\n",
       "      <td>0.040346</td>\n",
       "      <td>[*]:[cH]:[c](:[o]:[*])-[N+](=[O])-[O-]</td>\n",
       "      <td><?xml version='1.0' encoding='iso-8859-1'?><svg version='1.1' baseProfile='full'              xmlns='http://www.w3.org/2000/svg'                      xmlns:rdkit='http://www.rdkit.org/xml'                      xmlns:xlink='http://www.w3.org/1999/xlink'                  xml:space='preserve'width='150px' height='150px' ><!-- END OF HEADER --><rect style='opacity:1.0;fill:#FFFFFF;stroke:none' width='150' height='150' x='0' y='0'> </rect><ellipse cx='119.046' cy='69.4075' rx='7.5132' ry='7.5132' style='fill:#E5E533;fill-rule:evenodd;stroke:#E5E533;stroke-width:2px;stroke-linecap:butt;stroke-linejoin:miter;stroke-opacity:1' /><ellipse cx='81.9414' cy='117.551' rx='7.5132' ry='7.5132' style='fill:#E5E533;fill-rule:evenodd;stroke:#E5E533;stroke-width:2px;stroke-linecap:butt;stroke-linejoin:miter;stroke-opacity:1' /><ellipse cx='83.0047' cy='80.0001' rx='7.5132' ry='7.5132' style='fill:#E5E533;fill-rule:evenodd;stroke:#E5E533;stroke-width:2px;stroke-linecap:butt;stroke-linejoin:miter;stroke-opacity:1' /><ellipse cx='53.2504' cy='57.0679' rx='7.5132' ry='7.5132' style='fill:#9999E5;fill-rule:evenodd;stroke:#9999E5;stroke-width:2px;stroke-linecap:butt;stroke-linejoin:miter;stroke-opacity:1' /><path class='bond-0' d='M 123.33,75.6685 137.334,96.1382' style='fill:none;fill-rule:evenodd;stroke:#E5E5E5;stroke-width:4px;stroke-linecap:butt;stroke-linejoin:miter;stroke-opacity:1' /><path class='bond-0' d='M 119.23,82.9813 129.033,97.3101' style='fill:none;fill-rule:evenodd;stroke:#E5E5E5;stroke-width:4px;stroke-linecap:butt;stroke-linejoin:miter;stroke-opacity:1;stroke-dasharray:6,6' /><path class='bond-6' d='M 113.199,71.1261 98.1017,75.5631' style='fill:none;fill-rule:evenodd;stroke:#FF0000;stroke-width:2px;stroke-linecap:butt;stroke-linejoin:miter;stroke-opacity:1' /><path class='bond-6' d='M 98.1017,75.5631 83.0047,80.0001' style='fill:none;fill-rule:evenodd;stroke:#000000;stroke-width:2px;stroke-linecap:butt;stroke-linejoin:miter;stroke-opacity:1' /><path class='bond-6' d='M 106.551,65.2488 95.9832,68.3547' style='fill:none;fill-rule:evenodd;stroke:#FF0000;stroke-width:2px;stroke-linecap:butt;stroke-linejoin:miter;stroke-opacity:1;stroke-dasharray:6,6' /><path class='bond-6' d='M 95.9832,68.3547 85.4153,71.4606' style='fill:none;fill-rule:evenodd;stroke:#000000;stroke-width:2px;stroke-linecap:butt;stroke-linejoin:miter;stroke-opacity:1;stroke-dasharray:6,6' /><path class='bond-1' d='M 114.402,129.124 81.9414,117.551' style='fill:none;fill-rule:evenodd;stroke:#E5E5E5;stroke-width:4px;stroke-linecap:butt;stroke-linejoin:miter;stroke-opacity:1' /><path class='bond-1' d='M 112.056,120.311 89.3335,112.21' style='fill:none;fill-rule:evenodd;stroke:#E5E5E5;stroke-width:4px;stroke-linecap:butt;stroke-linejoin:miter;stroke-opacity:1;stroke-dasharray:6,6' /><path class='bond-5' d='M 81.9414,117.551 83.0047,80.0001' style='fill:none;fill-rule:evenodd;stroke:#000000;stroke-width:2px;stroke-linecap:butt;stroke-linejoin:miter;stroke-opacity:1' /><path class='bond-5' d='M 89.6111,112.131 90.3554,85.8454' style='fill:none;fill-rule:evenodd;stroke:#000000;stroke-width:2px;stroke-linecap:butt;stroke-linejoin:miter;stroke-opacity:1;stroke-dasharray:6,6' /><path class='bond-2' d='M 83.0047,80.0001 71.9383,71.471' style='fill:none;fill-rule:evenodd;stroke:#000000;stroke-width:2px;stroke-linecap:butt;stroke-linejoin:miter;stroke-opacity:1' /><path class='bond-2' d='M 71.9383,71.471 60.8718,62.9419' style='fill:none;fill-rule:evenodd;stroke:#0000FF;stroke-width:2px;stroke-linecap:butt;stroke-linejoin:miter;stroke-opacity:1' /><path class='bond-3' d='M 44.1988,56.7321 33.5648,61.1104' style='fill:none;fill-rule:evenodd;stroke:#0000FF;stroke-width:2px;stroke-linecap:butt;stroke-linejoin:miter;stroke-opacity:1' /><path class='bond-3' d='M 33.5648,61.1104 22.9308,65.4886' style='fill:none;fill-rule:evenodd;stroke:#FF0000;stroke-width:2px;stroke-linecap:butt;stroke-linejoin:miter;stroke-opacity:1' /><path class='bond-3' d='M 47.0591,63.6795 36.4252,68.0578' style='fill:none;fill-rule:evenodd;stroke:#0000FF;stroke-width:2px;stroke-linecap:butt;stroke-linejoin:miter;stroke-opacity:1' /><path class='bond-3' d='M 36.4252,68.0578 25.7912,72.436' style='fill:none;fill-rule:evenodd;stroke:#FF0000;stroke-width:2px;stroke-linecap:butt;stroke-linejoin:miter;stroke-opacity:1' /><path class='bond-4' d='M 54.172,50.1808 55.7417,38.4509' style='fill:none;fill-rule:evenodd;stroke:#0000FF;stroke-width:2px;stroke-linecap:butt;stroke-linejoin:miter;stroke-opacity:1' /><path class='bond-4' d='M 55.7417,38.4509 57.3114,26.7209' style='fill:none;fill-rule:evenodd;stroke:#FF0000;stroke-width:2px;stroke-linecap:butt;stroke-linejoin:miter;stroke-opacity:1' /><text x='113.199' y='75.6685' style='font-size:12px;font-style:normal;font-weight:normal;fill-opacity:1;stroke:none;font-family:sans-serif;text-anchor:start;fill:#FF0000' ><tspan>O</tspan></text><text x='137.334' y='106.673' style='font-size:12px;font-style:normal;font-weight:normal;fill-opacity:1;stroke:none;font-family:sans-serif;text-anchor:start;fill:#7F7F7F' ><tspan>*</tspan></text><text x='114.402' y='136.427' style='font-size:12px;font-style:normal;font-weight:normal;fill-opacity:1;stroke:none;font-family:sans-serif;text-anchor:start;fill:#7F7F7F' ><tspan>*</tspan></text><text x='45.629' y='63.955' style='font-size:12px;font-style:normal;font-weight:normal;fill-opacity:1;stroke:none;font-family:sans-serif;text-anchor:start;fill:#0000FF' ><tspan>N</tspan><tspan style='baseline-shift:super;font-size:9px;'>+</tspan><tspan></tspan></text><text x='12.6658' y='77.6309' style='font-size:12px;font-style:normal;font-weight:normal;fill-opacity:1;stroke:none;font-family:sans-serif;text-anchor:start;fill:#FF0000' ><tspan>O</tspan></text><text x='51.134' y='26.7209' style='font-size:12px;font-style:normal;font-weight:normal;fill-opacity:1;stroke:none;font-family:sans-serif;text-anchor:start;fill:#FF0000' ><tspan>O</tspan><tspan style='baseline-shift:super;font-size:9px;'>-</tspan><tspan></tspan></text></svg></td>\n",
       "    </tr>\n",
       "    <tr>\n",
       "      <th>3440991424</th>\n",
       "      <td>1.157093e-02</td>\n",
       "      <td>30</td>\n",
       "      <td>28</td>\n",
       "      <td>0.933333</td>\n",
       "      <td>0.040346</td>\n",
       "      <td>[*]-[c]1:[cH]:[cH]:[c](-[N+](=[O])-[O-]):[o]:1</td>\n",
       "      <td><?xml version='1.0' encoding='iso-8859-1'?><svg version='1.1' baseProfile='full'              xmlns='http://www.w3.org/2000/svg'                      xmlns:rdkit='http://www.rdkit.org/xml'                      xmlns:xlink='http://www.w3.org/1999/xlink'                  xml:space='preserve'width='150px' height='150px' ><!-- END OF HEADER --><rect style='opacity:1.0;fill:#FFFFFF;stroke:none' width='150' height='150' x='0' y='0'> </rect><ellipse cx='109.716' cy='94.5956' rx='5.79358' ry='5.79358' style='fill:#E5E533;fill-rule:evenodd;stroke:#E5E533;stroke-width:2px;stroke-linecap:butt;stroke-linejoin:miter;stroke-opacity:1' /><ellipse cx='92.0329' cy='117.54' rx='5.79358' ry='5.79358' style='fill:#E5E533;fill-rule:evenodd;stroke:#E5E533;stroke-width:2px;stroke-linecap:butt;stroke-linejoin:miter;stroke-opacity:1' /><ellipse cx='64.7472' cy='107.812' rx='5.79358' ry='5.79358' style='fill:#E5E533;fill-rule:evenodd;stroke:#E5E533;stroke-width:2px;stroke-linecap:butt;stroke-linejoin:miter;stroke-opacity:1' /><ellipse cx='65.5672' cy='78.8556' rx='5.79358' ry='5.79358' style='fill:#9999E5;fill-rule:evenodd;stroke:#9999E5;stroke-width:2px;stroke-linecap:butt;stroke-linejoin:miter;stroke-opacity:1' /><ellipse cx='93.3596' cy='70.6875' rx='5.79358' ry='5.79358' style='fill:#E5E533;fill-rule:evenodd;stroke:#E5E533;stroke-width:2px;stroke-linecap:butt;stroke-linejoin:miter;stroke-opacity:1' /><path class='bond-0' d='M 136.418,95.3517 109.716,94.5956' style='fill:none;fill-rule:evenodd;stroke:#E5E5E5;stroke-width:4px;stroke-linecap:butt;stroke-linejoin:miter;stroke-opacity:1' /><path class='bond-1' d='M 109.716,94.5956 92.0329,117.54' style='fill:none;fill-rule:evenodd;stroke:#E5E5E5;stroke-width:4px;stroke-linecap:butt;stroke-linejoin:miter;stroke-opacity:1' /><path class='bond-1' d='M 102.475,94.5005 90.0966,110.561' style='fill:none;fill-rule:evenodd;stroke:#E5E5E5;stroke-width:4px;stroke-linecap:butt;stroke-linejoin:miter;stroke-opacity:1;stroke-dasharray:6,6' /><path class='bond-6' d='M 109.716,94.5956 103.189,85.0555' style='fill:none;fill-rule:evenodd;stroke:#000000;stroke-width:2px;stroke-linecap:butt;stroke-linejoin:miter;stroke-opacity:1' /><path class='bond-6' d='M 103.189,85.0555 96.6627,75.5155' style='fill:none;fill-rule:evenodd;stroke:#FF0000;stroke-width:2px;stroke-linecap:butt;stroke-linejoin:miter;stroke-opacity:1' /><path class='bond-6' d='M 102.977,95.0049 98.4079,88.3269' style='fill:none;fill-rule:evenodd;stroke:#000000;stroke-width:2px;stroke-linecap:butt;stroke-linejoin:miter;stroke-opacity:1;stroke-dasharray:6,6' /><path class='bond-6' d='M 98.4079,88.3269 93.8391,81.6488' style='fill:none;fill-rule:evenodd;stroke:#FF0000;stroke-width:2px;stroke-linecap:butt;stroke-linejoin:miter;stroke-opacity:1;stroke-dasharray:6,6' /><path class='bond-5' d='M 92.0329,117.54 64.7472,107.812' style='fill:none;fill-rule:evenodd;stroke:#000000;stroke-width:2px;stroke-linecap:butt;stroke-linejoin:miter;stroke-opacity:1' /><path class='bond-5' d='M 89.8856,110.623 70.7856,103.814' style='fill:none;fill-rule:evenodd;stroke:#000000;stroke-width:2px;stroke-linecap:butt;stroke-linejoin:miter;stroke-opacity:1;stroke-dasharray:6,6' /><path class='bond-2' d='M 64.7472,107.812 65.5672,78.8556' style='fill:none;fill-rule:evenodd;stroke:#000000;stroke-width:2px;stroke-linecap:butt;stroke-linejoin:miter;stroke-opacity:1' /><path class='bond-2' d='M 70.6615,103.632 71.2354,83.3631' style='fill:none;fill-rule:evenodd;stroke:#000000;stroke-width:2px;stroke-linecap:butt;stroke-linejoin:miter;stroke-opacity:1;stroke-dasharray:6,6' /><path class='bond-3' d='M 65.5672,78.8556 77.2088,75.4342' style='fill:none;fill-rule:evenodd;stroke:#000000;stroke-width:2px;stroke-linecap:butt;stroke-linejoin:miter;stroke-opacity:1' /><path class='bond-3' d='M 77.2088,75.4342 88.8504,72.0127' style='fill:none;fill-rule:evenodd;stroke:#FF0000;stroke-width:2px;stroke-linecap:butt;stroke-linejoin:miter;stroke-opacity:1' /><path class='bond-3' d='M 70.6933,83.3877 78.8424,80.9927' style='fill:none;fill-rule:evenodd;stroke:#000000;stroke-width:2px;stroke-linecap:butt;stroke-linejoin:miter;stroke-opacity:1;stroke-dasharray:6,6' /><path class='bond-3' d='M 78.8424,80.9927 86.9915,78.5977' style='fill:none;fill-rule:evenodd;stroke:#FF0000;stroke-width:2px;stroke-linecap:butt;stroke-linejoin:miter;stroke-opacity:1;stroke-dasharray:6,6' /><path class='bond-4' d='M 65.5672,78.8556 57.0336,72.2787' style='fill:none;fill-rule:evenodd;stroke:#000000;stroke-width:2px;stroke-linecap:butt;stroke-linejoin:miter;stroke-opacity:1' /><path class='bond-4' d='M 57.0336,72.2787 48.5,65.7017' style='fill:none;fill-rule:evenodd;stroke:#0000FF;stroke-width:2px;stroke-linecap:butt;stroke-linejoin:miter;stroke-opacity:1' /><path class='bond-7' d='M 35.6431,60.9133 27.443,64.2894' style='fill:none;fill-rule:evenodd;stroke:#0000FF;stroke-width:2px;stroke-linecap:butt;stroke-linejoin:miter;stroke-opacity:1' /><path class='bond-7' d='M 27.443,64.2894 19.243,67.6656' style='fill:none;fill-rule:evenodd;stroke:#FF0000;stroke-width:2px;stroke-linecap:butt;stroke-linejoin:miter;stroke-opacity:1' /><path class='bond-7' d='M 37.8488,66.2706 29.6487,69.6467' style='fill:none;fill-rule:evenodd;stroke:#0000FF;stroke-width:2px;stroke-linecap:butt;stroke-linejoin:miter;stroke-opacity:1' /><path class='bond-7' d='M 29.6487,69.6467 21.4487,73.0228' style='fill:none;fill-rule:evenodd;stroke:#FF0000;stroke-width:2px;stroke-linecap:butt;stroke-linejoin:miter;stroke-opacity:1' /><path class='bond-8' d='M 43.3337,55.8614 44.5441,46.8162' style='fill:none;fill-rule:evenodd;stroke:#0000FF;stroke-width:2px;stroke-linecap:butt;stroke-linejoin:miter;stroke-opacity:1' /><path class='bond-8' d='M 44.5441,46.8162 45.7545,37.771' style='fill:none;fill-rule:evenodd;stroke:#FF0000;stroke-width:2px;stroke-linecap:butt;stroke-linejoin:miter;stroke-opacity:1' /><text x='136.418' y='100.244' style='font-size:9px;font-style:normal;font-weight:normal;fill-opacity:1;stroke:none;font-family:sans-serif;text-anchor:start;fill:#7F7F7F' ><tspan>*</tspan></text><text x='88.8504' y='75.5155' style='font-size:9px;font-style:normal;font-weight:normal;fill-opacity:1;stroke:none;font-family:sans-serif;text-anchor:start;fill:#FF0000' ><tspan>O</tspan></text><text x='36.7459' y='66.483' style='font-size:9px;font-style:normal;font-weight:normal;fill-opacity:1;stroke:none;font-family:sans-serif;text-anchor:start;fill:#0000FF' ><tspan>N</tspan><tspan style='baseline-shift:super;font-size:6.75px;'>+</tspan><tspan></tspan></text><text x='11.3274' y='77.0287' style='font-size:9px;font-style:normal;font-weight:normal;fill-opacity:1;stroke:none;font-family:sans-serif;text-anchor:start;fill:#FF0000' ><tspan>O</tspan></text><text x='40.991' y='37.771' style='font-size:9px;font-style:normal;font-weight:normal;fill-opacity:1;stroke:none;font-family:sans-serif;text-anchor:start;fill:#FF0000' ><tspan>O</tspan><tspan style='baseline-shift:super;font-size:6.75px;'>-</tspan><tspan></tspan></text></svg></td>\n",
       "    </tr>\n",
       "    <tr>\n",
       "      <th>1470580613</th>\n",
       "      <td>1.287997e-02</td>\n",
       "      <td>18</td>\n",
       "      <td>18</td>\n",
       "      <td>1.000000</td>\n",
       "      <td>0.025937</td>\n",
       "      <td>[*]:[c](:[*])-[c]1:[cH]:[cH]:[c](-[N+](=[O])-[O-]):[o]:1</td>\n",
       "      <td><?xml version='1.0' encoding='iso-8859-1'?><svg version='1.1' baseProfile='full'              xmlns='http://www.w3.org/2000/svg'                      xmlns:rdkit='http://www.rdkit.org/xml'                      xmlns:xlink='http://www.w3.org/1999/xlink'                  xml:space='preserve'width='150px' height='150px' ><!-- END OF HEADER --><rect style='opacity:1.0;fill:#FFFFFF;stroke:none' width='150' height='150' x='0' y='0'> </rect><ellipse cx='116.289' cy='67.1497' rx='5.13793' ry='5.13793' style='fill:#E5E533;fill-rule:evenodd;stroke:#E5E533;stroke-width:2px;stroke-linecap:butt;stroke-linejoin:miter;stroke-opacity:1' /><ellipse cx='89.3949' cy='104.197' rx='5.13793' ry='5.13793' style='fill:#E5E533;fill-rule:evenodd;stroke:#E5E533;stroke-width:2px;stroke-linecap:butt;stroke-linejoin:miter;stroke-opacity:1' /><ellipse cx='64.0231' cy='108.225' rx='5.13793' ry='5.13793' style='fill:#9999E5;fill-rule:evenodd;stroke:#9999E5;stroke-width:2px;stroke-linecap:butt;stroke-linejoin:miter;stroke-opacity:1' /><ellipse cx='52.3512' cy='85.3402' rx='5.13793' ry='5.13793' style='fill:#E5E533;fill-rule:evenodd;stroke:#E5E533;stroke-width:2px;stroke-linecap:butt;stroke-linejoin:miter;stroke-opacity:1' /><ellipse cx='93.4036' cy='78.8216' rx='5.13793' ry='5.13793' style='fill:#E5E533;fill-rule:evenodd;stroke:#E5E533;stroke-width:2px;stroke-linecap:butt;stroke-linejoin:miter;stroke-opacity:1' /><ellipse cx='70.5094' cy='67.1677' rx='5.13793' ry='5.13793' style='fill:#E5E533;fill-rule:evenodd;stroke:#E5E533;stroke-width:2px;stroke-linecap:butt;stroke-linejoin:miter;stroke-opacity:1' /><path class='bond-0' d='M 119.621,46.0563 116.289,67.1497' style='fill:none;fill-rule:evenodd;stroke:#E5E5E5;stroke-width:4px;stroke-linecap:butt;stroke-linejoin:miter;stroke-opacity:1' /><path class='bond-0' d='M 124.196,50.0221 121.863,64.7874' style='fill:none;fill-rule:evenodd;stroke:#E5E5E5;stroke-width:4px;stroke-linecap:butt;stroke-linejoin:miter;stroke-opacity:1;stroke-dasharray:6,6' /><path class='bond-1' d='M 116.289,67.1497 137.183,77.7857' style='fill:none;fill-rule:evenodd;stroke:#E5E5E5;stroke-width:4px;stroke-linecap:butt;stroke-linejoin:miter;stroke-opacity:1' /><path class='bond-1' d='M 121.754,64.1662 136.38,71.6115' style='fill:none;fill-rule:evenodd;stroke:#E5E5E5;stroke-width:4px;stroke-linecap:butt;stroke-linejoin:miter;stroke-opacity:1;stroke-dasharray:6,6' /><path class='bond-7' d='M 116.289,67.1497 93.4036,78.8216' style='fill:none;fill-rule:evenodd;stroke:#000000;stroke-width:2px;stroke-linecap:butt;stroke-linejoin:miter;stroke-opacity:1' /><path class='bond-2' d='M 89.3949,104.197 64.0231,108.225' style='fill:none;fill-rule:evenodd;stroke:#000000;stroke-width:2px;stroke-linecap:butt;stroke-linejoin:miter;stroke-opacity:1' /><path class='bond-2' d='M 84.7834,99.7265 67.0231,102.547' style='fill:none;fill-rule:evenodd;stroke:#000000;stroke-width:2px;stroke-linecap:butt;stroke-linejoin:miter;stroke-opacity:1;stroke-dasharray:6,6' /><path class='bond-4' d='M 89.3949,104.197 93.4036,78.8216' style='fill:none;fill-rule:evenodd;stroke:#000000;stroke-width:2px;stroke-linecap:butt;stroke-linejoin:miter;stroke-opacity:1' /><path class='bond-4' d='M 84.9212,99.5885 87.7273,81.8261' style='fill:none;fill-rule:evenodd;stroke:#000000;stroke-width:2px;stroke-linecap:butt;stroke-linejoin:miter;stroke-opacity:1;stroke-dasharray:6,6' /><path class='bond-3' d='M 64.0231,108.225 52.3512,85.3402' style='fill:none;fill-rule:evenodd;stroke:#000000;stroke-width:2px;stroke-linecap:butt;stroke-linejoin:miter;stroke-opacity:1' /><path class='bond-3' d='M 66.8493,102.458 58.679,86.4386' style='fill:none;fill-rule:evenodd;stroke:#000000;stroke-width:2px;stroke-linecap:butt;stroke-linejoin:miter;stroke-opacity:1;stroke-dasharray:6,6' /><path class='bond-5' d='M 52.3512,85.3402 59.4308,78.255' style='fill:none;fill-rule:evenodd;stroke:#000000;stroke-width:2px;stroke-linecap:butt;stroke-linejoin:miter;stroke-opacity:1' /><path class='bond-5' d='M 59.4308,78.255 66.5104,71.1698' style='fill:none;fill-rule:evenodd;stroke:#FF0000;stroke-width:2px;stroke-linecap:butt;stroke-linejoin:miter;stroke-opacity:1' /><path class='bond-5' d='M 58.1096,86.8463 63.0653,81.8867' style='fill:none;fill-rule:evenodd;stroke:#000000;stroke-width:2px;stroke-linecap:butt;stroke-linejoin:miter;stroke-opacity:1;stroke-dasharray:6,6' /><path class='bond-5' d='M 63.0653,81.8867 68.0211,76.927' style='fill:none;fill-rule:evenodd;stroke:#FF0000;stroke-width:2px;stroke-linecap:butt;stroke-linejoin:miter;stroke-opacity:1;stroke-dasharray:6,6' /><path class='bond-6' d='M 52.3512,85.3402 42.2697,83.7476' style='fill:none;fill-rule:evenodd;stroke:#000000;stroke-width:2px;stroke-linecap:butt;stroke-linejoin:miter;stroke-opacity:1' /><path class='bond-6' d='M 42.2697,83.7476 32.1882,82.1549' style='fill:none;fill-rule:evenodd;stroke:#0000FF;stroke-width:2px;stroke-linecap:butt;stroke-linejoin:miter;stroke-opacity:1' /><path class='bond-8' d='M 93.4036,78.8216 83.9559,74.0124' style='fill:none;fill-rule:evenodd;stroke:#000000;stroke-width:2px;stroke-linecap:butt;stroke-linejoin:miter;stroke-opacity:1' /><path class='bond-8' d='M 83.9559,74.0124 74.5083,69.2033' style='fill:none;fill-rule:evenodd;stroke:#FF0000;stroke-width:2px;stroke-linecap:butt;stroke-linejoin:miter;stroke-opacity:1' /><path class='bond-8' d='M 88.2385,81.9577 81.6252,78.5913' style='fill:none;fill-rule:evenodd;stroke:#000000;stroke-width:2px;stroke-linecap:butt;stroke-linejoin:miter;stroke-opacity:1;stroke-dasharray:6,6' /><path class='bond-8' d='M 81.6252,78.5913 75.0118,75.2249' style='fill:none;fill-rule:evenodd;stroke:#FF0000;stroke-width:2px;stroke-linecap:butt;stroke-linejoin:miter;stroke-opacity:1;stroke-dasharray:6,6' /><path class='bond-9' d='M 21.1683,84.4254 16.7263,89.9152' style='fill:none;fill-rule:evenodd;stroke:#0000FF;stroke-width:2px;stroke-linecap:butt;stroke-linejoin:miter;stroke-opacity:1' /><path class='bond-9' d='M 16.7263,89.9152 12.2844,95.405' style='fill:none;fill-rule:evenodd;stroke:#FF0000;stroke-width:2px;stroke-linecap:butt;stroke-linejoin:miter;stroke-opacity:1' /><path class='bond-9' d='M 25.1625,87.6572 20.7205,93.147' style='fill:none;fill-rule:evenodd;stroke:#0000FF;stroke-width:2px;stroke-linecap:butt;stroke-linejoin:miter;stroke-opacity:1' /><path class='bond-9' d='M 20.7205,93.147 16.2786,98.6368' style='fill:none;fill-rule:evenodd;stroke:#FF0000;stroke-width:2px;stroke-linecap:butt;stroke-linejoin:miter;stroke-opacity:1' /><path class='bond-10' d='M 25.1662,76.6217 22.3683,69.3416' style='fill:none;fill-rule:evenodd;stroke:#0000FF;stroke-width:2px;stroke-linecap:butt;stroke-linejoin:miter;stroke-opacity:1' /><path class='bond-10' d='M 22.3683,69.3416 19.5705,62.0615' style='fill:none;fill-rule:evenodd;stroke:#FF0000;stroke-width:2px;stroke-linecap:butt;stroke-linejoin:miter;stroke-opacity:1' /><text x='118.298' y='46.0563' style='font-size:8px;font-style:normal;font-weight:normal;fill-opacity:1;stroke:none;font-family:sans-serif;text-anchor:start;fill:#7F7F7F' ><tspan>*</tspan></text><text x='137.183' y='83.0851' style='font-size:8px;font-style:normal;font-weight:normal;fill-opacity:1;stroke:none;font-family:sans-serif;text-anchor:start;fill:#7F7F7F' ><tspan>*</tspan></text><text x='66.5104' y='71.4493' style='font-size:8px;font-style:normal;font-weight:normal;fill-opacity:1;stroke:none;font-family:sans-serif;text-anchor:start;fill:#FF0000' ><tspan>O</tspan></text><text x='21.7643' y='86.0413' style='font-size:8px;font-style:normal;font-weight:normal;fill-opacity:1;stroke:none;font-family:sans-serif;text-anchor:start;fill:#0000FF' ><tspan>N</tspan><tspan style='baseline-shift:super;font-size:6px;'>+</tspan><tspan></tspan></text><text x='6.81818' y='105.584' style='font-size:8px;font-style:normal;font-weight:normal;fill-opacity:1;stroke:none;font-family:sans-serif;text-anchor:start;fill:#FF0000' ><tspan>O</tspan></text><text x='12.9057' y='62.0615' style='font-size:8px;font-style:normal;font-weight:normal;fill-opacity:1;stroke:none;font-family:sans-serif;text-anchor:start;fill:#FF0000' ><tspan>O</tspan><tspan style='baseline-shift:super;font-size:6px;'>-</tspan><tspan></tspan></text></svg></td>\n",
       "    </tr>\n",
       "    <tr>\n",
       "      <th>1083852209</th>\n",
       "      <td>1.585835e-02</td>\n",
       "      <td>115</td>\n",
       "      <td>92</td>\n",
       "      <td>0.800000</td>\n",
       "      <td>0.132565</td>\n",
       "      <td>[*]:[c](:[*])-[NH2]</td>\n",
       "      <td><?xml version='1.0' encoding='iso-8859-1'?><svg version='1.1' baseProfile='full'              xmlns='http://www.w3.org/2000/svg'                      xmlns:rdkit='http://www.rdkit.org/xml'                      xmlns:xlink='http://www.w3.org/1999/xlink'                  xml:space='preserve'width='150px' height='150px' ><!-- END OF HEADER --><rect style='opacity:1.0;fill:#FFFFFF;stroke:none' width='150' height='150' x='0' y='0'> </rect><ellipse cx='93.3523' cy='84.6066' rx='10.6702' ry='10.6702' style='fill:#E5E533;fill-rule:evenodd;stroke:#E5E533;stroke-width:2px;stroke-linecap:butt;stroke-linejoin:miter;stroke-opacity:1' /><ellipse cx='43.581' cy='103.82' rx='10.6702' ry='10.6702' style='fill:#9999E5;fill-rule:evenodd;stroke:#9999E5;stroke-width:2px;stroke-linecap:butt;stroke-linejoin:miter;stroke-opacity:1' /><path class='bond-0' d='M 93.3523,84.6066 100.208,40.7887' style='fill:none;fill-rule:evenodd;stroke:#E5E5E5;stroke-width:4px;stroke-linecap:butt;stroke-linejoin:miter;stroke-opacity:1' /><path class='bond-0' d='M 104.923,79.6832 109.721,49.0107' style='fill:none;fill-rule:evenodd;stroke:#E5E5E5;stroke-width:4px;stroke-linecap:butt;stroke-linejoin:miter;stroke-opacity:1;stroke-dasharray:6,6' /><path class='bond-1' d='M 93.3523,84.6066 130.725,114.754' style='fill:none;fill-rule:evenodd;stroke:#E5E5E5;stroke-width:4px;stroke-linecap:butt;stroke-linejoin:miter;stroke-opacity:1' /><path class='bond-1' d='M 105.657,80.8237 131.818,101.927' style='fill:none;fill-rule:evenodd;stroke:#E5E5E5;stroke-width:4px;stroke-linecap:butt;stroke-linejoin:miter;stroke-opacity:1;stroke-dasharray:6,6' /><path class='bond-2' d='M 93.3523,84.6066 77.6574,90.6654' style='fill:none;fill-rule:evenodd;stroke:#000000;stroke-width:2px;stroke-linecap:butt;stroke-linejoin:miter;stroke-opacity:1' /><path class='bond-2' d='M 77.6574,90.6654 61.9625,96.7241' style='fill:none;fill-rule:evenodd;stroke:#0000FF;stroke-width:2px;stroke-linecap:butt;stroke-linejoin:miter;stroke-opacity:1' /><text x='97.4463' y='40.7887' style='font-size:17px;font-style:normal;font-weight:normal;fill-opacity:1;stroke:none;font-family:sans-serif;text-anchor:start;fill:#7F7F7F' ><tspan>*</tspan></text><text x='130.725' y='126.995' style='font-size:17px;font-style:normal;font-weight:normal;fill-opacity:1;stroke:none;font-family:sans-serif;text-anchor:start;fill:#7F7F7F' ><tspan>*</tspan></text><text x='25.1996' y='113.601' style='font-size:17px;font-style:normal;font-weight:normal;fill-opacity:1;stroke:none;font-family:sans-serif;text-anchor:start;fill:#0000FF' ><tspan>H</tspan><tspan style='baseline-shift:sub;font-size:12.75px;'>2</tspan><tspan>N</tspan></text></svg></td>\n",
       "    </tr>\n",
       "    <tr>\n",
       "      <th>1147919419</th>\n",
       "      <td>4.375580e-02</td>\n",
       "      <td>21</td>\n",
       "      <td>20</td>\n",
       "      <td>0.952381</td>\n",
       "      <td>0.028818</td>\n",
       "      <td>[*]-[CH2]-[N](-[CH2]-[*])-[N]=[O]</td>\n",
       "      <td><?xml version='1.0' encoding='iso-8859-1'?><svg version='1.1' baseProfile='full'              xmlns='http://www.w3.org/2000/svg'                      xmlns:rdkit='http://www.rdkit.org/xml'                      xmlns:xlink='http://www.w3.org/1999/xlink'                  xml:space='preserve'width='150px' height='150px' ><!-- END OF HEADER --><rect style='opacity:1.0;fill:#FFFFFF;stroke:none' width='150' height='150' x='0' y='0'> </rect><ellipse cx='74.4585' cy='93.0592' rx='7.22449' ry='7.22449' style='fill:#9999E5;fill-rule:evenodd;stroke:#9999E5;stroke-width:2px;stroke-linecap:butt;stroke-linejoin:miter;stroke-opacity:1' /><path class='bond-0' d='M 15.2525,54.4354 43.9913,38.4126' style='fill:none;fill-rule:evenodd;stroke:#E5E5E5;stroke-width:4px;stroke-linecap:butt;stroke-linejoin:miter;stroke-opacity:1' /><path class='bond-4' d='M 43.9913,38.4126 56.8866,46.1177' style='fill:none;fill-rule:evenodd;stroke:#000000;stroke-width:2px;stroke-linecap:butt;stroke-linejoin:miter;stroke-opacity:1' /><path class='bond-4' d='M 56.8866,46.1177 69.7818,53.8229' style='fill:none;fill-rule:evenodd;stroke:#0000FF;stroke-width:2px;stroke-linecap:butt;stroke-linejoin:miter;stroke-opacity:1' /><path class='bond-1' d='M 106.55,39.3506 134.747,56.1988' style='fill:none;fill-rule:evenodd;stroke:#E5E5E5;stroke-width:4px;stroke-linecap:butt;stroke-linejoin:miter;stroke-opacity:1' /><path class='bond-5' d='M 106.55,39.3506 93.3842,46.691' style='fill:none;fill-rule:evenodd;stroke:#000000;stroke-width:2px;stroke-linecap:butt;stroke-linejoin:miter;stroke-opacity:1' /><path class='bond-5' d='M 93.3842,46.691 80.2182,54.0315' style='fill:none;fill-rule:evenodd;stroke:#0000FF;stroke-width:2px;stroke-linecap:butt;stroke-linejoin:miter;stroke-opacity:1' /><path class='bond-2' d='M 74.9097,62.9612 74.5487,87.0388' style='fill:none;fill-rule:evenodd;stroke:#0000FF;stroke-width:2px;stroke-linecap:butt;stroke-linejoin:miter;stroke-opacity:1' /><path class='bond-3' d='M 77.8238,99.278 87.9077,105.303' style='fill:none;fill-rule:evenodd;stroke:#0000FF;stroke-width:2px;stroke-linecap:butt;stroke-linejoin:miter;stroke-opacity:1' /><path class='bond-3' d='M 87.9077,105.303 97.9915,111.328' style='fill:none;fill-rule:evenodd;stroke:#FF0000;stroke-width:2px;stroke-linecap:butt;stroke-linejoin:miter;stroke-opacity:1' /><path class='bond-3' d='M 81.5295,93.0763 91.6133,99.1015' style='fill:none;fill-rule:evenodd;stroke:#0000FF;stroke-width:2px;stroke-linecap:butt;stroke-linejoin:miter;stroke-opacity:1' /><path class='bond-3' d='M 91.6133,99.1015 101.697,105.127' style='fill:none;fill-rule:evenodd;stroke:#FF0000;stroke-width:2px;stroke-linecap:butt;stroke-linejoin:miter;stroke-opacity:1' /><text x='9.62963' y='62.0233' style='font-size:12px;font-style:normal;font-weight:normal;fill-opacity:1;stroke:none;font-family:sans-serif;text-anchor:start;fill:#7F7F7F' ><tspan>*</tspan></text><text x='134.747' y='63.8991' style='font-size:12px;font-style:normal;font-weight:normal;fill-opacity:1;stroke:none;font-family:sans-serif;text-anchor:start;fill:#7F7F7F' ><tspan>*</tspan></text><text x='69.7818' y='62.9612' style='font-size:12px;font-style:normal;font-weight:normal;fill-opacity:1;stroke:none;font-family:sans-serif;text-anchor:start;fill:#0000FF' ><tspan>N</tspan></text><text x='69.2403' y='99.0796' style='font-size:12px;font-style:normal;font-weight:normal;fill-opacity:1;stroke:none;font-family:sans-serif;text-anchor:start;fill:#0000FF' ><tspan>N</tspan></text><text x='99.8443' y='117.608' style='font-size:12px;font-style:normal;font-weight:normal;fill-opacity:1;stroke:none;font-family:sans-serif;text-anchor:start;fill:#FF0000' ><tspan>O</tspan></text></svg></td>\n",
       "    </tr>\n",
       "  </tbody>\n",
       "</table>"
      ],
      "text/plain": [
       "<IPython.core.display.HTML object>"
      ]
     },
     "execution_count": 6,
     "metadata": {},
     "output_type": "execute_result"
    }
   ],
   "source": [
    "# Visualizing circular fragments\n",
    "IPython.display.HTML(sigCirPvalue.to_html(escape=False))"
   ]
  },
  {
   "cell_type": "code",
   "execution_count": 7,
   "metadata": {
    "ExecuteTime": {
     "end_time": "2020-09-23T06:41:42.407754Z",
     "start_time": "2020-09-23T06:41:42.392796Z"
    },
    "scrolled": false
   },
   "outputs": [
    {
     "data": {
      "text/html": [
       "<table border=\"1\" class=\"dataframe\">\n",
       "  <thead>\n",
       "    <tr style=\"text-align: right;\">\n",
       "      <th></th>\n",
       "      <th>Pvalue</th>\n",
       "      <th>Total</th>\n",
       "      <th>Hitted</th>\n",
       "      <th>Accuracy</th>\n",
       "      <th>Coverage</th>\n",
       "      <th>SMARTS</th>\n",
       "      <th>Substructure</th>\n",
       "    </tr>\n",
       "  </thead>\n",
       "  <tbody>\n",
       "    <tr>\n",
       "      <th>CN(C)N=O</th>\n",
       "      <td>0.000027</td>\n",
       "      <td>61</td>\n",
       "      <td>56</td>\n",
       "      <td>0.918033</td>\n",
       "      <td>0.080692</td>\n",
       "      <td>CN(C)N=O</td>\n",
       "      <td><?xml version='1.0' encoding='iso-8859-1'?><svg version='1.1' baseProfile='full'              xmlns='http://www.w3.org/2000/svg'                      xmlns:rdkit='http://www.rdkit.org/xml'                      xmlns:xlink='http://www.w3.org/1999/xlink'                  xml:space='preserve'width='150px' height='150px' ><!-- END OF HEADER --><rect style='opacity:1.0;fill:#FFFFFF;stroke:none' width='150' height='150' x='0' y='0'> </rect><path class='bond-0' d='M 102.098,44.0525 143.182,34.788' style='fill:none;fill-rule:evenodd;stroke:#000000;stroke-width:2px;stroke-linecap:butt;stroke-linejoin:miter;stroke-opacity:1' /><path class='bond-1' d='M 102.098,44.0525 96.9311,60.6488' style='fill:none;fill-rule:evenodd;stroke:#000000;stroke-width:2px;stroke-linecap:butt;stroke-linejoin:miter;stroke-opacity:1' /><path class='bond-1' d='M 96.9311,60.6488 91.7643,77.2452' style='fill:none;fill-rule:evenodd;stroke:#0000FF;stroke-width:2px;stroke-linecap:butt;stroke-linejoin:miter;stroke-opacity:1' /><path class='bond-2' d='M 95.663,90.8558 106.904,103.034' style='fill:none;fill-rule:evenodd;stroke:#0000FF;stroke-width:2px;stroke-linecap:butt;stroke-linejoin:miter;stroke-opacity:1' /><path class='bond-2' d='M 106.904,103.034 118.144,115.212' style='fill:none;fill-rule:evenodd;stroke:#000000;stroke-width:2px;stroke-linecap:butt;stroke-linejoin:miter;stroke-opacity:1' /><path class='bond-3' d='M 83.4952,85.6364 54.579,92.157' style='fill:none;fill-rule:evenodd;stroke:#0000FF;stroke-width:2px;stroke-linecap:butt;stroke-linejoin:miter;stroke-opacity:1' /><path class='bond-4' d='M 45.5059,84.0811 37.5047,75.4126' style='fill:none;fill-rule:evenodd;stroke:#0000FF;stroke-width:2px;stroke-linecap:butt;stroke-linejoin:miter;stroke-opacity:1' /><path class='bond-4' d='M 37.5047,75.4126 29.5035,66.7442' style='fill:none;fill-rule:evenodd;stroke:#FF0000;stroke-width:2px;stroke-linecap:butt;stroke-linejoin:miter;stroke-opacity:1' /><path class='bond-4' d='M 39.3164,89.7942 31.3152,81.1257' style='fill:none;fill-rule:evenodd;stroke:#0000FF;stroke-width:2px;stroke-linecap:butt;stroke-linejoin:miter;stroke-opacity:1' /><path class='bond-4' d='M 31.3152,81.1257 23.314,72.4572' style='fill:none;fill-rule:evenodd;stroke:#FF0000;stroke-width:2px;stroke-linecap:butt;stroke-linejoin:miter;stroke-opacity:1' /><text x='83.4952' y='91.2838' style='font-size:14px;font-style:normal;font-weight:normal;fill-opacity:1;stroke:none;font-family:sans-serif;text-anchor:start;fill:#0000FF' ><tspan>N</tspan></text><text x='42.4112' y='100.548' style='font-size:14px;font-style:normal;font-weight:normal;fill-opacity:1;stroke:none;font-family:sans-serif;text-anchor:start;fill:#0000FF' ><tspan>N</tspan></text><text x='13.374' y='69.6007' style='font-size:14px;font-style:normal;font-weight:normal;fill-opacity:1;stroke:none;font-family:sans-serif;text-anchor:start;fill:#FF0000' ><tspan>O</tspan></text></svg></td>\n",
       "    </tr>\n",
       "    <tr>\n",
       "      <th>cN</th>\n",
       "      <td>0.009277</td>\n",
       "      <td>114</td>\n",
       "      <td>91</td>\n",
       "      <td>0.798246</td>\n",
       "      <td>0.131124</td>\n",
       "      <td>cN</td>\n",
       "      <td><?xml version='1.0' encoding='iso-8859-1'?><svg version='1.1' baseProfile='full'              xmlns='http://www.w3.org/2000/svg'                      xmlns:rdkit='http://www.rdkit.org/xml'                      xmlns:xlink='http://www.w3.org/1999/xlink'                  xml:space='preserve'width='150px' height='150px' ><!-- END OF HEADER --><rect style='opacity:1.0;fill:#FFFFFF;stroke:none' width='150' height='150' x='0' y='0'> </rect><path class='bond-0' d='M 131.317,99.0962 143.182,23.261' style='fill:none;fill-rule:evenodd;stroke:#000000;stroke-width:2px;stroke-linecap:butt;stroke-linejoin:miter;stroke-opacity:1' /><path class='bond-0' d='M 117.93,85.3481 126.235,32.2634' style='fill:none;fill-rule:evenodd;stroke:#000000;stroke-width:2px;stroke-linecap:butt;stroke-linejoin:miter;stroke-opacity:1;stroke-dasharray:6,6' /><path class='bond-1' d='M 131.317,99.0962 103.266,109.925' style='fill:none;fill-rule:evenodd;stroke:#000000;stroke-width:2px;stroke-linecap:butt;stroke-linejoin:miter;stroke-opacity:1' /><path class='bond-1' d='M 103.266,109.925 75.2142,120.754' style='fill:none;fill-rule:evenodd;stroke:#0000FF;stroke-width:2px;stroke-linecap:butt;stroke-linejoin:miter;stroke-opacity:1' /><text x='44.2058' y='134.989' style='font-size:15px;font-style:normal;font-weight:normal;fill-opacity:1;stroke:none;font-family:sans-serif;text-anchor:start;fill:#0000FF' ><tspan>H</tspan><tspan style='baseline-shift:sub;font-size:11.25px;'>2</tspan><tspan>N</tspan></text></svg></td>\n",
       "    </tr>\n",
       "    <tr>\n",
       "      <th>coc</th>\n",
       "      <td>0.010573</td>\n",
       "      <td>51</td>\n",
       "      <td>44</td>\n",
       "      <td>0.862745</td>\n",
       "      <td>0.063401</td>\n",
       "      <td>coc</td>\n",
       "      <td><?xml version='1.0' encoding='iso-8859-1'?><svg version='1.1' baseProfile='full'              xmlns='http://www.w3.org/2000/svg'                      xmlns:rdkit='http://www.rdkit.org/xml'                      xmlns:xlink='http://www.w3.org/1999/xlink'                  xml:space='preserve'width='150px' height='150px' ><!-- END OF HEADER --><rect style='opacity:1.0;fill:#FFFFFF;stroke:none' width='150' height='150' x='0' y='0'> </rect><path class='bond-0' d='M 41.104,58.0762 6.81818,70.8449' style='fill:none;fill-rule:evenodd;stroke:#000000;stroke-width:2px;stroke-linecap:butt;stroke-linejoin:miter;stroke-opacity:1' /><path class='bond-0' d='M 38.5149,66.8487 14.5148,75.7867' style='fill:none;fill-rule:evenodd;stroke:#000000;stroke-width:2px;stroke-linecap:butt;stroke-linejoin:miter;stroke-opacity:1;stroke-dasharray:6,6' /><path class='bond-1' d='M 75,79.2634 89.2954,73.9395' style='fill:none;fill-rule:evenodd;stroke:#FF0000;stroke-width:2px;stroke-linecap:butt;stroke-linejoin:miter;stroke-opacity:1' /><path class='bond-1' d='M 89.2954,73.9395 103.591,68.6157' style='fill:none;fill-rule:evenodd;stroke:#000000;stroke-width:2px;stroke-linecap:butt;stroke-linejoin:miter;stroke-opacity:1' /><path class='bond-1' d='M 81.8423,84.5234 91.8491,80.7967' style='fill:none;fill-rule:evenodd;stroke:#FF0000;stroke-width:2px;stroke-linecap:butt;stroke-linejoin:miter;stroke-opacity:1;stroke-dasharray:6,6' /><path class='bond-1' d='M 91.8491,80.7967 101.856,77.07' style='fill:none;fill-rule:evenodd;stroke:#000000;stroke-width:2px;stroke-linecap:butt;stroke-linejoin:miter;stroke-opacity:1;stroke-dasharray:6,6' /><path class='bond-2' d='M 101.26,71.4358 112.513,80.7363' style='fill:none;fill-rule:evenodd;stroke:#000000;stroke-width:2px;stroke-linecap:butt;stroke-linejoin:miter;stroke-opacity:1' /><path class='bond-2' d='M 112.513,80.7363 123.766,90.0368' style='fill:none;fill-rule:evenodd;stroke:#FF0000;stroke-width:2px;stroke-linecap:butt;stroke-linejoin:miter;stroke-opacity:1' /><path class='bond-2' d='M 105.922,65.7956 117.174,75.0961' style='fill:none;fill-rule:evenodd;stroke:#000000;stroke-width:2px;stroke-linecap:butt;stroke-linejoin:miter;stroke-opacity:1' /><path class='bond-2' d='M 117.174,75.0961 128.427,84.3967' style='fill:none;fill-rule:evenodd;stroke:#FF0000;stroke-width:2px;stroke-linecap:butt;stroke-linejoin:miter;stroke-opacity:1' /><text x='63.6098' y='87.482' style='font-size:12px;font-style:normal;font-weight:normal;fill-opacity:1;stroke:none;font-family:sans-serif;text-anchor:start;fill:#FF0000' ><tspan>O</tspan></text><text x='126.097' y='98.0215' style='font-size:12px;font-style:normal;font-weight:normal;fill-opacity:1;stroke:none;font-family:sans-serif;text-anchor:start;fill:#FF0000' ><tspan>O</tspan></text></svg></td>\n",
       "    </tr>\n",
       "  </tbody>\n",
       "</table>"
      ],
      "text/plain": [
       "<IPython.core.display.HTML object>"
      ]
     },
     "execution_count": 7,
     "metadata": {},
     "output_type": "execute_result"
    }
   ],
   "source": [
    "# Visualizing FG fragments\n",
    "IPython.display.HTML(sigFgPvalue.to_html(escape=False))"
   ]
  },
  {
   "cell_type": "code",
   "execution_count": 8,
   "metadata": {
    "ExecuteTime": {
     "end_time": "2020-09-23T06:41:45.929142Z",
     "start_time": "2020-09-23T06:41:45.912188Z"
    },
    "scrolled": true
   },
   "outputs": [
    {
     "data": {
      "text/html": [
       "<table border=\"1\" class=\"dataframe\">\n",
       "  <thead>\n",
       "    <tr style=\"text-align: right;\">\n",
       "      <th></th>\n",
       "      <th>Pvalue</th>\n",
       "      <th>Total</th>\n",
       "      <th>Hitted</th>\n",
       "      <th>Accuracy</th>\n",
       "      <th>Coverage</th>\n",
       "      <th>SMARTS</th>\n",
       "      <th>Substructure</th>\n",
       "    </tr>\n",
       "  </thead>\n",
       "  <tbody>\n",
       "    <tr>\n",
       "      <th>480113190</th>\n",
       "      <td>2.737936e-09</td>\n",
       "      <td>128</td>\n",
       "      <td>117</td>\n",
       "      <td>0.914062</td>\n",
       "      <td>0.168588</td>\n",
       "      <td>CCNN</td>\n",
       "      <td><?xml version='1.0' encoding='iso-8859-1'?><svg version='1.1' baseProfile='full'              xmlns='http://www.w3.org/2000/svg'                      xmlns:rdkit='http://www.rdkit.org/xml'                      xmlns:xlink='http://www.w3.org/1999/xlink'                  xml:space='preserve'width='150px' height='150px' ><!-- END OF HEADER --><rect style='opacity:1.0;fill:#FFFFFF;stroke:none' width='150' height='150' x='0' y='0'> </rect><path class='bond-0' d='M 27.0693,66.5883 59.1529,59.3535' style='fill:none;fill-rule:evenodd;stroke:#0000FF;stroke-width:2px;stroke-linecap:butt;stroke-linejoin:miter;stroke-opacity:1' /><path class='bond-1' d='M 72.6536,65.1446 85.1255,78.6567' style='fill:none;fill-rule:evenodd;stroke:#0000FF;stroke-width:2px;stroke-linecap:butt;stroke-linejoin:miter;stroke-opacity:1' /><path class='bond-1' d='M 85.1255,78.6567 97.5975,92.1688' style='fill:none;fill-rule:evenodd;stroke:#000000;stroke-width:2px;stroke-linecap:butt;stroke-linejoin:miter;stroke-opacity:1' /><path class='bond-2' d='M 97.5975,92.1688 143.182,81.8895' style='fill:none;fill-rule:evenodd;stroke:#000000;stroke-width:2px;stroke-linecap:butt;stroke-linejoin:miter;stroke-opacity:1' /><text x='13.5685' y='75.8987' style='font-size:15px;font-style:normal;font-weight:normal;fill-opacity:1;stroke:none;font-family:sans-serif;text-anchor:start;fill:#0000FF' ><tspan>N</tspan></text><text x='59.1529' y='65.6194' style='font-size:15px;font-style:normal;font-weight:normal;fill-opacity:1;stroke:none;font-family:sans-serif;text-anchor:start;fill:#0000FF' ><tspan>N</tspan></text></svg></td>\n",
       "    </tr>\n",
       "    <tr>\n",
       "      <th>1856304663</th>\n",
       "      <td>2.737936e-09</td>\n",
       "      <td>128</td>\n",
       "      <td>117</td>\n",
       "      <td>0.914062</td>\n",
       "      <td>0.168588</td>\n",
       "      <td>CN(C)N</td>\n",
       "      <td><?xml version='1.0' encoding='iso-8859-1'?><svg version='1.1' baseProfile='full'              xmlns='http://www.w3.org/2000/svg'                      xmlns:rdkit='http://www.rdkit.org/xml'                      xmlns:xlink='http://www.w3.org/1999/xlink'                  xml:space='preserve'width='150px' height='150px' ><!-- END OF HEADER --><rect style='opacity:1.0;fill:#FFFFFF;stroke:none' width='150' height='150' x='0' y='0'> </rect><path class='bond-0' d='M 33.5988,96.6956 89.0718,84.1864' style='fill:none;fill-rule:evenodd;stroke:#0000FF;stroke-width:2px;stroke-linecap:butt;stroke-linejoin:miter;stroke-opacity:1' /><path class='bond-1' d='M 102.073,89.7632 122.627,112.032' style='fill:none;fill-rule:evenodd;stroke:#0000FF;stroke-width:2px;stroke-linecap:butt;stroke-linejoin:miter;stroke-opacity:1' /><path class='bond-1' d='M 122.627,112.032 143.182,134.3' style='fill:none;fill-rule:evenodd;stroke:#000000;stroke-width:2px;stroke-linecap:butt;stroke-linejoin:miter;stroke-opacity:1' /><path class='bond-2' d='M 97.9073,75.2205 107.172,45.46' style='fill:none;fill-rule:evenodd;stroke:#0000FF;stroke-width:2px;stroke-linecap:butt;stroke-linejoin:miter;stroke-opacity:1' /><path class='bond-2' d='M 107.172,45.46 116.437,15.6996' style='fill:none;fill-rule:evenodd;stroke:#000000;stroke-width:2px;stroke-linecap:butt;stroke-linejoin:miter;stroke-opacity:1' /><text x='20.5976' y='105.662' style='font-size:14px;font-style:normal;font-weight:normal;fill-opacity:1;stroke:none;font-family:sans-serif;text-anchor:start;fill:#0000FF' ><tspan>N</tspan></text><text x='89.0718' y='90.2205' style='font-size:14px;font-style:normal;font-weight:normal;fill-opacity:1;stroke:none;font-family:sans-serif;text-anchor:start;fill:#0000FF' ><tspan>N</tspan></text></svg></td>\n",
       "    </tr>\n",
       "    <tr>\n",
       "      <th>4276258003</th>\n",
       "      <td>2.910665e-09</td>\n",
       "      <td>194</td>\n",
       "      <td>169</td>\n",
       "      <td>0.871134</td>\n",
       "      <td>0.243516</td>\n",
       "      <td>NN</td>\n",
       "      <td><?xml version='1.0' encoding='iso-8859-1'?><svg version='1.1' baseProfile='full'              xmlns='http://www.w3.org/2000/svg'                      xmlns:rdkit='http://www.rdkit.org/xml'                      xmlns:xlink='http://www.w3.org/1999/xlink'                  xml:space='preserve'width='150px' height='150px' ><!-- END OF HEADER --><rect style='opacity:1.0;fill:#FFFFFF;stroke:none' width='150' height='150' x='0' y='0'> </rect><path class='bond-0' d='M 66.0858,75 83.9142,75' style='fill:none;fill-rule:evenodd;stroke:#0000FF;stroke-width:2px;stroke-linecap:butt;stroke-linejoin:miter;stroke-opacity:1' /><text x='26.574' y='85.5124' style='font-size:19px;font-style:normal;font-weight:normal;fill-opacity:1;stroke:none;font-family:sans-serif;text-anchor:start;fill:#0000FF' ><tspan>H</tspan><tspan style='baseline-shift:sub;font-size:14.25px;'>2</tspan><tspan>N</tspan></text><text x='83.9142' y='85.5124' style='font-size:19px;font-style:normal;font-weight:normal;fill-opacity:1;stroke:none;font-family:sans-serif;text-anchor:start;fill:#0000FF' ><tspan>NH</tspan><tspan style='baseline-shift:sub;font-size:14.25px;'>2</tspan><tspan></tspan></text></svg></td>\n",
       "    </tr>\n",
       "    <tr>\n",
       "      <th>278227040</th>\n",
       "      <td>6.905304e-09</td>\n",
       "      <td>182</td>\n",
       "      <td>159</td>\n",
       "      <td>0.873626</td>\n",
       "      <td>0.229107</td>\n",
       "      <td>CNN</td>\n",
       "      <td><?xml version='1.0' encoding='iso-8859-1'?><svg version='1.1' baseProfile='full'              xmlns='http://www.w3.org/2000/svg'                      xmlns:rdkit='http://www.rdkit.org/xml'                      xmlns:xlink='http://www.w3.org/1999/xlink'                  xml:space='preserve'width='150px' height='150px' ><!-- END OF HEADER --><rect style='opacity:1.0;fill:#FFFFFF;stroke:none' width='150' height='150' x='0' y='0'> </rect><path class='bond-0' d='M 33.5988,63.1852 89.0718,50.6759' style='fill:none;fill-rule:evenodd;stroke:#0000FF;stroke-width:2px;stroke-linecap:butt;stroke-linejoin:miter;stroke-opacity:1' /><path class='bond-1' d='M 102.073,56.2528 122.627,78.5214' style='fill:none;fill-rule:evenodd;stroke:#0000FF;stroke-width:2px;stroke-linecap:butt;stroke-linejoin:miter;stroke-opacity:1' /><path class='bond-1' d='M 122.627,78.5214 143.182,100.79' style='fill:none;fill-rule:evenodd;stroke:#000000;stroke-width:2px;stroke-linecap:butt;stroke-linejoin:miter;stroke-opacity:1' /><text x='20.5976' y='72.151' style='font-size:14px;font-style:normal;font-weight:normal;fill-opacity:1;stroke:none;font-family:sans-serif;text-anchor:start;fill:#0000FF' ><tspan>N</tspan></text><text x='89.0718' y='56.71' style='font-size:14px;font-style:normal;font-weight:normal;fill-opacity:1;stroke:none;font-family:sans-serif;text-anchor:start;fill:#0000FF' ><tspan>N</tspan></text></svg></td>\n",
       "    </tr>\n",
       "    <tr>\n",
       "      <th>3901489279</th>\n",
       "      <td>3.072772e-07</td>\n",
       "      <td>93</td>\n",
       "      <td>86</td>\n",
       "      <td>0.924731</td>\n",
       "      <td>0.123919</td>\n",
       "      <td>CCN(C)N=O</td>\n",
       "      <td><?xml version='1.0' encoding='iso-8859-1'?><svg version='1.1' baseProfile='full'              xmlns='http://www.w3.org/2000/svg'                      xmlns:rdkit='http://www.rdkit.org/xml'                      xmlns:xlink='http://www.w3.org/1999/xlink'                  xml:space='preserve'width='150px' height='150px' ><!-- END OF HEADER --><rect style='opacity:1.0;fill:#FFFFFF;stroke:none' width='150' height='150' x='0' y='0'> </rect><path class='bond-0' d='M 21.5772,68.5804 28.736,76.3362' style='fill:none;fill-rule:evenodd;stroke:#FF0000;stroke-width:2px;stroke-linecap:butt;stroke-linejoin:miter;stroke-opacity:1' /><path class='bond-0' d='M 28.736,76.3362 35.8948,84.092' style='fill:none;fill-rule:evenodd;stroke:#0000FF;stroke-width:2px;stroke-linecap:butt;stroke-linejoin:miter;stroke-opacity:1' /><path class='bond-0' d='M 27.1151,63.4688 34.2739,71.2247' style='fill:none;fill-rule:evenodd;stroke:#FF0000;stroke-width:2px;stroke-linecap:butt;stroke-linejoin:miter;stroke-opacity:1' /><path class='bond-0' d='M 34.2739,71.2247 41.4327,78.9805' style='fill:none;fill-rule:evenodd;stroke:#0000FF;stroke-width:2px;stroke-linecap:butt;stroke-linejoin:miter;stroke-opacity:1' /><path class='bond-1' d='M 49.5505,86.2061 75.4222,80.372' style='fill:none;fill-rule:evenodd;stroke:#0000FF;stroke-width:2px;stroke-linecap:butt;stroke-linejoin:miter;stroke-opacity:1' /><path class='bond-2' d='M 86.309,85.0419 96.3662,95.9378' style='fill:none;fill-rule:evenodd;stroke:#0000FF;stroke-width:2px;stroke-linecap:butt;stroke-linejoin:miter;stroke-opacity:1' /><path class='bond-2' d='M 96.3662,95.9378 106.423,106.834' style='fill:none;fill-rule:evenodd;stroke:#000000;stroke-width:2px;stroke-linecap:butt;stroke-linejoin:miter;stroke-opacity:1' /><path class='bond-4' d='M 82.8207,72.8643 87.4435,58.0153' style='fill:none;fill-rule:evenodd;stroke:#0000FF;stroke-width:2px;stroke-linecap:butt;stroke-linejoin:miter;stroke-opacity:1' /><path class='bond-4' d='M 87.4435,58.0153 92.0663,43.1662' style='fill:none;fill-rule:evenodd;stroke:#000000;stroke-width:2px;stroke-linecap:butt;stroke-linejoin:miter;stroke-opacity:1' /><path class='bond-3' d='M 106.423,106.834 143.182,98.5447' style='fill:none;fill-rule:evenodd;stroke:#000000;stroke-width:2px;stroke-linecap:butt;stroke-linejoin:miter;stroke-opacity:1' /><text x='12.6838' y='66.0246' style='font-size:12px;font-style:normal;font-weight:normal;fill-opacity:1;stroke:none;font-family:sans-serif;text-anchor:start;fill:#FF0000' ><tspan>O</tspan></text><text x='38.6637' y='93.7138' style='font-size:12px;font-style:normal;font-weight:normal;fill-opacity:1;stroke:none;font-family:sans-serif;text-anchor:start;fill:#0000FF' ><tspan>N</tspan></text><text x='75.4222' y='85.4248' style='font-size:12px;font-style:normal;font-weight:normal;fill-opacity:1;stroke:none;font-family:sans-serif;text-anchor:start;fill:#0000FF' ><tspan>N</tspan></text></svg></td>\n",
       "    </tr>\n",
       "    <tr>\n",
       "      <th>3436234336</th>\n",
       "      <td>6.695027e-07</td>\n",
       "      <td>106</td>\n",
       "      <td>96</td>\n",
       "      <td>0.905660</td>\n",
       "      <td>0.138329</td>\n",
       "      <td>CN(C)N=O</td>\n",
       "      <td><?xml version='1.0' encoding='iso-8859-1'?><svg version='1.1' baseProfile='full'              xmlns='http://www.w3.org/2000/svg'                      xmlns:rdkit='http://www.rdkit.org/xml'                      xmlns:xlink='http://www.w3.org/1999/xlink'                  xml:space='preserve'width='150px' height='150px' ><!-- END OF HEADER --><rect style='opacity:1.0;fill:#FFFFFF;stroke:none' width='150' height='150' x='0' y='0'> </rect><path class='bond-0' d='M 27.0239,66.2113 36.8246,76.8293' style='fill:none;fill-rule:evenodd;stroke:#FF0000;stroke-width:2px;stroke-linecap:butt;stroke-linejoin:miter;stroke-opacity:1' /><path class='bond-0' d='M 36.8246,76.8293 46.6253,87.4474' style='fill:none;fill-rule:evenodd;stroke:#0000FF;stroke-width:2px;stroke-linecap:butt;stroke-linejoin:miter;stroke-opacity:1' /><path class='bond-0' d='M 34.6055,59.2134 44.4062,69.8314' style='fill:none;fill-rule:evenodd;stroke:#FF0000;stroke-width:2px;stroke-linecap:butt;stroke-linejoin:miter;stroke-opacity:1' /><path class='bond-0' d='M 44.4062,69.8314 54.2068,80.4494' style='fill:none;fill-rule:evenodd;stroke:#0000FF;stroke-width:2px;stroke-linecap:butt;stroke-linejoin:miter;stroke-opacity:1' /><path class='bond-1' d='M 65.3205,90.3416 100.74,82.3545' style='fill:none;fill-rule:evenodd;stroke:#0000FF;stroke-width:2px;stroke-linecap:butt;stroke-linejoin:miter;stroke-opacity:1' /><path class='bond-2' d='M 115.644,88.7478 129.413,103.665' style='fill:none;fill-rule:evenodd;stroke:#0000FF;stroke-width:2px;stroke-linecap:butt;stroke-linejoin:miter;stroke-opacity:1' /><path class='bond-2' d='M 129.413,103.665 143.182,118.582' style='fill:none;fill-rule:evenodd;stroke:#000000;stroke-width:2px;stroke-linecap:butt;stroke-linejoin:miter;stroke-opacity:1' /><path class='bond-3' d='M 110.869,72.0761 117.198,51.7472' style='fill:none;fill-rule:evenodd;stroke:#0000FF;stroke-width:2px;stroke-linecap:butt;stroke-linejoin:miter;stroke-opacity:1' /><path class='bond-3' d='M 117.198,51.7472 123.526,31.4183' style='fill:none;fill-rule:evenodd;stroke:#000000;stroke-width:2px;stroke-linecap:butt;stroke-linejoin:miter;stroke-opacity:1' /><text x='14.8484' y='62.7123' style='font-size:17px;font-style:normal;font-weight:normal;fill-opacity:1;stroke:none;font-family:sans-serif;text-anchor:start;fill:#FF0000' ><tspan>O</tspan></text><text x='50.4161' y='100.62' style='font-size:17px;font-style:normal;font-weight:normal;fill-opacity:1;stroke:none;font-family:sans-serif;text-anchor:start;fill:#0000FF' ><tspan>N</tspan></text><text x='100.74' y='89.272' style='font-size:17px;font-style:normal;font-weight:normal;fill-opacity:1;stroke:none;font-family:sans-serif;text-anchor:start;fill:#0000FF' ><tspan>N</tspan></text></svg></td>\n",
       "    </tr>\n",
       "    <tr>\n",
       "      <th>2414583053</th>\n",
       "      <td>2.167071e-05</td>\n",
       "      <td>46</td>\n",
       "      <td>45</td>\n",
       "      <td>0.978261</td>\n",
       "      <td>0.064841</td>\n",
       "      <td>CN(N)C=O</td>\n",
       "      <td><?xml version='1.0' encoding='iso-8859-1'?><svg version='1.1' baseProfile='full'              xmlns='http://www.w3.org/2000/svg'                      xmlns:rdkit='http://www.rdkit.org/xml'                      xmlns:xlink='http://www.w3.org/1999/xlink'                  xml:space='preserve'width='150px' height='150px' ><!-- END OF HEADER --><rect style='opacity:1.0;fill:#FFFFFF;stroke:none' width='150' height='150' x='0' y='0'> </rect><path class='bond-0' d='M 130.323,56.0982 124.159,35.1221' style='fill:none;fill-rule:evenodd;stroke:#000000;stroke-width:2px;stroke-linecap:butt;stroke-linejoin:miter;stroke-opacity:1' /><path class='bond-0' d='M 124.159,35.1221 117.994,14.1459' style='fill:none;fill-rule:evenodd;stroke:#FF0000;stroke-width:2px;stroke-linecap:butt;stroke-linejoin:miter;stroke-opacity:1' /><path class='bond-0' d='M 120.169,59.0826 114.004,38.1065' style='fill:none;fill-rule:evenodd;stroke:#000000;stroke-width:2px;stroke-linecap:butt;stroke-linejoin:miter;stroke-opacity:1' /><path class='bond-0' d='M 114.004,38.1065 107.839,17.1303' style='fill:none;fill-rule:evenodd;stroke:#FF0000;stroke-width:2px;stroke-linecap:butt;stroke-linejoin:miter;stroke-opacity:1' /><path class='bond-1' d='M 125.246,57.5904 112.493,74.1381' style='fill:none;fill-rule:evenodd;stroke:#000000;stroke-width:2px;stroke-linecap:butt;stroke-linejoin:miter;stroke-opacity:1' /><path class='bond-1' d='M 112.493,74.1381 99.7391,90.6857' style='fill:none;fill-rule:evenodd;stroke:#0000FF;stroke-width:2px;stroke-linecap:butt;stroke-linejoin:miter;stroke-opacity:1' /><path class='bond-2' d='M 85.2968,99.2892 47.6877,98.2242' style='fill:none;fill-rule:evenodd;stroke:#0000FF;stroke-width:2px;stroke-linecap:butt;stroke-linejoin:miter;stroke-opacity:1' /><path class='bond-3' d='M 98.9756,108.326 110.899,125.754' style='fill:none;fill-rule:evenodd;stroke:#0000FF;stroke-width:2px;stroke-linecap:butt;stroke-linejoin:miter;stroke-opacity:1' /><path class='bond-3' d='M 110.899,125.754 122.823,143.182' style='fill:none;fill-rule:evenodd;stroke:#000000;stroke-width:2px;stroke-linecap:butt;stroke-linejoin:miter;stroke-opacity:1' /><text x='102.087' y='15.6381' style='font-size:17px;font-style:normal;font-weight:normal;fill-opacity:1;stroke:none;font-family:sans-serif;text-anchor:start;fill:#FF0000' ><tspan>O</tspan></text><text x='85.2968' y='108.326' style='font-size:17px;font-style:normal;font-weight:normal;fill-opacity:1;stroke:none;font-family:sans-serif;text-anchor:start;fill:#0000FF' ><tspan>N</tspan></text><text x='32.3984' y='106.828' style='font-size:17px;font-style:normal;font-weight:normal;fill-opacity:1;stroke:none;font-family:sans-serif;text-anchor:start;fill:#0000FF' ><tspan>N</tspan></text></svg></td>\n",
       "    </tr>\n",
       "    <tr>\n",
       "      <th>4282884236</th>\n",
       "      <td>1.212875e-03</td>\n",
       "      <td>77</td>\n",
       "      <td>68</td>\n",
       "      <td>0.883117</td>\n",
       "      <td>0.097983</td>\n",
       "      <td>CCCNN</td>\n",
       "      <td><?xml version='1.0' encoding='iso-8859-1'?><svg version='1.1' baseProfile='full'              xmlns='http://www.w3.org/2000/svg'                      xmlns:rdkit='http://www.rdkit.org/xml'                      xmlns:xlink='http://www.w3.org/1999/xlink'                  xml:space='preserve'width='150px' height='150px' ><!-- END OF HEADER --><rect style='opacity:1.0;fill:#FFFFFF;stroke:none' width='150' height='150' x='0' y='0'> </rect><path class='bond-0' d='M 89.2668,10.7423 12.0963,30.2667' style='fill:none;fill-rule:evenodd;stroke:#000000;stroke-width:2px;stroke-linecap:butt;stroke-linejoin:miter;stroke-opacity:1' /><path class='bond-2' d='M 89.2668,10.7423 108.113,40.6724' style='fill:none;fill-rule:evenodd;stroke:#000000;stroke-width:2px;stroke-linecap:butt;stroke-linejoin:miter;stroke-opacity:1' /><path class='bond-2' d='M 108.113,40.6724 126.96,70.6024' style='fill:none;fill-rule:evenodd;stroke:#0000FF;stroke-width:2px;stroke-linecap:butt;stroke-linejoin:miter;stroke-opacity:1' /><path class='bond-1' d='M 12.0963,30.2667 6.81818,109.694' style='fill:none;fill-rule:evenodd;stroke:#000000;stroke-width:2px;stroke-linecap:butt;stroke-linejoin:miter;stroke-opacity:1' /><path class='bond-3' d='M 125.433,85.6024 86.9758,131.758' style='fill:none;fill-rule:evenodd;stroke:#0000FF;stroke-width:2px;stroke-linecap:butt;stroke-linejoin:miter;stroke-opacity:1' /><text x='125.182' y='85.6024' style='font-size:15px;font-style:normal;font-weight:normal;fill-opacity:1;stroke:none;font-family:sans-serif;text-anchor:start;fill:#0000FF' ><tspan>N</tspan></text><text x='74.226' y='146.758' style='font-size:15px;font-style:normal;font-weight:normal;fill-opacity:1;stroke:none;font-family:sans-serif;text-anchor:start;fill:#0000FF' ><tspan>N</tspan></text></svg></td>\n",
       "    </tr>\n",
       "    <tr>\n",
       "      <th>88390985</th>\n",
       "      <td>2.391244e-03</td>\n",
       "      <td>34</td>\n",
       "      <td>33</td>\n",
       "      <td>0.970588</td>\n",
       "      <td>0.047550</td>\n",
       "      <td>CCN(N)C=O</td>\n",
       "      <td><?xml version='1.0' encoding='iso-8859-1'?><svg version='1.1' baseProfile='full'              xmlns='http://www.w3.org/2000/svg'                      xmlns:rdkit='http://www.rdkit.org/xml'                      xmlns:xlink='http://www.w3.org/1999/xlink'                  xml:space='preserve'width='150px' height='150px' ><!-- END OF HEADER --><rect style='opacity:1.0;fill:#FFFFFF;stroke:none' width='150' height='150' x='0' y='0'> </rect><path class='bond-0' d='M 103.538,57.6828 97.8899,38.465' style='fill:none;fill-rule:evenodd;stroke:#000000;stroke-width:2px;stroke-linecap:butt;stroke-linejoin:miter;stroke-opacity:1' /><path class='bond-0' d='M 97.8899,38.465 92.2418,19.2473' style='fill:none;fill-rule:evenodd;stroke:#FF0000;stroke-width:2px;stroke-linecap:butt;stroke-linejoin:miter;stroke-opacity:1' /><path class='bond-0' d='M 94.2347,60.417 88.5867,41.1992' style='fill:none;fill-rule:evenodd;stroke:#000000;stroke-width:2px;stroke-linecap:butt;stroke-linejoin:miter;stroke-opacity:1' /><path class='bond-0' d='M 88.5867,41.1992 82.9386,21.9815' style='fill:none;fill-rule:evenodd;stroke:#FF0000;stroke-width:2px;stroke-linecap:butt;stroke-linejoin:miter;stroke-opacity:1' /><path class='bond-1' d='M 98.8863,59.0499 87.2019,74.2103' style='fill:none;fill-rule:evenodd;stroke:#000000;stroke-width:2px;stroke-linecap:butt;stroke-linejoin:miter;stroke-opacity:1' /><path class='bond-1' d='M 87.2019,74.2103 75.5175,89.3708' style='fill:none;fill-rule:evenodd;stroke:#0000FF;stroke-width:2px;stroke-linecap:butt;stroke-linejoin:miter;stroke-opacity:1' /><path class='bond-2' d='M 62.2859,97.253 27.8296,96.2773' style='fill:none;fill-rule:evenodd;stroke:#0000FF;stroke-width:2px;stroke-linecap:butt;stroke-linejoin:miter;stroke-opacity:1' /><path class='bond-3' d='M 74.818,105.532 85.7419,121.499' style='fill:none;fill-rule:evenodd;stroke:#0000FF;stroke-width:2px;stroke-linecap:butt;stroke-linejoin:miter;stroke-opacity:1' /><path class='bond-3' d='M 85.7419,121.499 96.6658,137.466' style='fill:none;fill-rule:evenodd;stroke:#000000;stroke-width:2px;stroke-linecap:butt;stroke-linejoin:miter;stroke-opacity:1' /><path class='bond-4' d='M 96.6658,137.466 143.182,123.795' style='fill:none;fill-rule:evenodd;stroke:#000000;stroke-width:2px;stroke-linecap:butt;stroke-linejoin:miter;stroke-opacity:1' /><text x='77.6683' y='20.6144' style='font-size:16px;font-style:normal;font-weight:normal;fill-opacity:1;stroke:none;font-family:sans-serif;text-anchor:start;fill:#FF0000' ><tspan>O</tspan></text><text x='62.2859' y='105.532' style='font-size:16px;font-style:normal;font-weight:normal;fill-opacity:1;stroke:none;font-family:sans-serif;text-anchor:start;fill:#0000FF' ><tspan>N</tspan></text><text x='13.822' y='104.16' style='font-size:16px;font-style:normal;font-weight:normal;fill-opacity:1;stroke:none;font-family:sans-serif;text-anchor:start;fill:#0000FF' ><tspan>N</tspan></text></svg></td>\n",
       "    </tr>\n",
       "    <tr>\n",
       "      <th>4236736947</th>\n",
       "      <td>3.927312e-03</td>\n",
       "      <td>73</td>\n",
       "      <td>64</td>\n",
       "      <td>0.876712</td>\n",
       "      <td>0.092219</td>\n",
       "      <td>NNC=O</td>\n",
       "      <td><?xml version='1.0' encoding='iso-8859-1'?><svg version='1.1' baseProfile='full'              xmlns='http://www.w3.org/2000/svg'                      xmlns:rdkit='http://www.rdkit.org/xml'                      xmlns:xlink='http://www.w3.org/1999/xlink'                  xml:space='preserve'width='150px' height='150px' ><!-- END OF HEADER --><rect style='opacity:1.0;fill:#FFFFFF;stroke:none' width='150' height='150' x='0' y='0'> </rect><path class='bond-0' d='M 74.9518,13.764 66.7814,34.1896' style='fill:none;fill-rule:evenodd;stroke:#FF0000;stroke-width:2px;stroke-linecap:butt;stroke-linejoin:miter;stroke-opacity:1' /><path class='bond-0' d='M 66.7814,34.1896 58.6109,54.6153' style='fill:none;fill-rule:evenodd;stroke:#000000;stroke-width:2px;stroke-linecap:butt;stroke-linejoin:miter;stroke-opacity:1' /><path class='bond-0' d='M 84.9096,17.7472 76.7391,38.1728' style='fill:none;fill-rule:evenodd;stroke:#FF0000;stroke-width:2px;stroke-linecap:butt;stroke-linejoin:miter;stroke-opacity:1' /><path class='bond-0' d='M 76.7391,38.1728 68.5686,58.5985' style='fill:none;fill-rule:evenodd;stroke:#000000;stroke-width:2px;stroke-linecap:butt;stroke-linejoin:miter;stroke-opacity:1' /><path class='bond-1' d='M 63.5898,56.6069 75.0627,74.8269' style='fill:none;fill-rule:evenodd;stroke:#000000;stroke-width:2px;stroke-linecap:butt;stroke-linejoin:miter;stroke-opacity:1' /><path class='bond-1' d='M 75.0627,74.8269 86.5356,93.0469' style='fill:none;fill-rule:evenodd;stroke:#0000FF;stroke-width:2px;stroke-linecap:butt;stroke-linejoin:miter;stroke-opacity:1' /><path class='bond-2' d='M 84.7165,110.922 65.2835,134.244' style='fill:none;fill-rule:evenodd;stroke:#0000FF;stroke-width:2px;stroke-linecap:butt;stroke-linejoin:miter;stroke-opacity:1' /><text x='75.1585' y='15.7556' style='font-size:17px;font-style:normal;font-weight:normal;fill-opacity:1;stroke:none;font-family:sans-serif;text-anchor:start;fill:#FF0000' ><tspan>O</tspan></text><text x='84.4169' y='110.922' style='font-size:17px;font-style:normal;font-weight:normal;fill-opacity:1;stroke:none;font-family:sans-serif;text-anchor:start;fill:#0000FF' ><tspan>N</tspan></text><text x='50.0902' y='152.119' style='font-size:17px;font-style:normal;font-weight:normal;fill-opacity:1;stroke:none;font-family:sans-serif;text-anchor:start;fill:#0000FF' ><tspan>N</tspan></text></svg></td>\n",
       "    </tr>\n",
       "    <tr>\n",
       "      <th>598589298</th>\n",
       "      <td>1.898520e-02</td>\n",
       "      <td>22</td>\n",
       "      <td>22</td>\n",
       "      <td>1.000000</td>\n",
       "      <td>0.031700</td>\n",
       "      <td>c-cccc[N+](=O)[O-]</td>\n",
       "      <td><?xml version='1.0' encoding='iso-8859-1'?><svg version='1.1' baseProfile='full'              xmlns='http://www.w3.org/2000/svg'                      xmlns:rdkit='http://www.rdkit.org/xml'                      xmlns:xlink='http://www.w3.org/1999/xlink'                  xml:space='preserve'width='150px' height='150px' ><!-- END OF HEADER --><rect style='opacity:1.0;fill:#FFFFFF;stroke:none' width='150' height='150' x='0' y='0'> </rect><ellipse cx='143.182' cy='55.5192' rx='6.40015' ry='6.40015' style='fill:#E5E533;fill-rule:evenodd;stroke:#E5E533;stroke-width:2px;stroke-linecap:butt;stroke-linejoin:miter;stroke-opacity:1' /><ellipse cx='114.675' cy='70.0585' rx='6.40015' ry='6.40015' style='fill:#E5E533;fill-rule:evenodd;stroke:#E5E533;stroke-width:2px;stroke-linecap:butt;stroke-linejoin:miter;stroke-opacity:1' /><ellipse cx='109.681' cy='101.667' rx='6.40015' ry='6.40015' style='fill:#E5E533;fill-rule:evenodd;stroke:#E5E533;stroke-width:2px;stroke-linecap:butt;stroke-linejoin:miter;stroke-opacity:1' /><ellipse cx='78.0764' cy='106.686' rx='6.40015' ry='6.40015' style='fill:#E5E533;fill-rule:evenodd;stroke:#E5E533;stroke-width:2px;stroke-linecap:butt;stroke-linejoin:miter;stroke-opacity:1' /><ellipse cx='63.5371' cy='78.1786' rx='6.40015' ry='6.40015' style='fill:#E5E533;fill-rule:evenodd;stroke:#E5E533;stroke-width:2px;stroke-linecap:butt;stroke-linejoin:miter;stroke-opacity:1' /><path class='bond-0' d='M 143.182,55.5192 114.675,70.0585' style='fill:none;fill-rule:evenodd;stroke:#000000;stroke-width:2px;stroke-linecap:butt;stroke-linejoin:miter;stroke-opacity:1' /><path class='bond-1' d='M 114.675,70.0585 109.681,101.667' style='fill:none;fill-rule:evenodd;stroke:#000000;stroke-width:2px;stroke-linecap:butt;stroke-linejoin:miter;stroke-opacity:1' /><path class='bond-1' d='M 120.247,75.7985 116.752,97.9246' style='fill:none;fill-rule:evenodd;stroke:#000000;stroke-width:2px;stroke-linecap:butt;stroke-linejoin:miter;stroke-opacity:1;stroke-dasharray:6,6' /><path class='bond-2' d='M 109.681,101.667 78.0764,106.686' style='fill:none;fill-rule:evenodd;stroke:#000000;stroke-width:2px;stroke-linecap:butt;stroke-linejoin:miter;stroke-opacity:1' /><path class='bond-2' d='M 103.937,96.099 81.8134,99.612' style='fill:none;fill-rule:evenodd;stroke:#000000;stroke-width:2px;stroke-linecap:butt;stroke-linejoin:miter;stroke-opacity:1;stroke-dasharray:6,6' /><path class='bond-3' d='M 78.0764,106.686 63.5371,78.1786' style='fill:none;fill-rule:evenodd;stroke:#000000;stroke-width:2px;stroke-linecap:butt;stroke-linejoin:miter;stroke-opacity:1' /><path class='bond-3' d='M 81.5969,99.5018 71.4194,79.5468' style='fill:none;fill-rule:evenodd;stroke:#000000;stroke-width:2px;stroke-linecap:butt;stroke-linejoin:miter;stroke-opacity:1;stroke-dasharray:6,6' /><path class='bond-4' d='M 63.5371,78.1786 50.9789,76.1946' style='fill:none;fill-rule:evenodd;stroke:#000000;stroke-width:2px;stroke-linecap:butt;stroke-linejoin:miter;stroke-opacity:1' /><path class='bond-4' d='M 50.9789,76.1946 38.4207,74.2107' style='fill:none;fill-rule:evenodd;stroke:#0000FF;stroke-width:2px;stroke-linecap:butt;stroke-linejoin:miter;stroke-opacity:1' /><path class='bond-5' d='M 29.6737,67.3182 26.1885,58.2497' style='fill:none;fill-rule:evenodd;stroke:#0000FF;stroke-width:2px;stroke-linecap:butt;stroke-linejoin:miter;stroke-opacity:1' /><path class='bond-5' d='M 26.1885,58.2497 22.7033,49.1811' style='fill:none;fill-rule:evenodd;stroke:#FF0000;stroke-width:2px;stroke-linecap:butt;stroke-linejoin:miter;stroke-opacity:1' /><path class='bond-6' d='M 24.6937,77.0389 19.1604,83.8774' style='fill:none;fill-rule:evenodd;stroke:#0000FF;stroke-width:2px;stroke-linecap:butt;stroke-linejoin:miter;stroke-opacity:1' /><path class='bond-6' d='M 19.1604,83.8774 13.6272,90.7159' style='fill:none;fill-rule:evenodd;stroke:#FF0000;stroke-width:2px;stroke-linecap:butt;stroke-linejoin:miter;stroke-opacity:1' /><path class='bond-6' d='M 29.6691,81.0647 24.1359,87.9032' style='fill:none;fill-rule:evenodd;stroke:#0000FF;stroke-width:2px;stroke-linecap:butt;stroke-linejoin:miter;stroke-opacity:1' /><path class='bond-6' d='M 24.1359,87.9032 18.6027,94.7416' style='fill:none;fill-rule:evenodd;stroke:#FF0000;stroke-width:2px;stroke-linecap:butt;stroke-linejoin:miter;stroke-opacity:1' /><text x='25.436' y='79.0518' style='font-size:10px;font-style:normal;font-weight:normal;fill-opacity:1;stroke:none;font-family:sans-serif;text-anchor:start;fill:#0000FF' ><tspan>N</tspan><tspan style='baseline-shift:super;font-size:7.5px;'>+</tspan><tspan></tspan></text><text x='14.4012' y='49.1811' style='font-size:10px;font-style:normal;font-weight:normal;fill-opacity:1;stroke:none;font-family:sans-serif;text-anchor:start;fill:#FF0000' ><tspan>O</tspan><tspan style='baseline-shift:super;font-size:7.5px;'>-</tspan><tspan></tspan></text><text x='6.81818' y='103.396' style='font-size:10px;font-style:normal;font-weight:normal;fill-opacity:1;stroke:none;font-family:sans-serif;text-anchor:start;fill:#FF0000' ><tspan>O</tspan></text></svg></td>\n",
       "    </tr>\n",
       "    <tr>\n",
       "      <th>477298899</th>\n",
       "      <td>2.877871e-02</td>\n",
       "      <td>21</td>\n",
       "      <td>21</td>\n",
       "      <td>1.000000</td>\n",
       "      <td>0.030259</td>\n",
       "      <td>nc-cccc[N+][O-]</td>\n",
       "      <td><?xml version='1.0' encoding='iso-8859-1'?><svg version='1.1' baseProfile='full'              xmlns='http://www.w3.org/2000/svg'                      xmlns:rdkit='http://www.rdkit.org/xml'                      xmlns:xlink='http://www.w3.org/1999/xlink'                  xml:space='preserve'width='150px' height='150px' ><!-- END OF HEADER --><rect style='opacity:1.0;fill:#FFFFFF;stroke:none' width='150' height='150' x='0' y='0'> </rect><ellipse cx='112.193' cy='58.3219' rx='5.23232' ry='5.23232' style='fill:#E5E533;fill-rule:evenodd;stroke:#E5E533;stroke-width:2px;stroke-linecap:butt;stroke-linejoin:miter;stroke-opacity:1' /><ellipse cx='135.623' cy='69.9607' rx='5.23232' ry='5.23232' style='fill:#E5E533;fill-rule:evenodd;stroke:#E5E533;stroke-width:2px;stroke-linecap:butt;stroke-linejoin:miter;stroke-opacity:1' /><ellipse cx='89.0055' cy='70.4361' rx='5.23232' ry='5.23232' style='fill:#E5E533;fill-rule:evenodd;stroke:#E5E533;stroke-width:2px;stroke-linecap:butt;stroke-linejoin:miter;stroke-opacity:1' /><ellipse cx='85.1766' cy='96.316' rx='5.23232' ry='5.23232' style='fill:#E5E533;fill-rule:evenodd;stroke:#E5E533;stroke-width:2px;stroke-linecap:butt;stroke-linejoin:miter;stroke-opacity:1' /><ellipse cx='59.3802' cy='100.672' rx='5.23232' ry='5.23232' style='fill:#E5E533;fill-rule:evenodd;stroke:#E5E533;stroke-width:2px;stroke-linecap:butt;stroke-linejoin:miter;stroke-opacity:1' /><ellipse cx='47.266' cy='77.4841' rx='5.23232' ry='5.23232' style='fill:#E5E533;fill-rule:evenodd;stroke:#E5E533;stroke-width:2px;stroke-linecap:butt;stroke-linejoin:miter;stroke-opacity:1' /><path class='bond-0' d='M 112.193,58.3219 122.019,63.2027' style='fill:none;fill-rule:evenodd;stroke:#000000;stroke-width:2px;stroke-linecap:butt;stroke-linejoin:miter;stroke-opacity:1' /><path class='bond-0' d='M 122.019,63.2027 131.844,68.0834' style='fill:none;fill-rule:evenodd;stroke:#0000FF;stroke-width:2px;stroke-linecap:butt;stroke-linejoin:miter;stroke-opacity:1' /><path class='bond-0' d='M 112.813,64.4722 119.691,67.8887' style='fill:none;fill-rule:evenodd;stroke:#000000;stroke-width:2px;stroke-linecap:butt;stroke-linejoin:miter;stroke-opacity:1;stroke-dasharray:6,6' /><path class='bond-0' d='M 119.691,67.8887 126.569,71.3052' style='fill:none;fill-rule:evenodd;stroke:#0000FF;stroke-width:2px;stroke-linecap:butt;stroke-linejoin:miter;stroke-opacity:1;stroke-dasharray:6,6' /><path class='bond-1' d='M 112.193,58.3219 89.0055,70.4361' style='fill:none;fill-rule:evenodd;stroke:#000000;stroke-width:2px;stroke-linecap:butt;stroke-linejoin:miter;stroke-opacity:1' /><path class='bond-2' d='M 89.0055,70.4361 85.1766,96.316' style='fill:none;fill-rule:evenodd;stroke:#000000;stroke-width:2px;stroke-linecap:butt;stroke-linejoin:miter;stroke-opacity:1' /><path class='bond-2' d='M 93.6071,75.0839 90.9269,93.1998' style='fill:none;fill-rule:evenodd;stroke:#000000;stroke-width:2px;stroke-linecap:butt;stroke-linejoin:miter;stroke-opacity:1;stroke-dasharray:6,6' /><path class='bond-3' d='M 85.1766,96.316 59.3802,100.672' style='fill:none;fill-rule:evenodd;stroke:#000000;stroke-width:2px;stroke-linecap:butt;stroke-linejoin:miter;stroke-opacity:1' /><path class='bond-3' d='M 80.436,91.8101 62.3785,94.8592' style='fill:none;fill-rule:evenodd;stroke:#000000;stroke-width:2px;stroke-linecap:butt;stroke-linejoin:miter;stroke-opacity:1;stroke-dasharray:6,6' /><path class='bond-4' d='M 59.3802,100.672 47.266,77.4841' style='fill:none;fill-rule:evenodd;stroke:#000000;stroke-width:2px;stroke-linecap:butt;stroke-linejoin:miter;stroke-opacity:1' /><path class='bond-4' d='M 62.2006,94.7709 53.7207,78.5394' style='fill:none;fill-rule:evenodd;stroke:#000000;stroke-width:2px;stroke-linecap:butt;stroke-linejoin:miter;stroke-opacity:1;stroke-dasharray:6,6' /><path class='bond-5' d='M 47.266,77.4841 36.9799,75.9623' style='fill:none;fill-rule:evenodd;stroke:#000000;stroke-width:2px;stroke-linecap:butt;stroke-linejoin:miter;stroke-opacity:1' /><path class='bond-5' d='M 36.9799,75.9623 26.6938,74.4405' style='fill:none;fill-rule:evenodd;stroke:#0000FF;stroke-width:2px;stroke-linecap:butt;stroke-linejoin:miter;stroke-opacity:1' /><path class='bond-6' d='M 19.4887,68.8589 16.5741,61.4917' style='fill:none;fill-rule:evenodd;stroke:#0000FF;stroke-width:2px;stroke-linecap:butt;stroke-linejoin:miter;stroke-opacity:1' /><path class='bond-6' d='M 16.5741,61.4917 13.6595,54.1244' style='fill:none;fill-rule:evenodd;stroke:#FF0000;stroke-width:2px;stroke-linecap:butt;stroke-linejoin:miter;stroke-opacity:1' /><text x='131.844' y='74.321' style='font-size:8px;font-style:normal;font-weight:normal;fill-opacity:1;stroke:none;font-family:sans-serif;text-anchor:start;fill:#0000FF' ><tspan>N</tspan></text><text x='16.0784' y='78.4515' style='font-size:8px;font-style:normal;font-weight:normal;fill-opacity:1;stroke:none;font-family:sans-serif;text-anchor:start;fill:#0000FF' ><tspan>N</tspan><tspan style='baseline-shift:super;font-size:6px;'>+</tspan><tspan></tspan></text><text x='6.81818' y='54.1244' style='font-size:8px;font-style:normal;font-weight:normal;fill-opacity:1;stroke:none;font-family:sans-serif;text-anchor:start;fill:#FF0000' ><tspan>O</tspan><tspan style='baseline-shift:super;font-size:6px;'>-</tspan><tspan></tspan></text></svg></td>\n",
       "    </tr>\n",
       "    <tr>\n",
       "      <th>2692575702</th>\n",
       "      <td>2.877871e-02</td>\n",
       "      <td>21</td>\n",
       "      <td>21</td>\n",
       "      <td>1.000000</td>\n",
       "      <td>0.030259</td>\n",
       "      <td>nc-cccc[N+]=O</td>\n",
       "      <td><?xml version='1.0' encoding='iso-8859-1'?><svg version='1.1' baseProfile='full'              xmlns='http://www.w3.org/2000/svg'                      xmlns:rdkit='http://www.rdkit.org/xml'                      xmlns:xlink='http://www.w3.org/1999/xlink'                  xml:space='preserve'width='150px' height='150px' ><!-- END OF HEADER --><rect style='opacity:1.0;fill:#FFFFFF;stroke:none' width='150' height='150' x='0' y='0'> </rect><ellipse cx='113.449' cy='54.6833' rx='5.02025' ry='5.02025' style='fill:#E5E533;fill-rule:evenodd;stroke:#E5E533;stroke-width:2px;stroke-linecap:butt;stroke-linejoin:miter;stroke-opacity:1' /><ellipse cx='135.93' cy='65.8503' rx='5.02025' ry='5.02025' style='fill:#E5E533;fill-rule:evenodd;stroke:#E5E533;stroke-width:2px;stroke-linecap:butt;stroke-linejoin:miter;stroke-opacity:1' /><ellipse cx='91.2012' cy='66.3065' rx='5.02025' ry='5.02025' style='fill:#E5E533;fill-rule:evenodd;stroke:#E5E533;stroke-width:2px;stroke-linecap:butt;stroke-linejoin:miter;stroke-opacity:1' /><ellipse cx='87.5276' cy='91.1374' rx='5.02025' ry='5.02025' style='fill:#E5E533;fill-rule:evenodd;stroke:#E5E533;stroke-width:2px;stroke-linecap:butt;stroke-linejoin:miter;stroke-opacity:1' /><ellipse cx='62.7767' cy='95.3167' rx='5.02025' ry='5.02025' style='fill:#E5E533;fill-rule:evenodd;stroke:#E5E533;stroke-width:2px;stroke-linecap:butt;stroke-linejoin:miter;stroke-opacity:1' /><ellipse cx='51.1535' cy='73.0687' rx='5.02025' ry='5.02025' style='fill:#E5E533;fill-rule:evenodd;stroke:#E5E533;stroke-width:2px;stroke-linecap:butt;stroke-linejoin:miter;stroke-opacity:1' /><path class='bond-0' d='M 113.449,54.6833 122.876,59.3662' style='fill:none;fill-rule:evenodd;stroke:#000000;stroke-width:2px;stroke-linecap:butt;stroke-linejoin:miter;stroke-opacity:1' /><path class='bond-0' d='M 122.876,59.3662 132.304,64.0491' style='fill:none;fill-rule:evenodd;stroke:#0000FF;stroke-width:2px;stroke-linecap:butt;stroke-linejoin:miter;stroke-opacity:1' /><path class='bond-0' d='M 114.044,60.5842 120.643,63.8623' style='fill:none;fill-rule:evenodd;stroke:#000000;stroke-width:2px;stroke-linecap:butt;stroke-linejoin:miter;stroke-opacity:1;stroke-dasharray:6,6' /><path class='bond-0' d='M 120.643,63.8623 127.242,67.1403' style='fill:none;fill-rule:evenodd;stroke:#0000FF;stroke-width:2px;stroke-linecap:butt;stroke-linejoin:miter;stroke-opacity:1;stroke-dasharray:6,6' /><path class='bond-1' d='M 113.449,54.6833 91.2012,66.3065' style='fill:none;fill-rule:evenodd;stroke:#000000;stroke-width:2px;stroke-linecap:butt;stroke-linejoin:miter;stroke-opacity:1' /><path class='bond-2' d='M 91.2012,66.3065 87.5276,91.1374' style='fill:none;fill-rule:evenodd;stroke:#000000;stroke-width:2px;stroke-linecap:butt;stroke-linejoin:miter;stroke-opacity:1' /><path class='bond-2' d='M 95.6164,70.7658 93.0448,88.1475' style='fill:none;fill-rule:evenodd;stroke:#000000;stroke-width:2px;stroke-linecap:butt;stroke-linejoin:miter;stroke-opacity:1;stroke-dasharray:6,6' /><path class='bond-3' d='M 87.5276,91.1374 62.7767,95.3167' style='fill:none;fill-rule:evenodd;stroke:#000000;stroke-width:2px;stroke-linecap:butt;stroke-linejoin:miter;stroke-opacity:1' /><path class='bond-3' d='M 82.9791,86.8142 65.6534,89.7397' style='fill:none;fill-rule:evenodd;stroke:#000000;stroke-width:2px;stroke-linecap:butt;stroke-linejoin:miter;stroke-opacity:1;stroke-dasharray:6,6' /><path class='bond-4' d='M 62.7767,95.3167 51.1535,73.0687' style='fill:none;fill-rule:evenodd;stroke:#000000;stroke-width:2px;stroke-linecap:butt;stroke-linejoin:miter;stroke-opacity:1' /><path class='bond-4' d='M 65.4828,89.6549 57.3465,74.0813' style='fill:none;fill-rule:evenodd;stroke:#000000;stroke-width:2px;stroke-linecap:butt;stroke-linejoin:miter;stroke-opacity:1;stroke-dasharray:6,6' /><path class='bond-5' d='M 51.1535,73.0687 41.2843,71.6086' style='fill:none;fill-rule:evenodd;stroke:#000000;stroke-width:2px;stroke-linecap:butt;stroke-linejoin:miter;stroke-opacity:1' /><path class='bond-5' d='M 41.2843,71.6086 31.4151,70.1485' style='fill:none;fill-rule:evenodd;stroke:#0000FF;stroke-width:2px;stroke-linecap:butt;stroke-linejoin:miter;stroke-opacity:1' /><path class='bond-6' d='M 20.7063,72.4373 16.3914,77.8782' style='fill:none;fill-rule:evenodd;stroke:#0000FF;stroke-width:2px;stroke-linecap:butt;stroke-linejoin:miter;stroke-opacity:1' /><path class='bond-6' d='M 16.3914,77.8782 12.0765,83.3192' style='fill:none;fill-rule:evenodd;stroke:#FF0000;stroke-width:2px;stroke-linecap:butt;stroke-linejoin:miter;stroke-opacity:1' /><path class='bond-6' d='M 24.6398,75.5567 20.3248,80.9976' style='fill:none;fill-rule:evenodd;stroke:#0000FF;stroke-width:2px;stroke-linecap:butt;stroke-linejoin:miter;stroke-opacity:1' /><path class='bond-6' d='M 20.3248,80.9976 16.0099,86.4386' style='fill:none;fill-rule:evenodd;stroke:#FF0000;stroke-width:2px;stroke-linecap:butt;stroke-linejoin:miter;stroke-opacity:1' /><text x='132.304' y='70.0339' style='font-size:8px;font-style:normal;font-weight:normal;fill-opacity:1;stroke:none;font-family:sans-serif;text-anchor:start;fill:#0000FF' ><tspan>N</tspan></text><text x='21.2299' y='73.997' style='font-size:8px;font-style:normal;font-weight:normal;fill-opacity:1;stroke:none;font-family:sans-serif;text-anchor:start;fill:#0000FF' ><tspan>N</tspan><tspan style='baseline-shift:super;font-size:6px;'>+</tspan><tspan></tspan></text><text x='6.81818' y='93.246' style='font-size:8px;font-style:normal;font-weight:normal;fill-opacity:1;stroke:none;font-family:sans-serif;text-anchor:start;fill:#FF0000' ><tspan>O</tspan></text></svg></td>\n",
       "    </tr>\n",
       "    <tr>\n",
       "      <th>2351186654</th>\n",
       "      <td>3.541066e-02</td>\n",
       "      <td>27</td>\n",
       "      <td>26</td>\n",
       "      <td>0.962963</td>\n",
       "      <td>0.037464</td>\n",
       "      <td>CN(N=O)C(N)=O</td>\n",
       "      <td><?xml version='1.0' encoding='iso-8859-1'?><svg version='1.1' baseProfile='full'              xmlns='http://www.w3.org/2000/svg'                      xmlns:rdkit='http://www.rdkit.org/xml'                      xmlns:xlink='http://www.w3.org/1999/xlink'                  xml:space='preserve'width='150px' height='150px' ><!-- END OF HEADER --><rect style='opacity:1.0;fill:#FFFFFF;stroke:none' width='150' height='150' x='0' y='0'> </rect><path class='bond-0' d='M 6.81818,54.2581 21.7849,62.8991' style='fill:none;fill-rule:evenodd;stroke:#000000;stroke-width:2px;stroke-linecap:butt;stroke-linejoin:miter;stroke-opacity:1' /><path class='bond-0' d='M 21.7849,62.8991 36.7516,71.5401' style='fill:none;fill-rule:evenodd;stroke:#0000FF;stroke-width:2px;stroke-linecap:butt;stroke-linejoin:miter;stroke-opacity:1' /><path class='bond-1' d='M 42.7442,81.914 42.7442,109.57' style='fill:none;fill-rule:evenodd;stroke:#0000FF;stroke-width:2px;stroke-linecap:butt;stroke-linejoin:miter;stroke-opacity:1' /><path class='bond-3' d='M 48.7369,71.5401 63.7036,62.8991' style='fill:none;fill-rule:evenodd;stroke:#0000FF;stroke-width:2px;stroke-linecap:butt;stroke-linejoin:miter;stroke-opacity:1' /><path class='bond-3' d='M 63.7036,62.8991 78.6703,54.2581' style='fill:none;fill-rule:evenodd;stroke:#000000;stroke-width:2px;stroke-linecap:butt;stroke-linejoin:miter;stroke-opacity:1' /><path class='bond-2' d='M 46.6627,123.536 58.4007,130.313' style='fill:none;fill-rule:evenodd;stroke:#0000FF;stroke-width:2px;stroke-linecap:butt;stroke-linejoin:miter;stroke-opacity:1' /><path class='bond-2' d='M 58.4007,130.313 70.1386,137.09' style='fill:none;fill-rule:evenodd;stroke:#FF0000;stroke-width:2px;stroke-linecap:butt;stroke-linejoin:miter;stroke-opacity:1' /><path class='bond-2' d='M 50.8111,116.351 62.549,123.128' style='fill:none;fill-rule:evenodd;stroke:#0000FF;stroke-width:2px;stroke-linecap:butt;stroke-linejoin:miter;stroke-opacity:1' /><path class='bond-2' d='M 62.549,123.128 74.287,129.905' style='fill:none;fill-rule:evenodd;stroke:#FF0000;stroke-width:2px;stroke-linecap:butt;stroke-linejoin:miter;stroke-opacity:1' /><path class='bond-4' d='M 78.6703,54.2581 90.0469,60.8264' style='fill:none;fill-rule:evenodd;stroke:#000000;stroke-width:2px;stroke-linecap:butt;stroke-linejoin:miter;stroke-opacity:1' /><path class='bond-4' d='M 90.0469,60.8264 101.423,67.3946' style='fill:none;fill-rule:evenodd;stroke:#0000FF;stroke-width:2px;stroke-linecap:butt;stroke-linejoin:miter;stroke-opacity:1' /><path class='bond-5' d='M 82.8187,54.2581 82.8187,36.9732' style='fill:none;fill-rule:evenodd;stroke:#000000;stroke-width:2px;stroke-linecap:butt;stroke-linejoin:miter;stroke-opacity:1' /><path class='bond-5' d='M 82.8187,36.9732 82.8187,19.6882' style='fill:none;fill-rule:evenodd;stroke:#FF0000;stroke-width:2px;stroke-linecap:butt;stroke-linejoin:miter;stroke-opacity:1' /><path class='bond-5' d='M 74.5219,54.2581 74.5219,36.9732' style='fill:none;fill-rule:evenodd;stroke:#000000;stroke-width:2px;stroke-linecap:butt;stroke-linejoin:miter;stroke-opacity:1' /><path class='bond-5' d='M 74.5219,36.9732 74.5219,19.6882' style='fill:none;fill-rule:evenodd;stroke:#FF0000;stroke-width:2px;stroke-linecap:butt;stroke-linejoin:miter;stroke-opacity:1' /><text x='36.7516' y='81.914' style='font-size:13px;font-style:normal;font-weight:normal;fill-opacity:1;stroke:none;font-family:sans-serif;text-anchor:start;fill:#0000FF' ><tspan>N</tspan></text><text x='36.7516' y='123.398' style='font-size:13px;font-style:normal;font-weight:normal;fill-opacity:1;stroke:none;font-family:sans-serif;text-anchor:start;fill:#0000FF' ><tspan>N</tspan></text><text x='72.2128' y='144.14' style='font-size:13px;font-style:normal;font-weight:normal;fill-opacity:1;stroke:none;font-family:sans-serif;text-anchor:start;fill:#FF0000' ><tspan>O</tspan></text><text x='100.304' y='82.6054' style='font-size:13px;font-style:normal;font-weight:normal;fill-opacity:1;stroke:none;font-family:sans-serif;text-anchor:start;fill:#0000FF' ><tspan>NH</tspan><tspan style='baseline-shift:sub;font-size:9.75px;'>2</tspan><tspan></tspan></text><text x='72.2128' y='19.6882' style='font-size:13px;font-style:normal;font-weight:normal;fill-opacity:1;stroke:none;font-family:sans-serif;text-anchor:start;fill:#FF0000' ><tspan>O</tspan></text></svg></td>\n",
       "    </tr>\n",
       "    <tr>\n",
       "      <th>1562664461</th>\n",
       "      <td>4.116089e-02</td>\n",
       "      <td>47</td>\n",
       "      <td>42</td>\n",
       "      <td>0.893617</td>\n",
       "      <td>0.060519</td>\n",
       "      <td>CCN(CC)N=O</td>\n",
       "      <td><?xml version='1.0' encoding='iso-8859-1'?><svg version='1.1' baseProfile='full'              xmlns='http://www.w3.org/2000/svg'                      xmlns:rdkit='http://www.rdkit.org/xml'                      xmlns:xlink='http://www.w3.org/1999/xlink'                  xml:space='preserve'width='150px' height='150px' ><!-- END OF HEADER --><rect style='opacity:1.0;fill:#FFFFFF;stroke:none' width='150' height='150' x='0' y='0'> </rect><path class='bond-0' d='M 21.5772,72.7249 28.736,80.4808' style='fill:none;fill-rule:evenodd;stroke:#FF0000;stroke-width:2px;stroke-linecap:butt;stroke-linejoin:miter;stroke-opacity:1' /><path class='bond-0' d='M 28.736,80.4808 35.8948,88.2366' style='fill:none;fill-rule:evenodd;stroke:#0000FF;stroke-width:2px;stroke-linecap:butt;stroke-linejoin:miter;stroke-opacity:1' /><path class='bond-0' d='M 27.1151,67.6134 34.2739,75.3692' style='fill:none;fill-rule:evenodd;stroke:#FF0000;stroke-width:2px;stroke-linecap:butt;stroke-linejoin:miter;stroke-opacity:1' /><path class='bond-0' d='M 34.2739,75.3692 41.4327,83.125' style='fill:none;fill-rule:evenodd;stroke:#0000FF;stroke-width:2px;stroke-linecap:butt;stroke-linejoin:miter;stroke-opacity:1' /><path class='bond-1' d='M 49.5505,90.3506 75.4222,84.5166' style='fill:none;fill-rule:evenodd;stroke:#0000FF;stroke-width:2px;stroke-linecap:butt;stroke-linejoin:miter;stroke-opacity:1' /><path class='bond-2' d='M 86.309,89.1864 96.3662,100.082' style='fill:none;fill-rule:evenodd;stroke:#0000FF;stroke-width:2px;stroke-linecap:butt;stroke-linejoin:miter;stroke-opacity:1' /><path class='bond-2' d='M 96.3662,100.082 106.423,110.978' style='fill:none;fill-rule:evenodd;stroke:#000000;stroke-width:2px;stroke-linecap:butt;stroke-linejoin:miter;stroke-opacity:1' /><path class='bond-4' d='M 82.8207,77.0088 87.4435,62.1598' style='fill:none;fill-rule:evenodd;stroke:#0000FF;stroke-width:2px;stroke-linecap:butt;stroke-linejoin:miter;stroke-opacity:1' /><path class='bond-4' d='M 87.4435,62.1598 92.0663,47.3108' style='fill:none;fill-rule:evenodd;stroke:#000000;stroke-width:2px;stroke-linecap:butt;stroke-linejoin:miter;stroke-opacity:1' /><path class='bond-3' d='M 106.423,110.978 143.182,102.689' style='fill:none;fill-rule:evenodd;stroke:#000000;stroke-width:2px;stroke-linecap:butt;stroke-linejoin:miter;stroke-opacity:1' /><path class='bond-5' d='M 92.0663,47.3108 128.825,39.0217' style='fill:none;fill-rule:evenodd;stroke:#000000;stroke-width:2px;stroke-linecap:butt;stroke-linejoin:miter;stroke-opacity:1' /><text x='12.6838' y='70.1692' style='font-size:12px;font-style:normal;font-weight:normal;fill-opacity:1;stroke:none;font-family:sans-serif;text-anchor:start;fill:#FF0000' ><tspan>O</tspan></text><text x='38.6637' y='97.8584' style='font-size:12px;font-style:normal;font-weight:normal;fill-opacity:1;stroke:none;font-family:sans-serif;text-anchor:start;fill:#0000FF' ><tspan>N</tspan></text><text x='75.4222' y='89.5693' style='font-size:12px;font-style:normal;font-weight:normal;fill-opacity:1;stroke:none;font-family:sans-serif;text-anchor:start;fill:#0000FF' ><tspan>N</tspan></text></svg></td>\n",
       "    </tr>\n",
       "  </tbody>\n",
       "</table>"
      ],
      "text/plain": [
       "<IPython.core.display.HTML object>"
      ]
     },
     "execution_count": 8,
     "metadata": {},
     "output_type": "execute_result"
    }
   ],
   "source": [
    "# Visualizing Path fragments\n",
    "IPython.display.HTML(sigPathPvalue.to_html(escape=False))"
   ]
  },
  {
   "cell_type": "code",
   "execution_count": 9,
   "metadata": {
    "ExecuteTime": {
     "end_time": "2020-09-23T06:41:49.186435Z",
     "start_time": "2020-09-23T06:41:49.160475Z"
    }
   },
   "outputs": [],
   "source": [
    "nCir = len(sigCirPvalue)\n",
    "nFG = len(sigFgPvalue)\n",
    "nPath = len(sigPathPvalue)\n",
    "nEnsemble = nCir + nFG + nPath\n",
    "\n",
    "cirFlagged = sigCirMatrix.sum(axis=1)>0\n",
    "cirFlaggedTox = cirFlagged[labels==1]\n",
    "\n",
    "FgFlagged = sigFgMatrix.sum(axis=1)>0\n",
    "FgFlaggedTox = FgFlagged[labels==1]\n",
    "\n",
    "PathFlagged = sigPathMatrix.sum(axis=1)>0\n",
    "PathFlaggedTox = PathFlagged[labels==1]\n",
    "\n",
    "ensembleFlagged = cirFlagged | FgFlagged | PathFlagged\n",
    "ensembleFlaggedTox = ensembleFlagged[labels==1]\n",
    "\n",
    "res = pd.DataFrame(\n",
    "    {\n",
    "        \"Substructure\": [nCir, nFG, nPath, nEnsemble],\n",
    "        \"Flagged compounds\": [cirFlagged.sum(), FgFlagged.sum(), PathFlagged.sum(), ensembleFlagged.sum()],\n",
    "        \"Flagged toxic compounds\": [cirFlaggedTox.sum(), FgFlaggedTox.sum(), PathFlaggedTox.sum(), ensembleFlaggedTox.sum()],\n",
    "    },\n",
    "    \n",
    "    index = [\"Circular algorithm\", \"Functional group\", \"Path algorithm\", \"Ensemble\"]\n",
    "    \n",
    ")\n",
    "\n",
    "res[\"Accuracy\"] = res[\"Flagged toxic compounds\"]/res[\"Flagged compounds\"]"
   ]
  },
  {
   "cell_type": "markdown",
   "metadata": {},
   "source": [
    "### Result 1"
   ]
  },
  {
   "cell_type": "code",
   "execution_count": 10,
   "metadata": {
    "ExecuteTime": {
     "end_time": "2020-09-23T06:41:51.272642Z",
     "start_time": "2020-09-23T06:41:51.254696Z"
    },
    "scrolled": false
   },
   "outputs": [
    {
     "data": {
      "text/html": [
       "<div>\n",
       "<style scoped>\n",
       "    .dataframe tbody tr th:only-of-type {\n",
       "        vertical-align: middle;\n",
       "    }\n",
       "\n",
       "    .dataframe tbody tr th {\n",
       "        vertical-align: top;\n",
       "    }\n",
       "\n",
       "    .dataframe thead th {\n",
       "        text-align: right;\n",
       "    }\n",
       "</style>\n",
       "<table border=\"1\" class=\"dataframe\">\n",
       "  <thead>\n",
       "    <tr style=\"text-align: right;\">\n",
       "      <th></th>\n",
       "      <th>Substructure</th>\n",
       "      <th>Flagged compounds</th>\n",
       "      <th>Flagged toxic compounds</th>\n",
       "      <th>Accuracy</th>\n",
       "    </tr>\n",
       "  </thead>\n",
       "  <tbody>\n",
       "    <tr>\n",
       "      <th>Circular algorithm</th>\n",
       "      <td>7</td>\n",
       "      <td>266</td>\n",
       "      <td>228</td>\n",
       "      <td>0.857143</td>\n",
       "    </tr>\n",
       "    <tr>\n",
       "      <th>Functional group</th>\n",
       "      <td>3</td>\n",
       "      <td>218</td>\n",
       "      <td>183</td>\n",
       "      <td>0.839450</td>\n",
       "    </tr>\n",
       "    <tr>\n",
       "      <th>Path algorithm</th>\n",
       "      <td>15</td>\n",
       "      <td>211</td>\n",
       "      <td>186</td>\n",
       "      <td>0.881517</td>\n",
       "    </tr>\n",
       "    <tr>\n",
       "      <th>Ensemble</th>\n",
       "      <td>25</td>\n",
       "      <td>348</td>\n",
       "      <td>295</td>\n",
       "      <td>0.847701</td>\n",
       "    </tr>\n",
       "  </tbody>\n",
       "</table>\n",
       "</div>"
      ],
      "text/plain": [
       "                    Substructure  Flagged compounds  Flagged toxic compounds  \\\n",
       "Circular algorithm  7             266                228                       \n",
       "Functional group    3             218                183                       \n",
       "Path algorithm      15            211                186                       \n",
       "Ensemble            25            348                295                       \n",
       "\n",
       "                    Accuracy  \n",
       "Circular algorithm  0.857143  \n",
       "Functional group    0.839450  \n",
       "Path algorithm      0.881517  \n",
       "Ensemble            0.847701  "
      ]
     },
     "execution_count": 10,
     "metadata": {},
     "output_type": "execute_result"
    }
   ],
   "source": [
    "res"
   ]
  },
  {
   "cell_type": "markdown",
   "metadata": {},
   "source": [
    "As shown in [Result 1](#Result-1), for individual substructure algorithm, the correction rates are all higher than 0.83, with the successful detection of more than 180 carcinogenicity toxic compounds. The detection coverage can be wider with the integration of three type substructures, which can accurately detect 326 carcinogenicity toxic compounds by only 26 alerts. These results indicate the advantages of the combination of different substructure algorithms, which can capture the distinct substructures and structural features from different viewpoints.<br>\n",
    "Besides, there are also some structural features that have been frequently presented in different types of substructures. For example, 1-nitrocyclopenta-1,3-diene have been detected in 28 carcinogenicity toxic compounds, with accuracy value higher than 0.900. The Metabolic activation of such substructures involves initial one-electron reduction of the nitro group to yield a resonance-stabilized nitroanion radical. Under aerobic conditions, the radical can reduce molecular oxygen to form the superoxide anion, which can generate various toxic and DNA-reactive oxygen species (Benigni and Bossa, 2011). Another representative toxicophore 2-nitrosobutane, appeared in 23 carcinogenicity toxic compounds, with accuracy value of 1.00. The mechanism of action of such substructure has not been clearly understood. It is proposed a nonalkylating mechanism, with formaldehyde as the suggested intermediate responsible for mutagenicity, after oxidation of N-nitrodimethy-lamine at the methyl group. Such analysis indicated that the credibility and interpretability of the generated substructures. "
   ]
  }
 ],
 "metadata": {
  "kernelspec": {
   "display_name": "Python 3",
   "language": "python",
   "name": "python3"
  },
  "language_info": {
   "codemirror_mode": {
    "name": "ipython",
    "version": 3
   },
   "file_extension": ".py",
   "mimetype": "text/x-python",
   "name": "python",
   "nbconvert_exporter": "python",
   "pygments_lexer": "ipython3",
   "version": "3.7.3"
  },
  "varInspector": {
   "cols": {
    "lenName": 16,
    "lenType": 16,
    "lenVar": 40
   },
   "kernels_config": {
    "python": {
     "delete_cmd_postfix": "",
     "delete_cmd_prefix": "del ",
     "library": "var_list.py",
     "varRefreshCmd": "print(var_dic_list())"
    },
    "r": {
     "delete_cmd_postfix": ") ",
     "delete_cmd_prefix": "rm(",
     "library": "var_list.r",
     "varRefreshCmd": "cat(var_dic_list()) "
    }
   },
   "types_to_exclude": [
    "module",
    "function",
    "builtin_function_or_method",
    "instance",
    "_Feature"
   ],
   "window_display": false
  }
 },
 "nbformat": 4,
 "nbformat_minor": 2
}
