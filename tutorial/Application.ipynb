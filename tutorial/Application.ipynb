{
 "cells": [
  {
   "cell_type": "markdown",
   "metadata": {},
   "source": [
    "# Application\n",
    "\n",
    "In order to obtain a better understanding of **pySmash** and its application, we introduce an examples to show a regular significant fragment extracting process. We will show the workflow of **pySmash** in *package* and *software*."
   ]
  },
  {
   "cell_type": "markdown",
   "metadata": {},
   "source": [
    "<img src=\"image/flow.png\" style=\"margin-bottom:-3px\" width=\"800\" align=\"Center\">"
   ]
  },
  {
   "cell_type": "markdown",
   "metadata": {},
   "source": [
    "## Generating Significant Fragment for Chemical Carcinogens"
   ]
  },
  {
   "cell_type": "code",
   "execution_count": 118,
   "metadata": {
    "ExecuteTime": {
     "end_time": "2020-08-29T02:19:35.468285Z",
     "start_time": "2020-08-29T02:19:35.454693Z"
    }
   },
   "outputs": [],
   "source": [
    "# rdkit\n",
    "from rdkit import Chem\n",
    "# science modules\n",
    "import pandas as pd\n",
    "import numpy as np\n",
    "# visualization\n",
    "import matplotlib.pyplot as plt\n",
    "import matplotlib.lines as mlines\n",
    "from matplotlib.legend import Legend\n",
    "import IPython\n",
    "# Machine learning, for comparing\n",
    "from sklearn.metrics import accuracy_score, precision_score, recall_score\n",
    "from imblearn.metrics import specificity_score, sensitivity_score\n",
    "from sklearn.model_selection import train_test_split\n",
    "from xgboost import XGBClassifier\n",
    "# Fragment generating modules\n",
    "from smash import CircularLearner, PathLeanrner, FunctionGroupLearner\n",
    "\n",
    "\n",
    "def buildXgbModel(X_train, y_train, **kwagrs):\n",
    "    \n",
    "    model = XGBClassifier(**kwagrs)\n",
    "    model.fit(X_train, y_train)\n",
    "    \n",
    "    return model\n",
    "    \n",
    "def evaluateModel(y_true, y_pred):\n",
    "    \n",
    "#     y_pred = kwagrs.get('y_pred') or traindedModel.predict(X_test)\n",
    "    \n",
    "    acc = round(accuracy_score(y_true, y_pred), 3)\n",
    "    sen = round(sensitivity_score(y_true, y_pred), 3)\n",
    "    spe = round(specificity_score(y_true, y_pred), 3)\n",
    "    pre = round(precision_score(y_true, y_pred), 3)\n",
    "    \n",
    "    return dict(zip(['Accurary', 'Sensitivity', 'Specificity', 'Precision'],\n",
    "                    [acc, sen, spe, pre]))"
   ]
  },
  {
   "cell_type": "code",
   "execution_count": 10,
   "metadata": {
    "ExecuteTime": {
     "end_time": "2020-08-29T01:04:07.447697Z",
     "start_time": "2020-08-29T01:04:07.405323Z"
    },
    "scrolled": true
   },
   "outputs": [
    {
     "data": {
      "text/html": [
       "<div>\n",
       "<style scoped>\n",
       "    .dataframe tbody tr th:only-of-type {\n",
       "        vertical-align: middle;\n",
       "    }\n",
       "\n",
       "    .dataframe tbody tr th {\n",
       "        vertical-align: top;\n",
       "    }\n",
       "\n",
       "    .dataframe thead th {\n",
       "        text-align: right;\n",
       "    }\n",
       "</style>\n",
       "<table border=\"1\" class=\"dataframe\">\n",
       "  <thead>\n",
       "    <tr style=\"text-align: right;\">\n",
       "      <th></th>\n",
       "      <th>SMILES</th>\n",
       "      <th>Label</th>\n",
       "    </tr>\n",
       "  </thead>\n",
       "  <tbody>\n",
       "    <tr>\n",
       "      <th>0</th>\n",
       "      <td>CN(c1ccc(cc1)N=Nc1ccccc1)C</td>\n",
       "      <td>1</td>\n",
       "    </tr>\n",
       "    <tr>\n",
       "      <th>1</th>\n",
       "      <td>CC(=O)Nc1cccc2c1c1ccccc1C2</td>\n",
       "      <td>0</td>\n",
       "    </tr>\n",
       "    <tr>\n",
       "      <th>2</th>\n",
       "      <td>c1cc2ccc3c4c2c(c1)ccc4ccc3</td>\n",
       "      <td>0</td>\n",
       "    </tr>\n",
       "    <tr>\n",
       "      <th>3</th>\n",
       "      <td>ClC(Cl)Cl</td>\n",
       "      <td>1</td>\n",
       "    </tr>\n",
       "    <tr>\n",
       "      <th>4</th>\n",
       "      <td>CC/C(=C(\\c1ccc(cc1)O)/CC)/c1ccc(cc1)O</td>\n",
       "      <td>1</td>\n",
       "    </tr>\n",
       "    <tr>\n",
       "      <th>...</th>\n",
       "      <td>...</td>\n",
       "      <td>...</td>\n",
       "    </tr>\n",
       "    <tr>\n",
       "      <th>1111</th>\n",
       "      <td>OC(=O)C1=NN(C(=O)C1/N=N/c1ccc(cc1)S(=O)(=O)O)c1ccc(cc1)S(=O)(=O)O</td>\n",
       "      <td>1</td>\n",
       "    </tr>\n",
       "    <tr>\n",
       "      <th>1112</th>\n",
       "      <td>CN1C2CCC1CC(C2)NC(=O)c1cc(Cl)cc2c1OC(C2)(C)C</td>\n",
       "      <td>0</td>\n",
       "    </tr>\n",
       "    <tr>\n",
       "      <th>1113</th>\n",
       "      <td>O=C1C=CC(=O)C=C1</td>\n",
       "      <td>1</td>\n",
       "    </tr>\n",
       "    <tr>\n",
       "      <th>1114</th>\n",
       "      <td>c1ccc2c(c1)sc(n2)SSc1nc2c(s1)cccc2</td>\n",
       "      <td>0</td>\n",
       "    </tr>\n",
       "    <tr>\n",
       "      <th>1115</th>\n",
       "      <td>O=NN(CCN(C)C)C</td>\n",
       "      <td>1</td>\n",
       "    </tr>\n",
       "  </tbody>\n",
       "</table>\n",
       "<p>1116 rows × 2 columns</p>\n",
       "</div>"
      ],
      "text/plain": [
       "                                                                 SMILES  Label\n",
       "0     CN(c1ccc(cc1)N=Nc1ccccc1)C                                         1    \n",
       "1     CC(=O)Nc1cccc2c1c1ccccc1C2                                         0    \n",
       "2     c1cc2ccc3c4c2c(c1)ccc4ccc3                                         0    \n",
       "3     ClC(Cl)Cl                                                          1    \n",
       "4     CC/C(=C(\\c1ccc(cc1)O)/CC)/c1ccc(cc1)O                              1    \n",
       "...                                     ...                             ..    \n",
       "1111  OC(=O)C1=NN(C(=O)C1/N=N/c1ccc(cc1)S(=O)(=O)O)c1ccc(cc1)S(=O)(=O)O  1    \n",
       "1112  CN1C2CCC1CC(C2)NC(=O)c1cc(Cl)cc2c1OC(C2)(C)C                       0    \n",
       "1113  O=C1C=CC(=O)C=C1                                                   1    \n",
       "1114  c1ccc2c(c1)sc(n2)SSc1nc2c(s1)cccc2                                 0    \n",
       "1115  O=NN(CCN(C)C)C                                                     1    \n",
       "\n",
       "[1116 rows x 2 columns]"
      ]
     },
     "execution_count": 10,
     "metadata": {},
     "output_type": "execute_result"
    }
   ],
   "source": [
    "# loading data\n",
    "data = pd.read_csv('./datasets/carc/carc.txt', sep='\\t')\n",
    "pd.set_option('display.max_rows', 10)\n",
    "data"
   ]
  },
  {
   "cell_type": "code",
   "execution_count": 21,
   "metadata": {
    "ExecuteTime": {
     "end_time": "2020-08-29T01:08:09.294086Z",
     "start_time": "2020-08-29T01:08:09.091626Z"
    }
   },
   "outputs": [
    {
     "name": "stdout",
     "output_type": "stream",
     "text": [
      "Training Positive Number: 520\n",
      "Training Negative Number: 261\n",
      "++++++++++++++++++++++++++++++\n",
      "Testing  Positive Number: 238\n",
      "Testing  Negative Number: 97\n"
     ]
    }
   ],
   "source": [
    "# Spliting data\n",
    "train = data.sample(frac=0.7, random_state=777)\n",
    "test = data[~data.index.isin(train.index)]\n",
    "\n",
    "mol_train = [Chem.MolFromSmiles(smi) for smi in train.SMILES]\n",
    "mol_test = [Chem.MolFromSmiles(smi) for smi in test.SMILES]\n",
    "\n",
    "y_train = train.Label.values\n",
    "y_test = test.Label.values\n",
    "\n",
    "print(\"{:8s} Positive Number: {}\".format('Training', y_train.sum()))\n",
    "print(\"{:8s} Negative Number: {}\".format('Training', (1-y_train).sum()))\n",
    "print(\"++++++++++++++++++++++++++++++\")\n",
    "print(\"{:8s} Positive Number: {}\".format('Testing', y_test.sum()))\n",
    "print(\"{:8s} Negative Number: {}\".format('Testing', (1-y_test).sum()))"
   ]
  },
  {
   "cell_type": "code",
   "execution_count": 22,
   "metadata": {
    "ExecuteTime": {
     "end_time": "2020-08-29T01:09:53.570045Z",
     "start_time": "2020-08-29T01:09:53.562070Z"
    }
   },
   "outputs": [],
   "source": [
    "# Instantiate\n",
    "cir = CircularLearner(minRadius=1, maxRadius=4, nJobs=4)\n",
    "path = PathLeanrner(minPath=1, maxPath=7, nJobs=4)\n",
    "fg = FunctionGroupLearner(nJobs=4)"
   ]
  },
  {
   "cell_type": "code",
   "execution_count": 25,
   "metadata": {
    "ExecuteTime": {
     "end_time": "2020-08-29T01:23:36.589449Z",
     "start_time": "2020-08-29T01:17:14.093005Z"
    }
   },
   "outputs": [
    {
     "data": {
      "text/plain": [
       "<smash.FunctionGroupLearner at 0x11c4553f908>"
      ]
     },
     "execution_count": 25,
     "metadata": {},
     "output_type": "execute_result"
    }
   ],
   "source": [
    "# Fitting\n",
    "cir.fit(mol_train, y_train)\n",
    "path.fit(mol_train, y_train)\n",
    "fg.fit(mol_train, y_train)"
   ]
  },
  {
   "cell_type": "code",
   "execution_count": 38,
   "metadata": {
    "ExecuteTime": {
     "end_time": "2020-08-29T01:37:07.206598Z",
     "start_time": "2020-08-29T01:37:07.200612Z"
    }
   },
   "outputs": [
    {
     "name": "stdout",
     "output_type": "stream",
     "text": [
      "Circular Fragment Number: 11\n",
      "Path     Fragment Number: 81\n",
      "FG       Fragment Number: 7\n"
     ]
    }
   ],
   "source": [
    "# The number of each fragments\n",
    "print('{:8s} Fragment Number: {}'.format('Circular', len(cir.sigPvalue)))\n",
    "print('{:8s} Fragment Number: {}'.format('Path', len(path.sigPvalue)))\n",
    "print('{:8s} Fragment Number: {}'.format('FG', len(fg.sigPvalue)))"
   ]
  },
  {
   "cell_type": "code",
   "execution_count": 34,
   "metadata": {
    "ExecuteTime": {
     "end_time": "2020-08-29T01:34:14.669953Z",
     "start_time": "2020-08-29T01:34:14.655990Z"
    },
    "scrolled": true
   },
   "outputs": [
    {
     "data": {
      "text/html": [
       "<table border=\"1\" class=\"dataframe\">\n",
       "  <thead>\n",
       "    <tr style=\"text-align: right;\">\n",
       "      <th></th>\n",
       "      <th>Pvalue</th>\n",
       "      <th>Total</th>\n",
       "      <th>Hitted</th>\n",
       "      <th>Accuracy</th>\n",
       "      <th>Coverage</th>\n",
       "      <th>SMARTS</th>\n",
       "      <th>Substructure</th>\n",
       "    </tr>\n",
       "  </thead>\n",
       "  <tbody>\n",
       "    <tr>\n",
       "      <th>CN(C)N=O</th>\n",
       "      <td>0.000125</td>\n",
       "      <td>50</td>\n",
       "      <td>45</td>\n",
       "      <td>0.900000</td>\n",
       "      <td>0.086538</td>\n",
       "      <td>CN(C)N=O</td>\n",
       "      <td><?xml version='1.0' encoding='iso-8859-1'?><svg version='1.1' baseProfile='full'              xmlns='http://www.w3.org/2000/svg'                      xmlns:rdkit='http://www.rdkit.org/xml'                      xmlns:xlink='http://www.w3.org/1999/xlink'                  xml:space='preserve'width='150px' height='150px' ><!-- END OF HEADER --><rect style='opacity:1.0;fill:#FFFFFF;stroke:none' width='150' height='150' x='0' y='0'> </rect><path class='bond-0' d='M 129.674,47.5675 120.144,49.2858' style='fill:none;fill-rule:evenodd;stroke:#FF0000;stroke-width:2px;stroke-linecap:butt;stroke-linejoin:miter;stroke-opacity:1' /><path class='bond-0' d='M 120.144,49.2858 110.614,51.0042' style='fill:none;fill-rule:evenodd;stroke:#0000FF;stroke-width:2px;stroke-linecap:butt;stroke-linejoin:miter;stroke-opacity:1' /><path class='bond-0' d='M 130.663,53.0522 121.133,54.7706' style='fill:none;fill-rule:evenodd;stroke:#FF0000;stroke-width:2px;stroke-linecap:butt;stroke-linejoin:miter;stroke-opacity:1' /><path class='bond-0' d='M 121.133,54.7706 111.603,56.4889' style='fill:none;fill-rule:evenodd;stroke:#0000FF;stroke-width:2px;stroke-linecap:butt;stroke-linejoin:miter;stroke-opacity:1' /><path class='bond-1' d='M 105.413,59.1166 99.3233,76.0498' style='fill:none;fill-rule:evenodd;stroke:#0000FF;stroke-width:2px;stroke-linecap:butt;stroke-linejoin:miter;stroke-opacity:1' /><path class='bond-2' d='M 93.6277,81.4199 81.9287,83.5293' style='fill:none;fill-rule:evenodd;stroke:#0000FF;stroke-width:2px;stroke-linecap:butt;stroke-linejoin:miter;stroke-opacity:1' /><path class='bond-2' d='M 81.9287,83.5293 70.2296,85.6386' style='fill:none;fill-rule:evenodd;stroke:#000000;stroke-width:2px;stroke-linecap:butt;stroke-linejoin:miter;stroke-opacity:1' /><path class='bond-7' d='M 101.581,85.3384 108.614,93.6549' style='fill:none;fill-rule:evenodd;stroke:#0000FF;stroke-width:2px;stroke-linecap:butt;stroke-linejoin:miter;stroke-opacity:1' /><path class='bond-7' d='M 108.614,93.6549 115.647,101.971' style='fill:none;fill-rule:evenodd;stroke:#000000;stroke-width:2px;stroke-linecap:butt;stroke-linejoin:miter;stroke-opacity:1' /><path class='bond-3' d='M 70.2296,85.6386 52.2357,64.3614' style='fill:none;fill-rule:evenodd;stroke:#000000;stroke-width:2px;stroke-linecap:butt;stroke-linejoin:miter;stroke-opacity:1' /><path class='bond-4' d='M 52.2357,64.3614 40.5366,66.4707' style='fill:none;fill-rule:evenodd;stroke:#000000;stroke-width:2px;stroke-linecap:butt;stroke-linejoin:miter;stroke-opacity:1' /><path class='bond-4' d='M 40.5366,66.4707 28.8375,68.5801' style='fill:none;fill-rule:evenodd;stroke:#0000FF;stroke-width:2px;stroke-linecap:butt;stroke-linejoin:miter;stroke-opacity:1' /><path class='bond-5' d='M 20.8845,64.6616 13.8513,56.3451' style='fill:none;fill-rule:evenodd;stroke:#0000FF;stroke-width:2px;stroke-linecap:butt;stroke-linejoin:miter;stroke-opacity:1' /><path class='bond-5' d='M 13.8513,56.3451 6.81818,48.0286' style='fill:none;fill-rule:evenodd;stroke:#000000;stroke-width:2px;stroke-linecap:butt;stroke-linejoin:miter;stroke-opacity:1' /><path class='bond-6' d='M 23.1419,73.9502 19.2621,84.7389' style='fill:none;fill-rule:evenodd;stroke:#0000FF;stroke-width:2px;stroke-linecap:butt;stroke-linejoin:miter;stroke-opacity:1' /><path class='bond-6' d='M 19.2621,84.7389 15.3823,95.5277' style='fill:none;fill-rule:evenodd;stroke:#000000;stroke-width:2px;stroke-linecap:butt;stroke-linejoin:miter;stroke-opacity:1' /><text x='130.169' y='54.1721' style='font-size:9px;font-style:normal;font-weight:normal;fill-opacity:1;stroke:none;font-family:sans-serif;text-anchor:start;fill:#FF0000' ><tspan>O</tspan></text><text x='103.057' y='59.1166' style='font-size:9px;font-style:normal;font-weight:normal;fill-opacity:1;stroke:none;font-family:sans-serif;text-anchor:start;fill:#0000FF' ><tspan>N</tspan></text><text x='93.6277' y='85.3384' style='font-size:9px;font-style:normal;font-weight:normal;fill-opacity:1;stroke:none;font-family:sans-serif;text-anchor:start;fill:#0000FF' ><tspan>N</tspan></text><text x='20.7866' y='73.9502' style='font-size:9px;font-style:normal;font-weight:normal;fill-opacity:1;stroke:none;font-family:sans-serif;text-anchor:start;fill:#0000FF' ><tspan>N</tspan></text></svg></td>\n",
       "    </tr>\n",
       "    <tr>\n",
       "      <th>coc</th>\n",
       "      <td>0.020554</td>\n",
       "      <td>40</td>\n",
       "      <td>33</td>\n",
       "      <td>0.825000</td>\n",
       "      <td>0.063462</td>\n",
       "      <td>coc</td>\n",
       "      <td><?xml version='1.0' encoding='iso-8859-1'?><svg version='1.1' baseProfile='full'              xmlns='http://www.w3.org/2000/svg'                      xmlns:rdkit='http://www.rdkit.org/xml'                      xmlns:xlink='http://www.w3.org/1999/xlink'                  xml:space='preserve'width='150px' height='150px' ><!-- END OF HEADER --><rect style='opacity:1.0;fill:#FFFFFF;stroke:none' width='150' height='150' x='0' y='0'> </rect><path class='bond-0' d='M 139.845,75 90.3078,6.81818' style='fill:none;fill-rule:evenodd;stroke:#000000;stroke-width:2px;stroke-linecap:butt;stroke-linejoin:miter;stroke-opacity:1' /><path class='bond-0' d='M 118.778,74.6801 84.102,26.9529' style='fill:none;fill-rule:evenodd;stroke:#000000;stroke-width:2px;stroke-linecap:butt;stroke-linejoin:miter;stroke-opacity:1;stroke-dasharray:6,6' /><path class='bond-1' d='M 139.845,75 117.801,105.341' style='fill:none;fill-rule:evenodd;stroke:#000000;stroke-width:2px;stroke-linecap:butt;stroke-linejoin:miter;stroke-opacity:1' /><path class='bond-1' d='M 117.801,105.341 95.7568,135.682' style='fill:none;fill-rule:evenodd;stroke:#FF0000;stroke-width:2px;stroke-linecap:butt;stroke-linejoin:miter;stroke-opacity:1' /><path class='bond-1' d='M 119.595,74.1949 104.164,95.4335' style='fill:none;fill-rule:evenodd;stroke:#000000;stroke-width:2px;stroke-linecap:butt;stroke-linejoin:miter;stroke-opacity:1;stroke-dasharray:6,6' /><path class='bond-1' d='M 104.164,95.4335 88.7337,116.672' style='fill:none;fill-rule:evenodd;stroke:#FF0000;stroke-width:2px;stroke-linecap:butt;stroke-linejoin:miter;stroke-opacity:1;stroke-dasharray:6,6' /><path class='bond-2' d='M 83.303,140.906 46.7291,129.022' style='fill:none;fill-rule:evenodd;stroke:#FF0000;stroke-width:2px;stroke-linecap:butt;stroke-linejoin:miter;stroke-opacity:1' /><path class='bond-2' d='M 46.7291,129.022 10.1552,117.139' style='fill:none;fill-rule:evenodd;stroke:#000000;stroke-width:2px;stroke-linecap:butt;stroke-linejoin:miter;stroke-opacity:1' /><path class='bond-2' d='M 77.5394,121.31 51.9377,112.992' style='fill:none;fill-rule:evenodd;stroke:#FF0000;stroke-width:2px;stroke-linecap:butt;stroke-linejoin:miter;stroke-opacity:1;stroke-dasharray:6,6' /><path class='bond-2' d='M 51.9377,112.992 26.336,104.673' style='fill:none;fill-rule:evenodd;stroke:#000000;stroke-width:2px;stroke-linecap:butt;stroke-linejoin:miter;stroke-opacity:1;stroke-dasharray:6,6' /><text x='83.303' y='150.682' style='font-size:15px;font-style:normal;font-weight:normal;fill-opacity:1;stroke:none;font-family:sans-serif;text-anchor:start;fill:#FF0000' ><tspan>O</tspan></text></svg></td>\n",
       "    </tr>\n",
       "    <tr>\n",
       "      <th>C=CC</th>\n",
       "      <td>0.027007</td>\n",
       "      <td>14</td>\n",
       "      <td>13</td>\n",
       "      <td>0.928571</td>\n",
       "      <td>0.025000</td>\n",
       "      <td>C=CC</td>\n",
       "      <td><?xml version='1.0' encoding='iso-8859-1'?><svg version='1.1' baseProfile='full'              xmlns='http://www.w3.org/2000/svg'                      xmlns:rdkit='http://www.rdkit.org/xml'                      xmlns:xlink='http://www.w3.org/1999/xlink'                  xml:space='preserve'width='150px' height='150px' ><!-- END OF HEADER --><rect style='opacity:1.0;fill:#FFFFFF;stroke:none' width='150' height='150' x='0' y='0'> </rect><path class='bond-0' d='M 117.573,74.5197 101.048,81.5515' style='fill:none;fill-rule:evenodd;stroke:#00CC00;stroke-width:2px;stroke-linecap:butt;stroke-linejoin:miter;stroke-opacity:1' /><path class='bond-0' d='M 101.048,81.5515 84.523,88.5834' style='fill:none;fill-rule:evenodd;stroke:#000000;stroke-width:2px;stroke-linecap:butt;stroke-linejoin:miter;stroke-opacity:1' /><path class='bond-1' d='M 84.523,88.5834 48.4046,61.4166' style='fill:none;fill-rule:evenodd;stroke:#000000;stroke-width:2px;stroke-linecap:butt;stroke-linejoin:miter;stroke-opacity:1' /><path class='bond-2' d='M 46.6349,57.258 5.04857,74.9541' style='fill:none;fill-rule:evenodd;stroke:#000000;stroke-width:2px;stroke-linecap:butt;stroke-linejoin:miter;stroke-opacity:1' /><path class='bond-2' d='M 50.1742,65.5752 8.58779,83.2714' style='fill:none;fill-rule:evenodd;stroke:#000000;stroke-width:2px;stroke-linecap:butt;stroke-linejoin:miter;stroke-opacity:1' /><text x='117.573' y='78.4198' style='font-size:15px;font-style:normal;font-weight:normal;fill-opacity:1;stroke:none;font-family:sans-serif;text-anchor:start;fill:#00CC00' ><tspan>Cl</tspan></text></svg></td>\n",
       "    </tr>\n",
       "    <tr>\n",
       "      <th>cN</th>\n",
       "      <td>0.027175</td>\n",
       "      <td>86</td>\n",
       "      <td>66</td>\n",
       "      <td>0.767442</td>\n",
       "      <td>0.126923</td>\n",
       "      <td>cN</td>\n",
       "      <td><?xml version='1.0' encoding='iso-8859-1'?><svg version='1.1' baseProfile='full'              xmlns='http://www.w3.org/2000/svg'                      xmlns:rdkit='http://www.rdkit.org/xml'                      xmlns:xlink='http://www.w3.org/1999/xlink'                  xml:space='preserve'width='150px' height='150px' ><!-- END OF HEADER --><rect style='opacity:1.0;fill:#FFFFFF;stroke:none' width='150' height='150' x='0' y='0'> </rect><path class='bond-0' d='M 41.4892,50.3042 6.81818,99.6958' style='fill:none;fill-rule:evenodd;stroke:#000000;stroke-width:2px;stroke-linecap:butt;stroke-linejoin:miter;stroke-opacity:1' /><path class='bond-0' d='M 46.1668,64.6471 21.8972,99.2213' style='fill:none;fill-rule:evenodd;stroke:#000000;stroke-width:2px;stroke-linecap:butt;stroke-linejoin:miter;stroke-opacity:1;stroke-dasharray:6,6' /><path class='bond-1' d='M 41.4892,50.3042 63.792,52.2819' style='fill:none;fill-rule:evenodd;stroke:#000000;stroke-width:2px;stroke-linecap:butt;stroke-linejoin:miter;stroke-opacity:1' /><path class='bond-1' d='M 63.792,52.2819 86.0948,54.2595' style='fill:none;fill-rule:evenodd;stroke:#0000FF;stroke-width:2px;stroke-linecap:butt;stroke-linejoin:miter;stroke-opacity:1' /><text x='86.0948' y='63.8844' style='font-size:15px;font-style:normal;font-weight:normal;fill-opacity:1;stroke:none;font-family:sans-serif;text-anchor:start;fill:#0000FF' ><tspan>NH</tspan><tspan style='baseline-shift:sub;font-size:11.25px;'>2</tspan><tspan></tspan></text></svg></td>\n",
       "    </tr>\n",
       "    <tr>\n",
       "      <th>CNN</th>\n",
       "      <td>0.038621</td>\n",
       "      <td>8</td>\n",
       "      <td>8</td>\n",
       "      <td>1.000000</td>\n",
       "      <td>0.015385</td>\n",
       "      <td>CNN</td>\n",
       "      <td><?xml version='1.0' encoding='iso-8859-1'?><svg version='1.1' baseProfile='full'              xmlns='http://www.w3.org/2000/svg'                      xmlns:rdkit='http://www.rdkit.org/xml'                      xmlns:xlink='http://www.w3.org/1999/xlink'                  xml:space='preserve'width='150px' height='150px' ><!-- END OF HEADER --><rect style='opacity:1.0;fill:#FFFFFF;stroke:none' width='150' height='150' x='0' y='0'> </rect><path class='bond-0' d='M 6.81818,83.2084 35.2529,66.7916' style='fill:none;fill-rule:evenodd;stroke:#000000;stroke-width:2px;stroke-linecap:butt;stroke-linejoin:miter;stroke-opacity:1' /><path class='bond-1' d='M 35.2529,66.7916 63.6876,83.2084' style='fill:none;fill-rule:evenodd;stroke:#000000;stroke-width:2px;stroke-linecap:butt;stroke-linejoin:miter;stroke-opacity:1' /><path class='bond-2' d='M 63.6876,83.2084 73.1658,77.7361' style='fill:none;fill-rule:evenodd;stroke:#000000;stroke-width:2px;stroke-linecap:butt;stroke-linejoin:miter;stroke-opacity:1' /><path class='bond-2' d='M 73.1658,77.7361 82.6441,72.2639' style='fill:none;fill-rule:evenodd;stroke:#0000FF;stroke-width:2px;stroke-linecap:butt;stroke-linejoin:miter;stroke-opacity:1' /><path class='bond-3' d='M 101.601,72.2639 110.131,77.1889' style='fill:none;fill-rule:evenodd;stroke:#0000FF;stroke-width:2px;stroke-linecap:butt;stroke-linejoin:miter;stroke-opacity:1' /><text x='82.6362' y='72.2639' style='font-size:10px;font-style:normal;font-weight:normal;fill-opacity:1;stroke:none;font-family:sans-serif;text-anchor:start;fill:#0000FF' ><tspan>NH</tspan></text><text x='109.245' y='89.2279' style='font-size:10px;font-style:normal;font-weight:normal;fill-opacity:1;stroke:none;font-family:sans-serif;text-anchor:start;fill:#0000FF' ><tspan>NH</tspan><tspan style='baseline-shift:sub;font-size:7.5px;'>2</tspan><tspan></tspan></text></svg></td>\n",
       "    </tr>\n",
       "    <tr>\n",
       "      <th>CC1CO1</th>\n",
       "      <td>0.038621</td>\n",
       "      <td>8</td>\n",
       "      <td>8</td>\n",
       "      <td>1.000000</td>\n",
       "      <td>0.015385</td>\n",
       "      <td>CC1CO1</td>\n",
       "      <td><?xml version='1.0' encoding='iso-8859-1'?><svg version='1.1' baseProfile='full'              xmlns='http://www.w3.org/2000/svg'                      xmlns:rdkit='http://www.rdkit.org/xml'                      xmlns:xlink='http://www.w3.org/1999/xlink'                  xml:space='preserve'width='150px' height='150px' ><!-- END OF HEADER --><rect style='opacity:1.0;fill:#FFFFFF;stroke:none' width='150' height='150' x='0' y='0'> </rect><path class='bond-0' d='M 29.3514,81.1737 6.81818,30.8124' style='fill:none;fill-rule:evenodd;stroke:#000000;stroke-width:2px;stroke-linecap:butt;stroke-linejoin:miter;stroke-opacity:1' /><path class='bond-1' d='M 29.3514,81.1737 84.2322,86.84' style='fill:none;fill-rule:evenodd;stroke:#000000;stroke-width:2px;stroke-linecap:butt;stroke-linejoin:miter;stroke-opacity:1' /><path class='bond-3' d='M 84.2322,86.84 105.119,77.4947' style='fill:none;fill-rule:evenodd;stroke:#000000;stroke-width:2px;stroke-linecap:butt;stroke-linejoin:miter;stroke-opacity:1' /><path class='bond-3' d='M 105.119,77.4947 126.005,68.1494' style='fill:none;fill-rule:evenodd;stroke:#FF0000;stroke-width:2px;stroke-linecap:butt;stroke-linejoin:miter;stroke-opacity:1' /><path class='bond-2' d='M 128.927,119.188 131.286,96.3449' style='fill:none;fill-rule:evenodd;stroke:#000000;stroke-width:2px;stroke-linecap:butt;stroke-linejoin:miter;stroke-opacity:1' /><path class='bond-2' d='M 131.286,96.3449 133.644,73.5022' style='fill:none;fill-rule:evenodd;stroke:#FF0000;stroke-width:2px;stroke-linecap:butt;stroke-linejoin:miter;stroke-opacity:1' /><text x='126.005' y='73.5022' style='font-size:18px;font-style:normal;font-weight:normal;fill-opacity:1;stroke:none;font-family:sans-serif;text-anchor:start;fill:#FF0000' ><tspan>O</tspan></text></svg></td>\n",
       "    </tr>\n",
       "    <tr>\n",
       "      <th>CN(N=O)C(N)=O</th>\n",
       "      <td>0.038621</td>\n",
       "      <td>8</td>\n",
       "      <td>8</td>\n",
       "      <td>1.000000</td>\n",
       "      <td>0.015385</td>\n",
       "      <td>CN(N=O)C(N)=O</td>\n",
       "      <td><?xml version='1.0' encoding='iso-8859-1'?><svg version='1.1' baseProfile='full'              xmlns='http://www.w3.org/2000/svg'                      xmlns:rdkit='http://www.rdkit.org/xml'                      xmlns:xlink='http://www.w3.org/1999/xlink'                  xml:space='preserve'width='150px' height='150px' ><!-- END OF HEADER --><rect style='opacity:1.0;fill:#FFFFFF;stroke:none' width='150' height='150' x='0' y='0'> </rect><path class='bond-0' d='M 143.182,70.1042 128.084,79.7537' style='fill:none;fill-rule:evenodd;stroke:#000000;stroke-width:2px;stroke-linecap:butt;stroke-linejoin:miter;stroke-opacity:1' /><path class='bond-1' d='M 128.084,79.7537 112.178,71.503' style='fill:none;fill-rule:evenodd;stroke:#000000;stroke-width:2px;stroke-linecap:butt;stroke-linejoin:miter;stroke-opacity:1' /><path class='bond-2' d='M 112.178,71.503 97.0794,81.1525' style='fill:none;fill-rule:evenodd;stroke:#000000;stroke-width:2px;stroke-linecap:butt;stroke-linejoin:miter;stroke-opacity:1' /><path class='bond-3' d='M 97.0794,81.1525 81.1736,72.9018' style='fill:none;fill-rule:evenodd;stroke:#000000;stroke-width:2px;stroke-linecap:butt;stroke-linejoin:miter;stroke-opacity:1' /><path class='bond-4' d='M 81.1736,72.9018 66.0753,82.5513' style='fill:none;fill-rule:evenodd;stroke:#000000;stroke-width:2px;stroke-linecap:butt;stroke-linejoin:miter;stroke-opacity:1' /><path class='bond-5' d='M 66.0753,82.5513 59.4166,79.0973' style='fill:none;fill-rule:evenodd;stroke:#000000;stroke-width:2px;stroke-linecap:butt;stroke-linejoin:miter;stroke-opacity:1' /><path class='bond-5' d='M 59.4166,79.0973 52.7579,75.6433' style='fill:none;fill-rule:evenodd;stroke:#0000FF;stroke-width:2px;stroke-linecap:butt;stroke-linejoin:miter;stroke-opacity:1' /><path class='bond-6' d='M 47.581,75.9549 41.3261,79.9525' style='fill:none;fill-rule:evenodd;stroke:#0000FF;stroke-width:2px;stroke-linecap:butt;stroke-linejoin:miter;stroke-opacity:1' /><path class='bond-6' d='M 41.3261,79.9525 35.0712,83.9501' style='fill:none;fill-rule:evenodd;stroke:#000000;stroke-width:2px;stroke-linecap:butt;stroke-linejoin:miter;stroke-opacity:1' /><path class='bond-9' d='M 50.0347,71.3142 49.4966,59.3868' style='fill:none;fill-rule:evenodd;stroke:#0000FF;stroke-width:2px;stroke-linecap:butt;stroke-linejoin:miter;stroke-opacity:1' /><path class='bond-7' d='M 33.2812,84.0309 33.6176,91.4878' style='fill:none;fill-rule:evenodd;stroke:#000000;stroke-width:2px;stroke-linecap:butt;stroke-linejoin:miter;stroke-opacity:1' /><path class='bond-7' d='M 33.6176,91.4878 33.954,98.9447' style='fill:none;fill-rule:evenodd;stroke:#FF0000;stroke-width:2px;stroke-linecap:butt;stroke-linejoin:miter;stroke-opacity:1' /><path class='bond-7' d='M 36.8612,83.8694 37.1977,91.3263' style='fill:none;fill-rule:evenodd;stroke:#000000;stroke-width:2px;stroke-linecap:butt;stroke-linejoin:miter;stroke-opacity:1' /><path class='bond-7' d='M 37.1977,91.3263 37.5341,98.7832' style='fill:none;fill-rule:evenodd;stroke:#FF0000;stroke-width:2px;stroke-linecap:butt;stroke-linejoin:miter;stroke-opacity:1' /><path class='bond-8' d='M 35.0712,83.9501 30.2051,81.4259' style='fill:none;fill-rule:evenodd;stroke:#000000;stroke-width:2px;stroke-linecap:butt;stroke-linejoin:miter;stroke-opacity:1' /><path class='bond-8' d='M 30.2051,81.4259 25.3389,78.9018' style='fill:none;fill-rule:evenodd;stroke:#0000FF;stroke-width:2px;stroke-linecap:butt;stroke-linejoin:miter;stroke-opacity:1' /><path class='bond-10' d='M 47.5985,53.4671 42.3344,50.7365' style='fill:none;fill-rule:evenodd;stroke:#0000FF;stroke-width:2px;stroke-linecap:butt;stroke-linejoin:miter;stroke-opacity:1' /><path class='bond-10' d='M 42.3344,50.7365 37.0703,48.0059' style='fill:none;fill-rule:evenodd;stroke:#FF0000;stroke-width:2px;stroke-linecap:butt;stroke-linejoin:miter;stroke-opacity:1' /><path class='bond-10' d='M 45.9483,56.6483 40.6843,53.9177' style='fill:none;fill-rule:evenodd;stroke:#0000FF;stroke-width:2px;stroke-linecap:butt;stroke-linejoin:miter;stroke-opacity:1' /><path class='bond-10' d='M 40.6843,53.9177 35.4202,51.1871' style='fill:none;fill-rule:evenodd;stroke:#FF0000;stroke-width:2px;stroke-linecap:butt;stroke-linejoin:miter;stroke-opacity:1' /><text x='47.581' y='77.287' style='font-size:5px;font-style:normal;font-weight:normal;fill-opacity:1;stroke:none;font-family:sans-serif;text-anchor:start;fill:#0000FF' ><tspan>N</tspan></text><text x='33.0896' y='104.837' style='font-size:5px;font-style:normal;font-weight:normal;fill-opacity:1;stroke:none;font-family:sans-serif;text-anchor:start;fill:#FF0000' ><tspan>O</tspan></text><text x='12.9918' y='78.9844' style='font-size:5px;font-style:normal;font-weight:normal;fill-opacity:1;stroke:none;font-family:sans-serif;text-anchor:start;fill:#0000FF' ><tspan>H</tspan><tspan style='baseline-shift:sub;font-size:3.75px;'>2</tspan><tspan>N</tspan></text><text x='46.7734' y='59.3868' style='font-size:5px;font-style:normal;font-weight:normal;fill-opacity:1;stroke:none;font-family:sans-serif;text-anchor:start;fill:#0000FF' ><tspan>N</tspan></text><text x='30.6668' y='51.1361' style='font-size:5px;font-style:normal;font-weight:normal;fill-opacity:1;stroke:none;font-family:sans-serif;text-anchor:start;fill:#FF0000' ><tspan>O</tspan></text></svg></td>\n",
       "    </tr>\n",
       "  </tbody>\n",
       "</table>"
      ],
      "text/plain": [
       "<IPython.core.display.HTML object>"
      ]
     },
     "execution_count": 34,
     "metadata": {},
     "output_type": "execute_result"
    }
   ],
   "source": [
    "# Visualizing FG fragments\n",
    "IPython.display.HTML(fg.sigPvalue.to_html(escape=False))"
   ]
  },
  {
   "cell_type": "code",
   "execution_count": 26,
   "metadata": {
    "ExecuteTime": {
     "end_time": "2020-08-29T01:31:25.677643Z",
     "start_time": "2020-08-29T01:26:09.584871Z"
    }
   },
   "outputs": [],
   "source": [
    "# Predicting\n",
    "y_pred_cir, _ = cir.predict(mol_test)\n",
    "y_pred_path, _ = path.predict(mol_test)\n",
    "y_pred_fg, _ = fg.predict(mol_test)\n",
    "y_pred_ensemble = ((y_pred_cir + y_pred_path + y_pred_fg) >= 1) + 0"
   ]
  },
  {
   "cell_type": "code",
   "execution_count": 80,
   "metadata": {
    "ExecuteTime": {
     "end_time": "2020-08-29T02:02:40.115440Z",
     "start_time": "2020-08-29T02:02:40.073550Z"
    }
   },
   "outputs": [
    {
     "data": {
      "text/html": [
       "<div>\n",
       "<style scoped>\n",
       "    .dataframe tbody tr th:only-of-type {\n",
       "        vertical-align: middle;\n",
       "    }\n",
       "\n",
       "    .dataframe tbody tr th {\n",
       "        vertical-align: top;\n",
       "    }\n",
       "\n",
       "    .dataframe thead th {\n",
       "        text-align: right;\n",
       "    }\n",
       "</style>\n",
       "<table border=\"1\" class=\"dataframe\">\n",
       "  <thead>\n",
       "    <tr style=\"text-align: right;\">\n",
       "      <th></th>\n",
       "      <th>Accurary</th>\n",
       "      <th>Precision</th>\n",
       "      <th>Sensitivity</th>\n",
       "      <th>Specificity</th>\n",
       "    </tr>\n",
       "  </thead>\n",
       "  <tbody>\n",
       "    <tr>\n",
       "      <th>Circular</th>\n",
       "      <td>0.516</td>\n",
       "      <td>0.888</td>\n",
       "      <td>0.366</td>\n",
       "      <td>0.887</td>\n",
       "    </tr>\n",
       "    <tr>\n",
       "      <th>Path</th>\n",
       "      <td>0.493</td>\n",
       "      <td>0.925</td>\n",
       "      <td>0.311</td>\n",
       "      <td>0.938</td>\n",
       "    </tr>\n",
       "    <tr>\n",
       "      <th>FG</th>\n",
       "      <td>0.406</td>\n",
       "      <td>0.719</td>\n",
       "      <td>0.269</td>\n",
       "      <td>0.742</td>\n",
       "    </tr>\n",
       "    <tr>\n",
       "      <th>Ensemble</th>\n",
       "      <td>0.627</td>\n",
       "      <td>0.812</td>\n",
       "      <td>0.618</td>\n",
       "      <td>0.649</td>\n",
       "    </tr>\n",
       "  </tbody>\n",
       "</table>\n",
       "</div>"
      ],
      "text/plain": [
       "          Accurary  Precision  Sensitivity  Specificity\n",
       "Circular  0.516     0.888      0.366        0.887      \n",
       "Path      0.493     0.925      0.311        0.938      \n",
       "FG        0.406     0.719      0.269        0.742      \n",
       "Ensemble  0.627     0.812      0.618        0.649      "
      ]
     },
     "execution_count": 80,
     "metadata": {},
     "output_type": "execute_result"
    }
   ],
   "source": [
    "#Measure\n",
    "res = pd.DataFrame([evaluateModel(y_test, y_pred_cir), evaluateModel(y_test, y_pred_path),\n",
    "                    evaluateModel(y_test, y_pred_fg), evaluateModel(y_test, y_pred_ensemble)],\n",
    "                  index=['Circular', 'Path', 'FG', 'Ensemble'])\n",
    "\n",
    "res"
   ]
  },
  {
   "cell_type": "code",
   "execution_count": 67,
   "metadata": {
    "ExecuteTime": {
     "end_time": "2020-08-29T01:56:57.265067Z",
     "start_time": "2020-08-29T01:56:17.458980Z"
    }
   },
   "outputs": [
    {
     "data": {
      "text/plain": [
       "XGBClassifier(base_score=0.5, booster='gbtree', colsample_bylevel=1,\n",
       "       colsample_bytree=1, gamma=0, learning_rate=0.02, max_delta_step=0,\n",
       "       max_depth=6, min_child_weight=1, missing=None, n_estimators=800,\n",
       "       n_jobs=1, nthread=None, objective='binary:logistic', random_state=0,\n",
       "       reg_alpha=0, reg_lambda=1, scale_pos_weight=0.4, seed=None,\n",
       "       silent=True, subsample=0.8)"
      ]
     },
     "execution_count": 67,
     "metadata": {},
     "output_type": "execute_result"
    }
   ],
   "source": [
    "# Compare with XGBoost\n",
    "\n",
    "from scopy.ScoRepresent import CalculateECFP\n",
    "\n",
    "X_train = CalculateECFP(mol_train, n_jobs=4)\n",
    "X_test = CalculateECFP(mol_test, n_jobs=4)\n",
    "\n",
    "model = XGBClassifier(n_estimators=800, learning_rate=0.02, \n",
    "                      max_depth=6, subsample=0.8, scale_pos_weight=0.4)\n",
    "\n",
    "model.fit(X_train, y_train)"
   ]
  },
  {
   "cell_type": "code",
   "execution_count": 81,
   "metadata": {
    "ExecuteTime": {
     "end_time": "2020-08-29T02:02:43.560742Z",
     "start_time": "2020-08-29T02:02:43.484429Z"
    },
    "scrolled": true
   },
   "outputs": [
    {
     "data": {
      "text/html": [
       "<div>\n",
       "<style scoped>\n",
       "    .dataframe tbody tr th:only-of-type {\n",
       "        vertical-align: middle;\n",
       "    }\n",
       "\n",
       "    .dataframe tbody tr th {\n",
       "        vertical-align: top;\n",
       "    }\n",
       "\n",
       "    .dataframe thead th {\n",
       "        text-align: right;\n",
       "    }\n",
       "</style>\n",
       "<table border=\"1\" class=\"dataframe\">\n",
       "  <thead>\n",
       "    <tr style=\"text-align: right;\">\n",
       "      <th></th>\n",
       "      <th>Accurary</th>\n",
       "      <th>Precision</th>\n",
       "      <th>Sensitivity</th>\n",
       "      <th>Specificity</th>\n",
       "    </tr>\n",
       "  </thead>\n",
       "  <tbody>\n",
       "    <tr>\n",
       "      <th>Circular</th>\n",
       "      <td>0.516</td>\n",
       "      <td>0.888</td>\n",
       "      <td>0.366</td>\n",
       "      <td>0.887</td>\n",
       "    </tr>\n",
       "    <tr>\n",
       "      <th>Path</th>\n",
       "      <td>0.493</td>\n",
       "      <td>0.925</td>\n",
       "      <td>0.311</td>\n",
       "      <td>0.938</td>\n",
       "    </tr>\n",
       "    <tr>\n",
       "      <th>FG</th>\n",
       "      <td>0.406</td>\n",
       "      <td>0.719</td>\n",
       "      <td>0.269</td>\n",
       "      <td>0.742</td>\n",
       "    </tr>\n",
       "    <tr>\n",
       "      <th>Ensemble</th>\n",
       "      <td>0.627</td>\n",
       "      <td>0.812</td>\n",
       "      <td>0.618</td>\n",
       "      <td>0.649</td>\n",
       "    </tr>\n",
       "    <tr>\n",
       "      <th>XGB</th>\n",
       "      <td>0.630</td>\n",
       "      <td>0.806</td>\n",
       "      <td>0.630</td>\n",
       "      <td>0.629</td>\n",
       "    </tr>\n",
       "  </tbody>\n",
       "</table>\n",
       "</div>"
      ],
      "text/plain": [
       "          Accurary  Precision  Sensitivity  Specificity\n",
       "Circular  0.516     0.888      0.366        0.887      \n",
       "Path      0.493     0.925      0.311        0.938      \n",
       "FG        0.406     0.719      0.269        0.742      \n",
       "Ensemble  0.627     0.812      0.618        0.649      \n",
       "XGB       0.630     0.806      0.630        0.629      "
      ]
     },
     "execution_count": 81,
     "metadata": {},
     "output_type": "execute_result"
    }
   ],
   "source": [
    "y_pred_xgb = model.predict(X_test)\n",
    "res = res.append(pd.Series(evaluateModel(y_test, y_pred_xgb), name='XGB'))\n",
    "res"
   ]
  },
  {
   "cell_type": "code",
   "execution_count": 135,
   "metadata": {
    "ExecuteTime": {
     "end_time": "2020-08-29T02:35:38.181821Z",
     "start_time": "2020-08-29T02:35:37.923992Z"
    },
    "scrolled": false
   },
   "outputs": [
    {
     "data": {
      "image/png": "[encoded data removed]",
      "text/plain": [
       "<Figure size 576x324 with 1 Axes>"
      ]
     },
     "metadata": {
      "needs_background": "light"
     },
     "output_type": "display_data"
    }
   ],
   "source": [
    "# Visualizing result\n",
    "\n",
    "f,ax = plt.subplots(figsize=(8,4.5))\n",
    "colors = ['#e5db9c', '#a1cdec', '#f5bfd2',\n",
    "          '#92406e', '#dd546e']\n",
    "width = 0.25\n",
    "for center,row in zip(np.arange(1.5, 1.5*res.shape[1]+1, 1.5), res.iteritems()):\n",
    "    x = np.arange(center-2*width, center+2*width+0.01, width)\n",
    "    ax.bar(x, row[1].values, width=width, color=colors)\n",
    "\n",
    "ax.spines['bottom'].set_linewidth(1.2)\n",
    "ax.spines['left'].set_linewidth(1.2)\n",
    "ax.spines['top'].set_linewidth(1.2)\n",
    "ax.spines['right'].set_linewidth(1.2)\n",
    "ax.tick_params(direction='in', which='both')\n",
    "ax.set_xticks(np.arange(1.5, 1.5*res.shape[1]+1, 1.5))\n",
    "ax.set_xticklabels(res.columns, fontdict={'family': 'Calibri', 'size':15})\n",
    "\n",
    "ax.grid(ls='--', color='#caaca8', axis=\"y\")\n",
    "\n",
    "legend = [mlines.Line2D([0], [0], color=c, lw=8) for c in colors]\n",
    "leg = Legend(ax, legend, labels=res.index, ncol=1, \n",
    "             edgecolor='white', facecolor='none', borderpad=0.6)\n",
    "ax.add_artist(leg)\n",
    "\n",
    "plt.show()"
   ]
  },
  {
   "cell_type": "markdown",
   "metadata": {
    "ExecuteTime": {
     "end_time": "2020-08-29T01:59:10.332385Z",
     "start_time": "2020-08-29T01:59:10.325404Z"
    }
   },
   "source": [
    "The results show that the ensemble significant fragments and XGBoost perform equally on these four evaluation parameters, and the interpretability of ensemble significant fragments is much higher than that of AI model, which will help chemists make structural modifications to toxic molecules to meet safety requirements."
   ]
  }
 ],
 "metadata": {
  "kernelspec": {
   "display_name": "Python 3",
   "language": "python",
   "name": "python3"
  },
  "language_info": {
   "codemirror_mode": {
    "name": "ipython",
    "version": 3
   },
   "file_extension": ".py",
   "mimetype": "text/x-python",
   "name": "python",
   "nbconvert_exporter": "python",
   "pygments_lexer": "ipython3",
   "version": "3.7.3"
  },
  "varInspector": {
   "cols": {
    "lenName": 16,
    "lenType": 16,
    "lenVar": 40
   },
   "kernels_config": {
    "python": {
     "delete_cmd_postfix": "",
     "delete_cmd_prefix": "del ",
     "library": "var_list.py",
     "varRefreshCmd": "print(var_dic_list())"
    },
    "r": {
     "delete_cmd_postfix": ") ",
     "delete_cmd_prefix": "rm(",
     "library": "var_list.r",
     "varRefreshCmd": "cat(var_dic_list()) "
    }
   },
   "types_to_exclude": [
    "module",
    "function",
    "builtin_function_or_method",
    "instance",
    "_Feature"
   ],
   "window_display": false
  }
 },
 "nbformat": 4,
 "nbformat_minor": 2
}
