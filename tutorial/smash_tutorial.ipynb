{
 "cells": [
  {
   "cell_type": "markdown",
   "metadata": {},
   "source": [
    "# Getting Started with pySmash\n",
    "\n",
    "*pysmash: A Python Package for the Mine of Significant Fragments from Specific Dataset*\n",
    "\n",
    "<img align=\"left\" src=\"./image/pysmash.png\" width=\"100\" style=\"margin-bottom:-3px\">\n",
    "\n",
    "This document intends to provide users with the basic operation methods of pySmash. If you find any mistake or have suggestions for improvements, please either fix them in the source document (the .py file) or send to the mailing list: oriental-cds@163.com and kotori@cbdd.me."
   ]
  },
  {
   "cell_type": "markdown",
   "metadata": {},
   "source": [
    "## Installing the pySmash package"
   ]
  },
  {
   "cell_type": "markdown",
   "metadata": {},
   "source": [
    "### Dependencies"
   ]
  },
  {
   "cell_type": "markdown",
   "metadata": {},
   "source": [
    "```\n",
    "rdkit==\"2019.03.1\"\n",
    "pandas\n",
    "numpy\n",
    "```\n",
    "**Notice:** More least version of RDKit may throw an unexpection."
   ]
  },
  {
   "cell_type": "markdown",
   "metadata": {},
   "source": [
    "### Install with source"
   ]
  },
  {
   "cell_type": "markdown",
   "metadata": {},
   "source": [
    "```\n",
    "git clone git@github.com:kotori-y/pySmash.git && cd scopy\n",
    "[sudo] python setup.py install\n",
    "```"
   ]
  },
  {
   "cell_type": "markdown",
   "metadata": {},
   "source": [
    "## Overview"
   ]
  },
  {
   "cell_type": "markdown",
   "metadata": {},
   "source": [
    "In the field of chemoinformatics, there is a saying that similar structures have similar properties. The main aim of chemoinformatics refers to analyzing the similarity among molecules, searching the molecules in the structural database, finding potential drug molecule and their property. To systematically obtain the relation between structure and property, we developed pySmash, a Python library designed for obtaining fragments, which are highly related to a specific endpoint conveniently and comprehensively. pySmash can smash molecules, which have certein property label, with three different algorithms, including **circular**-, **path**- and **function group**-based, and combined with statistical methods to a set of significant fragments. By using these fragments, the molecule with unknown label can got a predicted label. Besides, pySmash provides functionalities for the easy visualization of the derived fragments. The Python package pySmash is designed by [CBDD Group](http://home.scbdd.com/index.php?s=/Home/Index.html&t=english\n",
    ") (Computational Biology & Drug Design Group), Xiangya School of Pharmaceutical Sciences, Central South University."
   ]
  },
  {
   "cell_type": "markdown",
   "metadata": {},
   "source": [
    "pySmash provides 3 algorithms, including circular-, path-, and function group-based, to smash a molecule.\n",
    "\n",
    "(1) Circular-based fragment\n",
    "Circular fragments is built by applying the Morgan algorithm. When generating circular fragments, Morgan fingerprints are calculated firstly under the given radius, and then circular fragments would be retrieved through combining the information of each bit with specific function.\n",
    "\n",
    "(2) Path-based fragment\n",
    "The path-based fragment algorithm identifies all subgraphs in the molecule within a particular range of sizes. Like generation of circular fragments, the RDKit fingerprints are calculated at first under minimum and maximum length. Through the bitinfo, the fragments are obtained.\n",
    "\n",
    "(3) Function Group-based fragment\n",
    "This fragments are implemented by this article, which proposed an algorithm to identify functional groups in organic molecules.\n",
    "\n"
   ]
  },
  {
   "cell_type": "markdown",
   "metadata": {},
   "source": [
    "The statistical method to judge a fragment is significant based on the probability density function of the binomial distribution with following equation:<br>\n",
    "$$P_{value}=\\Sigma_{i=ms}^{ns}\\frac{ns!}{i!(ns-i)!}(\\frac{m}{n})^{i}(1-\\frac{m}{n})^{ns-i}$$\n",
    "\n",
    "**Note:** In $n$ compounds has $m$ compounds with aspecific activity label and specific fragment is found in $ns$ compounds the amount of those compounds with the specific activity label is $ms$."
   ]
  },
  {
   "cell_type": "markdown",
   "metadata": {},
   "source": [
    "## Implementation"
   ]
  },
  {
   "cell_type": "markdown",
   "metadata": {},
   "source": [
    "The pySmash is mainly based on the RDKit implementation of circular Morgan fingerprints, RDKit fingerprints and functional group in contri of RDKit. The library is divided in 2 modules:\n",
    "\n",
    "(1) Base *Class* and *Function* in <code>fragments</code> to calculate fragments and obtain fragments matrix;\n",
    "\n",
    "(2) The encapsulate in <code>\\_\\_init\\_\\_.py</code> to dispose fragments under given condition to obtain significant fragments."
   ]
  },
  {
   "cell_type": "markdown",
   "metadata": {},
   "source": [
    "While generating significant fragments related with specific property (e.g. toxicity), a set of molecules with a corresponding label would be necessary. Next, we will take the circular fragment generation as an example to show how pySmash works.\n",
    "\n",
    "(1) Firstly, **pySmash** will compute hashed or unhashed Morgan fingerprints of each molecule, and then return the information of positive bit, which defined as a dictionary whose each key corresponds to a unique substructure. The bitinfo not only contains the ID of center atom but also the radius of the fragment;\n",
    "\n",
    "(2) Through taking the union of the key of all substructures presence in each molecule, a binary matrix can be generated. It is worth noting that, for each molecule, through the radius of substructure, we can selectively output only the largest structure in each center atom for matrix generation;\n",
    "\n",
    "(3) Lastly, **pySmash** dispose the previous matrix under some preset parameters and statistical methods, then return the matrix of significant fragments and their related statistical information;\n",
    "\n",
    "(4) The output mainly contains a fitted model object which can be used to predict non-label molecules."
   ]
  },
  {
   "cell_type": "markdown",
   "metadata": {},
   "source": [
    "<center>\n",
    "<img src=\"image/flow.png\" style=\"margin-bottom:-3px\" width=\"700\" align=\"left\">\n",
    "<br>\n",
    "    <div style=\"color:orange; border-bottom: 1px solid #d9d9d9;\n",
    "    display: inline-block;\n",
    "    color: #999;\n",
    "    padding: 2px;\">The work flow of pySmash</div>\n",
    "</center>"
   ]
  },
  {
   "cell_type": "markdown",
   "metadata": {},
   "source": [
    "## pySmash Tutorial"
   ]
  },
  {
   "cell_type": "markdown",
   "metadata": {
    "ExecuteTime": {
     "end_time": "2020-08-13T06:35:29.634680Z",
     "start_time": "2020-08-13T06:35:29.628697Z"
    }
   },
   "source": [
    "This tutorial will take **ISSCAN** database on chemical carcinogens with **jupyter** environment as an example  to show how to use **pySmash** package."
   ]
  },
  {
   "cell_type": "code",
   "execution_count": 42,
   "metadata": {
    "ExecuteTime": {
     "end_time": "2020-08-29T04:51:50.102870Z",
     "start_time": "2020-08-29T04:51:50.062111Z"
    },
    "scrolled": true
   },
   "outputs": [],
   "source": [
    "#rdkit modules\n",
    "from rdkit import Chem\n",
    "\n",
    "# science modules\n",
    "import pandas as pd\n",
    "import numpy as np\n",
    "\n",
    "#Display\n",
    "import IPython\n",
    "from rdkit.Chem.Draw import IPythonConsole"
   ]
  },
  {
   "cell_type": "code",
   "execution_count": 2,
   "metadata": {
    "ExecuteTime": {
     "end_time": "2020-08-28T12:12:31.395930Z",
     "start_time": "2020-08-28T12:12:31.342531Z"
    },
    "scrolled": false
   },
   "outputs": [
    {
     "data": {
      "text/html": [
       "<div>\n",
       "<style scoped>\n",
       "    .dataframe tbody tr th:only-of-type {\n",
       "        vertical-align: middle;\n",
       "    }\n",
       "\n",
       "    .dataframe tbody tr th {\n",
       "        vertical-align: top;\n",
       "    }\n",
       "\n",
       "    .dataframe thead th {\n",
       "        text-align: right;\n",
       "    }\n",
       "</style>\n",
       "<table border=\"1\" class=\"dataframe\">\n",
       "  <thead>\n",
       "    <tr style=\"text-align: right;\">\n",
       "      <th></th>\n",
       "      <th>SMILES</th>\n",
       "      <th>Label</th>\n",
       "    </tr>\n",
       "  </thead>\n",
       "  <tbody>\n",
       "    <tr>\n",
       "      <th>0</th>\n",
       "      <td>CN(c1ccc(cc1)N=Nc1ccccc1)C</td>\n",
       "      <td>1</td>\n",
       "    </tr>\n",
       "    <tr>\n",
       "      <th>1</th>\n",
       "      <td>CC(=O)Nc1cccc2c1c1ccccc1C2</td>\n",
       "      <td>0</td>\n",
       "    </tr>\n",
       "    <tr>\n",
       "      <th>2</th>\n",
       "      <td>c1cc2ccc3c4c2c(c1)ccc4ccc3</td>\n",
       "      <td>0</td>\n",
       "    </tr>\n",
       "    <tr>\n",
       "      <th>3</th>\n",
       "      <td>ClC(Cl)Cl</td>\n",
       "      <td>1</td>\n",
       "    </tr>\n",
       "    <tr>\n",
       "      <th>4</th>\n",
       "      <td>CC/C(=C(\\c1ccc(cc1)O)/CC)/c1ccc(cc1)O</td>\n",
       "      <td>1</td>\n",
       "    </tr>\n",
       "    <tr>\n",
       "      <th>...</th>\n",
       "      <td>...</td>\n",
       "      <td>...</td>\n",
       "    </tr>\n",
       "    <tr>\n",
       "      <th>1111</th>\n",
       "      <td>OC(=O)C1=NN(C(=O)C1/N=N/c1ccc(cc1)S(=O)(=O)O)c1ccc(cc1)S(=O)(=O)O</td>\n",
       "      <td>1</td>\n",
       "    </tr>\n",
       "    <tr>\n",
       "      <th>1112</th>\n",
       "      <td>CN1C2CCC1CC(C2)NC(=O)c1cc(Cl)cc2c1OC(C2)(C)C</td>\n",
       "      <td>0</td>\n",
       "    </tr>\n",
       "    <tr>\n",
       "      <th>1113</th>\n",
       "      <td>O=C1C=CC(=O)C=C1</td>\n",
       "      <td>1</td>\n",
       "    </tr>\n",
       "    <tr>\n",
       "      <th>1114</th>\n",
       "      <td>c1ccc2c(c1)sc(n2)SSc1nc2c(s1)cccc2</td>\n",
       "      <td>0</td>\n",
       "    </tr>\n",
       "    <tr>\n",
       "      <th>1115</th>\n",
       "      <td>O=NN(CCN(C)C)C</td>\n",
       "      <td>1</td>\n",
       "    </tr>\n",
       "  </tbody>\n",
       "</table>\n",
       "<p>1116 rows × 2 columns</p>\n",
       "</div>"
      ],
      "text/plain": [
       "                                                                 SMILES  Label\n",
       "0     CN(c1ccc(cc1)N=Nc1ccccc1)C                                         1    \n",
       "1     CC(=O)Nc1cccc2c1c1ccccc1C2                                         0    \n",
       "2     c1cc2ccc3c4c2c(c1)ccc4ccc3                                         0    \n",
       "3     ClC(Cl)Cl                                                          1    \n",
       "4     CC/C(=C(\\c1ccc(cc1)O)/CC)/c1ccc(cc1)O                              1    \n",
       "...                                     ...                             ..    \n",
       "1111  OC(=O)C1=NN(C(=O)C1/N=N/c1ccc(cc1)S(=O)(=O)O)c1ccc(cc1)S(=O)(=O)O  1    \n",
       "1112  CN1C2CCC1CC(C2)NC(=O)c1cc(Cl)cc2c1OC(C2)(C)C                       0    \n",
       "1113  O=C1C=CC(=O)C=C1                                                   1    \n",
       "1114  c1ccc2c(c1)sc(n2)SSc1nc2c(s1)cccc2                                 0    \n",
       "1115  O=NN(CCN(C)C)C                                                     1    \n",
       "\n",
       "[1116 rows x 2 columns]"
      ]
     },
     "execution_count": 2,
     "metadata": {},
     "output_type": "execute_result"
    }
   ],
   "source": [
    "data = pd.read_csv('./datasets/Carc/Carc.txt', sep='\\t') # loading data\n",
    "pd.set_option('display.max_rows', 10)\n",
    "data"
   ]
  },
  {
   "cell_type": "markdown",
   "metadata": {},
   "source": [
    "The filed Label 1 = carcinogen(i.e. positive) and 0 = noncarcinogen(i.e. negative)"
   ]
  },
  {
   "cell_type": "code",
   "execution_count": 26,
   "metadata": {
    "ExecuteTime": {
     "end_time": "2020-08-28T13:12:01.423248Z",
     "start_time": "2020-08-28T13:12:01.202321Z"
    },
    "scrolled": true
   },
   "outputs": [],
   "source": [
    "mols = [Chem.MolFromSmiles(smi) for smi in data.SMILES.values]\n",
    "labels = data.Label.values"
   ]
  },
  {
   "cell_type": "markdown",
   "metadata": {},
   "source": [
    "### Generating Fragments for single molecule"
   ]
  },
  {
   "cell_type": "markdown",
   "metadata": {},
   "source": [
    "The function <code>GetCircularFragment()</code>, <code>GetPathFragment()</code> and <code>GetFunctionGroupFragment()</code> from <code>smash.fragments</code> can smash a molecule to several fragments based on different algorithms."
   ]
  },
  {
   "cell_type": "code",
   "execution_count": 9,
   "metadata": {
    "ExecuteTime": {
     "end_time": "2020-08-28T12:16:25.107248Z",
     "start_time": "2020-08-28T12:16:25.103264Z"
    },
    "scrolled": true
   },
   "outputs": [],
   "source": [
    "from smash.fragments import GetCircularFragment, GetPathFragment, GetFunctionGroupFragment"
   ]
  },
  {
   "cell_type": "markdown",
   "metadata": {},
   "source": [
    "#### Circular Fragment\n",
    "\n",
    "The <code>GetCircularFragment()</code> can be used to generate the circular fragment, and could accept eight parameters:\n",
    "\n",
    "    mol : rdkit.Chem.rdchem.Mol object\n",
    "        Compound to be Calculated\n",
    "    minRadius : int, optional\n",
    "        The probable minimum radius of circular fragment, by default 1\n",
    "    maxRadius : int, optional\n",
    "        The probable maximum radius of circular fragment, by default 2\n",
    "    nBits : int, optional\n",
    "        the number of bit of morgan, by default 1014\n",
    "        this param would be ignored, if the folded set as False.\n",
    "    folded : bool, optional\n",
    "        which generate fragment based on unfolded fingerprint, by default True.\n",
    "    maxFragment : bool, optional\n",
    "        Whether only return the maximum fragment at a center atom, by default True\n",
    "    nJobs : int, optional\n",
    "        The number of CPUs to use to do the computation, by default 1\n",
    "    svg : bool, optional\n",
    "        Whether output with a svg image, by default False"
   ]
  },
  {
   "cell_type": "code",
   "execution_count": 7,
   "metadata": {
    "ExecuteTime": {
     "end_time": "2020-08-28T12:15:49.178925Z",
     "start_time": "2020-08-28T12:15:49.113130Z"
    }
   },
   "outputs": [
    {
     "data": {
      "image/png": "[encoded data removed]",
      "text/plain": [
       "<rdkit.Chem.rdchem.Mol at 0x1abc4ba8c10>"
      ]
     },
     "execution_count": 7,
     "metadata": {},
     "output_type": "execute_result"
    }
   ],
   "source": [
    "mol = Chem.MolFromSmiles(data.SMILES.values[0])\n",
    "mol"
   ]
  },
  {
   "cell_type": "code",
   "execution_count": 11,
   "metadata": {
    "ExecuteTime": {
     "end_time": "2020-08-28T12:17:35.386270Z",
     "start_time": "2020-08-28T12:17:35.336403Z"
    },
    "scrolled": true
   },
   "outputs": [
    {
     "data": {
      "text/plain": [
       "([98513984,\n",
       "  166544320,\n",
       "  601301716,\n",
       "  742000539,\n",
       "  817010262,\n",
       "  847336149,\n",
       "  848128881,\n",
       "  867943757,\n",
       "  951226070,\n",
       "  1052483895,\n",
       "  1070736864,\n",
       "  1166893553,\n",
       "  1279318804,\n",
       "  1421848111,\n",
       "  1423313569,\n",
       "  1449131080,\n",
       "  1914416804,\n",
       "  2094236579,\n",
       "  2138432469,\n",
       "  2206467902,\n",
       "  2234413793,\n",
       "  2246728737,\n",
       "  2393963875,\n",
       "  2538220925,\n",
       "  2763854213,\n",
       "  2891101840,\n",
       "  3021462385,\n",
       "  3097783358,\n",
       "  3217380708,\n",
       "  3218693969,\n",
       "  3707826210,\n",
       "  3801174218,\n",
       "  3816821150,\n",
       "  3818546315,\n",
       "  3999906991,\n",
       "  4085189049],\n",
       " {3818546315: ('*N(*)C',),\n",
       "  2393963875: ('*cc(c*)N(C)C',),\n",
       "  3707826210: ('*c1ccc(N(C)C)cc1',),\n",
       "  1423313569: ('*N=Nc1ccc(N(C)C)cc1',),\n",
       "  3816821150: ('*c(*)N=Nc1ccc(N(C)C)cc1',),\n",
       "  3021462385: ('*N(*)c1ccc(N=Nc(c*)c*)cc1',),\n",
       "  3801174218: ('*c1*cc(N=*)cc1',),\n",
       "  166544320: ('*c1*cc(N(*)*)cc1',),\n",
       "  2138432469: ('*c1ccc(N=Nc2cc*cc2)cc1',),\n",
       "  867943757: ('*1ccc(N=Nc2ccccc2)cc1',),\n",
       "  4085189049: ('*cc(c*)N=Nc1ccccc1',),\n",
       "  1166893553: ('*N=Nc1ccccc1',),\n",
       "  1279318804: ('*=Nc1ccccc1',),\n",
       "  742000539: ('*c1ccccc1',),\n",
       "  3999906991: ('*c1*cccc1',),\n",
       "  3097783358: ('*=Nc1c*ccc1',)})"
      ]
     },
     "execution_count": 11,
     "metadata": {},
     "output_type": "execute_result"
    }
   ],
   "source": [
    "cirFrag = GetCircularFragment(mol, minRadius=1, maxRadius=4,\n",
    "                              folded=False, maxFragment=True)\n",
    "cirFrag"
   ]
  },
  {
   "cell_type": "markdown",
   "metadata": {},
   "source": [
    "The function return a <code>tuple</code>. The first element is the ID of **all** fragments generated, and the second one is a <code>dict</code> whose key is the ID of outputted fragments, value is corresponding SMARTS and svg string (if <code>svg</code> set as True)."
   ]
  },
  {
   "cell_type": "markdown",
   "metadata": {},
   "source": [
    "#### Path Fragment\n",
    "\n",
    "The <code>GetPathFragment()</code> can be used to generate the path-based fragment, and could accept seven parameters:\n",
    "\n",
    "    mol : dkit.Chem.rdchem.Mol object\n",
    "        Compound to be Calculated\n",
    "    minPath : int, optional\n",
    "        The probable minimum length of path-based fragment, by default 1\n",
    "    maxPath : int, optional\n",
    "        The probable maximum length of path-based fragment, by default 7\n",
    "    nBits : int, optional\n",
    "        the number of bit of morgan, by default 1014\n",
    "        this param would be ignored, if the folded set as False.\n",
    "    folded : bool, optional\n",
    "        which generate fragment based on unfolded fingerprint, by default True.\n",
    "    maxFragment : bool, optional\n",
    "        Whether only return the maximum fragment at a center atom, by default True\n",
    "    svg : bool, optional\n",
    "        Whether output with a svg image, by default False"
   ]
  },
  {
   "cell_type": "code",
   "execution_count": 13,
   "metadata": {
    "ExecuteTime": {
     "end_time": "2020-08-28T12:26:19.499453Z",
     "start_time": "2020-08-28T12:26:19.349848Z"
    },
    "scrolled": true
   },
   "outputs": [
    {
     "data": {
      "text/plain": [
       "([156235170,\n",
       "  166056096,\n",
       "  207980049,\n",
       "  269062317,\n",
       "  278485227,\n",
       "  290216348,\n",
       "  374073638,\n",
       "  375489799,\n",
       "  464351883,\n",
       "  489366768,\n",
       "  648366653,\n",
       "  684254069,\n",
       "  794080973,\n",
       "  801668886,\n",
       "  821756180,\n",
       "  883786409,\n",
       "  983288516,\n",
       "  1019450028,\n",
       "  1094198543,\n",
       "  1128172915,\n",
       "  1149969909,\n",
       "  1185041240,\n",
       "  1212154305,\n",
       "  1231169922,\n",
       "  1232610214,\n",
       "  1336954020,\n",
       "  1341487704,\n",
       "  1345130172,\n",
       "  1381895560,\n",
       "  1469891971,\n",
       "  1515308438,\n",
       "  1651041015,\n",
       "  1721559976,\n",
       "  1762587153,\n",
       "  1770364917,\n",
       "  1795955411,\n",
       "  1856292486,\n",
       "  1936313601,\n",
       "  1949583554,\n",
       "  2006353631,\n",
       "  2010367100,\n",
       "  2041049663,\n",
       "  2187949147,\n",
       "  2196711674,\n",
       "  2281195258,\n",
       "  2418098212,\n",
       "  2452710580,\n",
       "  2476637785,\n",
       "  2562876123,\n",
       "  2577170428,\n",
       "  2650317052,\n",
       "  2698527641,\n",
       "  2738554296,\n",
       "  2855649477,\n",
       "  2955077156,\n",
       "  2965878653,\n",
       "  3100332986,\n",
       "  3137502397,\n",
       "  3183416455,\n",
       "  3190653530,\n",
       "  3246816004,\n",
       "  3247793502,\n",
       "  3274248866,\n",
       "  3330326592,\n",
       "  3341727425,\n",
       "  3494989292,\n",
       "  3509554884,\n",
       "  3517902689,\n",
       "  3752102730,\n",
       "  3764713633,\n",
       "  3826517238,\n",
       "  3984285402,\n",
       "  4006821550,\n",
       "  4048886626,\n",
       "  4064372594,\n",
       "  4084853664,\n",
       "  4105342207,\n",
       "  4130987471,\n",
       "  4177993203,\n",
       "  4206906089,\n",
       "  4208007898,\n",
       "  4212243814,\n",
       "  4276257554,\n",
       "  4276257873],\n",
       " {801668886: ('Nc1ccccc1',),\n",
       "  983288516: ('cc(cccN)N=N',),\n",
       "  1149969909: ('ccccc(c)N=N',),\n",
       "  1231169922: ('cccc(c)N(C)C',),\n",
       "  1381895560: ('ccN=Nc(c)cc',),\n",
       "  1515308438: ('ccc(cc)N=Nc',),\n",
       "  1651041015: ('ccc(N)cccN',),\n",
       "  1721559976: ('cccc(cc)NC',),\n",
       "  1762587153: ('cccc(cc)N=N',),\n",
       "  1795955411: ('ccccccNC',),\n",
       "  2006353631: ('CNccccN=N',),\n",
       "  2041049663: ('ccc(cc)N(C)C',),\n",
       "  2196711674: ('cccccN(C)C',),\n",
       "  2562876123: ('cc(cccN)NC',),\n",
       "  2698527641: ('ccccccN=N',),\n",
       "  2955077156: ('cccc(c)N=Nc',),\n",
       "  3246816004: ('cc(N)cccN=N',),\n",
       "  3330326592: ('ccccc(c)NC',),\n",
       "  3341727425: ('cc(N)cccNC',),\n",
       "  3494989292: ('CN(C)ccccN',),\n",
       "  3984285402: ('cccN=Nc(c)c',),\n",
       "  4006821550: ('cc(N)ccc(c)N',),\n",
       "  4064372594: ('ccN=Ncccc',),\n",
       "  4084853664: ('cc(c)N=Nc(c)c',),\n",
       "  4208007898: ('cN=NccccN',),\n",
       "  4212243814: ('cccccN=Nc',)})"
      ]
     },
     "execution_count": 13,
     "metadata": {},
     "output_type": "execute_result"
    }
   ],
   "source": [
    "pathFrag = GetPathFragment(mol, minPath=1, maxPath=7,\n",
    "                           folded=False, maxFragment=True)\n",
    "pathFrag"
   ]
  },
  {
   "cell_type": "markdown",
   "metadata": {
    "scrolled": true
   },
   "source": [
    "Samely, this function return a <code>tuple</code>. The first element is the ID of **all** fragments generated, and the second one is a <code>dict</code> whose key is the ID of outputted fragments, value is corresponding SMARTS and svg string (if <code>svg</code> set as True)."
   ]
  },
  {
   "cell_type": "markdown",
   "metadata": {
    "scrolled": true
   },
   "source": [
    "#### FunctionGroup Fragment\n",
    "\n",
    "The <code>GetFunctionGroupFragment()</code> can be used to generate the function group fragment, and could accept only one parameters:\n",
    "\n",
    "    mol : dkit.Chem.rdchem.Mol object\n",
    "        Compound to be Calculated\n",
    "    svg : bool, optional\n",
    "        Whether output with a svg image, by default False"
   ]
  },
  {
   "cell_type": "code",
   "execution_count": 15,
   "metadata": {
    "ExecuteTime": {
     "end_time": "2020-08-28T12:33:42.615190Z",
     "start_time": "2020-08-28T12:33:42.606211Z"
    },
    "scrolled": true
   },
   "outputs": [
    {
     "data": {
      "text/plain": [
       "[('cN=Nc',), ('cN(C)C',)]"
      ]
     },
     "execution_count": 15,
     "metadata": {},
     "output_type": "execute_result"
    }
   ],
   "source": [
    "fgFrag = GetFunctionGroupFragment(mol)\n",
    "fgFrag"
   ]
  },
  {
   "cell_type": "markdown",
   "metadata": {},
   "source": [
    "Differently, this function return a <code>tuple</code> of <code>list</code>. In each tuple element, the first element is the SMARTS of fragment and the second one svg string (is svg set as True)."
   ]
  },
  {
   "cell_type": "markdown",
   "metadata": {},
   "source": [
    "### Generating Fragments Matrix\n",
    "\n",
    "The Class <code>Circular()</code>, <code>Path()</code> and <code>FunctionGroup()</code> from <code>smash.fragments</code> can generate fragments for a set of molecule and return a fragment matrix."
   ]
  },
  {
   "cell_type": "code",
   "execution_count": 17,
   "metadata": {
    "ExecuteTime": {
     "end_time": "2020-08-28T12:48:28.628236Z",
     "start_time": "2020-08-28T12:47:57.064868Z"
    }
   },
   "outputs": [
    {
     "data": {
      "text/html": [
       "<div>\n",
       "<style scoped>\n",
       "    .dataframe tbody tr th:only-of-type {\n",
       "        vertical-align: middle;\n",
       "    }\n",
       "\n",
       "    .dataframe tbody tr th {\n",
       "        vertical-align: top;\n",
       "    }\n",
       "\n",
       "    .dataframe thead th {\n",
       "        text-align: right;\n",
       "    }\n",
       "</style>\n",
       "<table border=\"1\" class=\"dataframe\">\n",
       "  <thead>\n",
       "    <tr style=\"text-align: right;\">\n",
       "      <th></th>\n",
       "      <th>3189374977</th>\n",
       "      <th>4057006083</th>\n",
       "      <th>3849781254</th>\n",
       "      <th>1692696596</th>\n",
       "      <th>2996895764</th>\n",
       "      <th>3884023835</th>\n",
       "      <th>1868824604</th>\n",
       "      <th>3123347485</th>\n",
       "      <th>2536964126</th>\n",
       "      <th>3858497572</th>\n",
       "      <th>...</th>\n",
       "      <th>838893522</th>\n",
       "      <th>2822209494</th>\n",
       "      <th>178782170</th>\n",
       "      <th>1992589278</th>\n",
       "      <th>3637149665</th>\n",
       "      <th>1407549416</th>\n",
       "      <th>1068204010</th>\n",
       "      <th>3158114287</th>\n",
       "      <th>1436286969</th>\n",
       "      <th>477790203</th>\n",
       "    </tr>\n",
       "  </thead>\n",
       "  <tbody>\n",
       "    <tr>\n",
       "      <th>0</th>\n",
       "      <td>0</td>\n",
       "      <td>0</td>\n",
       "      <td>0</td>\n",
       "      <td>0</td>\n",
       "      <td>0</td>\n",
       "      <td>0</td>\n",
       "      <td>0</td>\n",
       "      <td>0</td>\n",
       "      <td>0</td>\n",
       "      <td>0</td>\n",
       "      <td>...</td>\n",
       "      <td>0</td>\n",
       "      <td>0</td>\n",
       "      <td>0</td>\n",
       "      <td>0</td>\n",
       "      <td>0</td>\n",
       "      <td>0</td>\n",
       "      <td>0</td>\n",
       "      <td>0</td>\n",
       "      <td>0</td>\n",
       "      <td>0</td>\n",
       "    </tr>\n",
       "    <tr>\n",
       "      <th>1</th>\n",
       "      <td>0</td>\n",
       "      <td>0</td>\n",
       "      <td>0</td>\n",
       "      <td>0</td>\n",
       "      <td>0</td>\n",
       "      <td>0</td>\n",
       "      <td>0</td>\n",
       "      <td>0</td>\n",
       "      <td>0</td>\n",
       "      <td>0</td>\n",
       "      <td>...</td>\n",
       "      <td>0</td>\n",
       "      <td>0</td>\n",
       "      <td>0</td>\n",
       "      <td>0</td>\n",
       "      <td>0</td>\n",
       "      <td>0</td>\n",
       "      <td>0</td>\n",
       "      <td>0</td>\n",
       "      <td>0</td>\n",
       "      <td>0</td>\n",
       "    </tr>\n",
       "    <tr>\n",
       "      <th>2</th>\n",
       "      <td>0</td>\n",
       "      <td>0</td>\n",
       "      <td>0</td>\n",
       "      <td>0</td>\n",
       "      <td>0</td>\n",
       "      <td>0</td>\n",
       "      <td>0</td>\n",
       "      <td>0</td>\n",
       "      <td>0</td>\n",
       "      <td>0</td>\n",
       "      <td>...</td>\n",
       "      <td>0</td>\n",
       "      <td>0</td>\n",
       "      <td>0</td>\n",
       "      <td>0</td>\n",
       "      <td>0</td>\n",
       "      <td>0</td>\n",
       "      <td>0</td>\n",
       "      <td>0</td>\n",
       "      <td>0</td>\n",
       "      <td>0</td>\n",
       "    </tr>\n",
       "    <tr>\n",
       "      <th>3</th>\n",
       "      <td>0</td>\n",
       "      <td>0</td>\n",
       "      <td>0</td>\n",
       "      <td>0</td>\n",
       "      <td>0</td>\n",
       "      <td>0</td>\n",
       "      <td>0</td>\n",
       "      <td>0</td>\n",
       "      <td>0</td>\n",
       "      <td>0</td>\n",
       "      <td>...</td>\n",
       "      <td>0</td>\n",
       "      <td>0</td>\n",
       "      <td>0</td>\n",
       "      <td>0</td>\n",
       "      <td>0</td>\n",
       "      <td>0</td>\n",
       "      <td>0</td>\n",
       "      <td>0</td>\n",
       "      <td>0</td>\n",
       "      <td>0</td>\n",
       "    </tr>\n",
       "    <tr>\n",
       "      <th>4</th>\n",
       "      <td>0</td>\n",
       "      <td>0</td>\n",
       "      <td>0</td>\n",
       "      <td>0</td>\n",
       "      <td>0</td>\n",
       "      <td>0</td>\n",
       "      <td>0</td>\n",
       "      <td>0</td>\n",
       "      <td>0</td>\n",
       "      <td>0</td>\n",
       "      <td>...</td>\n",
       "      <td>0</td>\n",
       "      <td>0</td>\n",
       "      <td>0</td>\n",
       "      <td>0</td>\n",
       "      <td>0</td>\n",
       "      <td>0</td>\n",
       "      <td>0</td>\n",
       "      <td>0</td>\n",
       "      <td>0</td>\n",
       "      <td>0</td>\n",
       "    </tr>\n",
       "    <tr>\n",
       "      <th>...</th>\n",
       "      <td>...</td>\n",
       "      <td>...</td>\n",
       "      <td>...</td>\n",
       "      <td>...</td>\n",
       "      <td>...</td>\n",
       "      <td>...</td>\n",
       "      <td>...</td>\n",
       "      <td>...</td>\n",
       "      <td>...</td>\n",
       "      <td>...</td>\n",
       "      <td>...</td>\n",
       "      <td>...</td>\n",
       "      <td>...</td>\n",
       "      <td>...</td>\n",
       "      <td>...</td>\n",
       "      <td>...</td>\n",
       "      <td>...</td>\n",
       "      <td>...</td>\n",
       "      <td>...</td>\n",
       "      <td>...</td>\n",
       "      <td>...</td>\n",
       "    </tr>\n",
       "    <tr>\n",
       "      <th>1111</th>\n",
       "      <td>0</td>\n",
       "      <td>0</td>\n",
       "      <td>0</td>\n",
       "      <td>0</td>\n",
       "      <td>0</td>\n",
       "      <td>0</td>\n",
       "      <td>0</td>\n",
       "      <td>0</td>\n",
       "      <td>0</td>\n",
       "      <td>0</td>\n",
       "      <td>...</td>\n",
       "      <td>0</td>\n",
       "      <td>0</td>\n",
       "      <td>0</td>\n",
       "      <td>0</td>\n",
       "      <td>0</td>\n",
       "      <td>0</td>\n",
       "      <td>0</td>\n",
       "      <td>0</td>\n",
       "      <td>0</td>\n",
       "      <td>0</td>\n",
       "    </tr>\n",
       "    <tr>\n",
       "      <th>1112</th>\n",
       "      <td>0</td>\n",
       "      <td>0</td>\n",
       "      <td>0</td>\n",
       "      <td>0</td>\n",
       "      <td>0</td>\n",
       "      <td>0</td>\n",
       "      <td>0</td>\n",
       "      <td>0</td>\n",
       "      <td>0</td>\n",
       "      <td>0</td>\n",
       "      <td>...</td>\n",
       "      <td>0</td>\n",
       "      <td>0</td>\n",
       "      <td>0</td>\n",
       "      <td>0</td>\n",
       "      <td>0</td>\n",
       "      <td>0</td>\n",
       "      <td>0</td>\n",
       "      <td>0</td>\n",
       "      <td>0</td>\n",
       "      <td>0</td>\n",
       "    </tr>\n",
       "    <tr>\n",
       "      <th>1113</th>\n",
       "      <td>0</td>\n",
       "      <td>0</td>\n",
       "      <td>0</td>\n",
       "      <td>0</td>\n",
       "      <td>0</td>\n",
       "      <td>0</td>\n",
       "      <td>0</td>\n",
       "      <td>0</td>\n",
       "      <td>0</td>\n",
       "      <td>0</td>\n",
       "      <td>...</td>\n",
       "      <td>0</td>\n",
       "      <td>0</td>\n",
       "      <td>0</td>\n",
       "      <td>0</td>\n",
       "      <td>0</td>\n",
       "      <td>0</td>\n",
       "      <td>0</td>\n",
       "      <td>0</td>\n",
       "      <td>0</td>\n",
       "      <td>0</td>\n",
       "    </tr>\n",
       "    <tr>\n",
       "      <th>1114</th>\n",
       "      <td>0</td>\n",
       "      <td>0</td>\n",
       "      <td>0</td>\n",
       "      <td>0</td>\n",
       "      <td>0</td>\n",
       "      <td>0</td>\n",
       "      <td>0</td>\n",
       "      <td>0</td>\n",
       "      <td>0</td>\n",
       "      <td>0</td>\n",
       "      <td>...</td>\n",
       "      <td>0</td>\n",
       "      <td>0</td>\n",
       "      <td>0</td>\n",
       "      <td>0</td>\n",
       "      <td>0</td>\n",
       "      <td>0</td>\n",
       "      <td>0</td>\n",
       "      <td>0</td>\n",
       "      <td>0</td>\n",
       "      <td>0</td>\n",
       "    </tr>\n",
       "    <tr>\n",
       "      <th>1115</th>\n",
       "      <td>0</td>\n",
       "      <td>0</td>\n",
       "      <td>0</td>\n",
       "      <td>0</td>\n",
       "      <td>0</td>\n",
       "      <td>0</td>\n",
       "      <td>0</td>\n",
       "      <td>0</td>\n",
       "      <td>0</td>\n",
       "      <td>0</td>\n",
       "      <td>...</td>\n",
       "      <td>0</td>\n",
       "      <td>0</td>\n",
       "      <td>0</td>\n",
       "      <td>0</td>\n",
       "      <td>0</td>\n",
       "      <td>0</td>\n",
       "      <td>0</td>\n",
       "      <td>0</td>\n",
       "      <td>0</td>\n",
       "      <td>0</td>\n",
       "    </tr>\n",
       "  </tbody>\n",
       "</table>\n",
       "<p>1116 rows × 7307 columns</p>\n",
       "</div>"
      ],
      "text/plain": [
       "      3189374977  4057006083  3849781254  1692696596  2996895764  3884023835  \\\n",
       "0     0           0           0           0           0           0            \n",
       "1     0           0           0           0           0           0            \n",
       "2     0           0           0           0           0           0            \n",
       "3     0           0           0           0           0           0            \n",
       "4     0           0           0           0           0           0            \n",
       "...  ..          ..          ..          ..          ..          ..            \n",
       "1111  0           0           0           0           0           0            \n",
       "1112  0           0           0           0           0           0            \n",
       "1113  0           0           0           0           0           0            \n",
       "1114  0           0           0           0           0           0            \n",
       "1115  0           0           0           0           0           0            \n",
       "\n",
       "      1868824604  3123347485  2536964126  3858497572  ...  838893522  \\\n",
       "0     0           0           0           0           ...  0           \n",
       "1     0           0           0           0           ...  0           \n",
       "2     0           0           0           0           ...  0           \n",
       "3     0           0           0           0           ...  0           \n",
       "4     0           0           0           0           ...  0           \n",
       "...  ..          ..          ..          ..           ... ..           \n",
       "1111  0           0           0           0           ...  0           \n",
       "1112  0           0           0           0           ...  0           \n",
       "1113  0           0           0           0           ...  0           \n",
       "1114  0           0           0           0           ...  0           \n",
       "1115  0           0           0           0           ...  0           \n",
       "\n",
       "      2822209494  178782170  1992589278  3637149665  1407549416  1068204010  \\\n",
       "0     0           0          0           0           0           0            \n",
       "1     0           0          0           0           0           0            \n",
       "2     0           0          0           0           0           0            \n",
       "3     0           0          0           0           0           0            \n",
       "4     0           0          0           0           0           0            \n",
       "...  ..          ..         ..          ..          ..          ..            \n",
       "1111  0           0          0           0           0           0            \n",
       "1112  0           0          0           0           0           0            \n",
       "1113  0           0          0           0           0           0            \n",
       "1114  0           0          0           0           0           0            \n",
       "1115  0           0          0           0           0           0            \n",
       "\n",
       "      3158114287  1436286969  477790203  \n",
       "0     0           0           0          \n",
       "1     0           0           0          \n",
       "2     0           0           0          \n",
       "3     0           0           0          \n",
       "4     0           0           0          \n",
       "...  ..          ..          ..          \n",
       "1111  0           0           0          \n",
       "1112  0           0           0          \n",
       "1113  0           0           0          \n",
       "1114  0           0           0          \n",
       "1115  0           0           0          \n",
       "\n",
       "[1116 rows x 7307 columns]"
      ]
     },
     "execution_count": 17,
     "metadata": {},
     "output_type": "execute_result"
    }
   ],
   "source": [
    "cir = CircularLearner(minRadius=1, maxRadius=4)\n",
    "cirMatrix = cir.GetCircularMatrix(mols)\n",
    "cirMatrix"
   ]
  },
  {
   "cell_type": "markdown",
   "metadata": {},
   "source": [
    "Through calling <code>fragments</code> attribute to obtain the fragment of each molecule"
   ]
  },
  {
   "cell_type": "code",
   "execution_count": 21,
   "metadata": {
    "ExecuteTime": {
     "end_time": "2020-08-28T12:51:34.367995Z",
     "start_time": "2020-08-28T12:51:34.357027Z"
    },
    "scrolled": true
   },
   "outputs": [
    {
     "name": "stdout",
     "output_type": "stream",
     "text": [
      "<class 'list'>\n"
     ]
    },
    {
     "data": {
      "text/plain": [
       "([43357009,\n",
       "  98513984,\n",
       "  108636803,\n",
       "  148111336,\n",
       "  188636353,\n",
       "  357479950,\n",
       "  411967733,\n",
       "  550940897,\n",
       "  697834592,\n",
       "  716321151,\n",
       "  847961216,\n",
       "  864942730,\n",
       "  951226070,\n",
       "  1020050621,\n",
       "  1199438732,\n",
       "  1255595680,\n",
       "  1323467736,\n",
       "  1510328189,\n",
       "  1528858153,\n",
       "  1651469392,\n",
       "  1721838581,\n",
       "  1790668568,\n",
       "  1822270925,\n",
       "  1842898132,\n",
       "  1967842891,\n",
       "  2246699815,\n",
       "  2246728737,\n",
       "  2285694778,\n",
       "  2395941840,\n",
       "  2443601519,\n",
       "  2485791489,\n",
       "  2893110683,\n",
       "  2968968094,\n",
       "  3075161160,\n",
       "  3172526181,\n",
       "  3217380708,\n",
       "  3218693969,\n",
       "  3245643333,\n",
       "  3315961971,\n",
       "  3390623902,\n",
       "  3455955148,\n",
       "  3462479532,\n",
       "  3488480553,\n",
       "  3545365497,\n",
       "  3630982498,\n",
       "  3692055567,\n",
       "  3935156648,\n",
       "  3980805843,\n",
       "  3982076256,\n",
       "  3999906991,\n",
       "  4041573576,\n",
       "  4142616092],\n",
       " {3545365497: ('*C(=*)C',),\n",
       "  43357009: ('*c(*)NC(C)=O',),\n",
       "  1510328189: ('*C(*)=O',),\n",
       "  3075161160: ('*c1*ccc(NC(C)=O)c1-c(*)*',),\n",
       "  3245643333: ('CC(=O)Nc1cccc2c1-c1cc*cc1C2',),\n",
       "  1967842891: ('*C(=*)Nc1cccc(*)c1-c(*)*',),\n",
       "  2893110683: ('*C(=*)Nc1cccc2c1-c(*)c(*)C2',),\n",
       "  357479950: ('*c1cccc2c1-c(*)c(*)C2',),\n",
       "  1651469392: ('*C(=*)Nc1cccc2c1-c1ccccc1C2',),\n",
       "  108636803: ('CC(=O)Nc1cccc2c1-c1ccccc1C2',),\n",
       "  1020050621: ('*C(=*)Nc1cccc2c1-c1ccccc1C2',),\n",
       "  3935156648: ('*c(*)c1c(*)Cc2ccccc2-1',),\n",
       "  3488480553: ('*c1ccccc1-c(*)*',),\n",
       "  3455955148: ('*Cc1ccccc1-*',),\n",
       "  550940897: ('*c1c(*)-c2ccccc2C1',),\n",
       "  3390623902: ('*Nc1cccc2c1-c1ccccc1C2',),\n",
       "  1199438732: ('*Nc1cccc2c1-c1ccccc1C2',)})"
      ]
     },
     "execution_count": 21,
     "metadata": {},
     "output_type": "execute_result"
    }
   ],
   "source": [
    "print(type(cir.fragments))\n",
    "cir.fragments[1]"
   ]
  },
  {
   "cell_type": "markdown",
   "metadata": {},
   "source": [
    "By calling the attribute <code>substructure</code>, users can get the mapping table of ID and SMARTS of fragments."
   ]
  },
  {
   "cell_type": "code",
   "execution_count": 23,
   "metadata": {
    "ExecuteTime": {
     "end_time": "2020-08-28T12:55:26.570408Z",
     "start_time": "2020-08-28T12:55:26.551942Z"
    }
   },
   "outputs": [
    {
     "data": {
      "text/html": [
       "<div>\n",
       "<style scoped>\n",
       "    .dataframe tbody tr th:only-of-type {\n",
       "        vertical-align: middle;\n",
       "    }\n",
       "\n",
       "    .dataframe tbody tr th {\n",
       "        vertical-align: top;\n",
       "    }\n",
       "\n",
       "    .dataframe thead th {\n",
       "        text-align: right;\n",
       "    }\n",
       "</style>\n",
       "<table border=\"1\" class=\"dataframe\">\n",
       "  <thead>\n",
       "    <tr style=\"text-align: right;\">\n",
       "      <th></th>\n",
       "      <th>SMARTS</th>\n",
       "    </tr>\n",
       "  </thead>\n",
       "  <tbody>\n",
       "    <tr>\n",
       "      <th>3818546315</th>\n",
       "      <td>*N(*)C</td>\n",
       "    </tr>\n",
       "    <tr>\n",
       "      <th>2393963875</th>\n",
       "      <td>*cc(c*)N(C)C</td>\n",
       "    </tr>\n",
       "    <tr>\n",
       "      <th>3707826210</th>\n",
       "      <td>*c1ccc(N(C)C)cc1</td>\n",
       "    </tr>\n",
       "    <tr>\n",
       "      <th>1423313569</th>\n",
       "      <td>*N=Nc1ccc(N(C)C)cc1</td>\n",
       "    </tr>\n",
       "    <tr>\n",
       "      <th>3816821150</th>\n",
       "      <td>*c(*)N=Nc1ccc(N(C)C)cc1</td>\n",
       "    </tr>\n",
       "    <tr>\n",
       "      <th>...</th>\n",
       "      <td>...</td>\n",
       "    </tr>\n",
       "    <tr>\n",
       "      <th>1210522019</th>\n",
       "      <td>*c(*)SSc1nc2ccccc2s1</td>\n",
       "    </tr>\n",
       "    <tr>\n",
       "      <th>2539119380</th>\n",
       "      <td>*cc1nc(SSc2nc(*)c(*)s2)sc1c*</td>\n",
       "    </tr>\n",
       "    <tr>\n",
       "      <th>2898961219</th>\n",
       "      <td>*N(*)CCN(C)N=O</td>\n",
       "    </tr>\n",
       "    <tr>\n",
       "      <th>2472299575</th>\n",
       "      <td>CN(C)CCN(C)N=O</td>\n",
       "    </tr>\n",
       "    <tr>\n",
       "      <th>1622909284</th>\n",
       "      <td>*=NN(C)CCN(C)C</td>\n",
       "    </tr>\n",
       "  </tbody>\n",
       "</table>\n",
       "<p>7307 rows × 1 columns</p>\n",
       "</div>"
      ],
      "text/plain": [
       "                                  SMARTS\n",
       "3818546315  *N(*)C                      \n",
       "2393963875  *cc(c*)N(C)C                \n",
       "3707826210  *c1ccc(N(C)C)cc1            \n",
       "1423313569  *N=Nc1ccc(N(C)C)cc1         \n",
       "3816821150  *c(*)N=Nc1ccc(N(C)C)cc1     \n",
       "...                             ...     \n",
       "1210522019  *c(*)SSc1nc2ccccc2s1        \n",
       "2539119380  *cc1nc(SSc2nc(*)c(*)s2)sc1c*\n",
       "2898961219  *N(*)CCN(C)N=O              \n",
       "2472299575  CN(C)CCN(C)N=O              \n",
       "1622909284  *=NN(C)CCN(C)C              \n",
       "\n",
       "[7307 rows x 1 columns]"
      ]
     },
     "execution_count": 23,
     "metadata": {},
     "output_type": "execute_result"
    }
   ],
   "source": [
    "cir.substructure"
   ]
  },
  {
   "cell_type": "markdown",
   "metadata": {},
   "source": [
    "The **Path** and **FuntionGroup** fragment matrix are similar to **Circular** one."
   ]
  },
  {
   "cell_type": "markdown",
   "metadata": {},
   "source": [
    "### Obtain significant fragments"
   ]
  },
  {
   "cell_type": "markdown",
   "metadata": {},
   "source": [
    "The statistical method to judge a fragment is significant based on the probability density function of the binomial distribution with following equation:<br>\n",
    "$$P_{value}=\\Sigma_{i=ms}^{ns}\\frac{ns!}{i!(ns-i)!}(\\frac{m}{n})^{i}(1-\\frac{m}{n})^{ns-i}$$\n",
    "\n",
    "**Note:** In $n$ compounds has $m$ compounds with aspecific activity label and specific fragment is found in $ns$ compounds the amount of those compounds with the specific activity label is $ms$."
   ]
  },
  {
   "cell_type": "markdown",
   "metadata": {},
   "source": [
    "User can dispose the above mentioned fragment matrix with function <code>samsh.Pvalue()</code>. "
   ]
  },
  {
   "cell_type": "code",
   "execution_count": 24,
   "metadata": {
    "ExecuteTime": {
     "end_time": "2020-08-28T13:08:58.947098Z",
     "start_time": "2020-08-28T13:08:58.940331Z"
    }
   },
   "outputs": [],
   "source": [
    "from smash import Pvalue"
   ]
  },
  {
   "cell_type": "code",
   "execution_count": 28,
   "metadata": {
    "ExecuteTime": {
     "end_time": "2020-08-28T13:12:18.946019Z",
     "start_time": "2020-08-28T13:12:18.935049Z"
    }
   },
   "outputs": [],
   "source": [
    "n = len(cirMatrix)\n",
    "m = labels.sum()\n",
    "#the 3189374977 fragment \n",
    "ns = cirMatrix.iloc[:,0].sum()\n",
    "ms = cirMatrix.iloc[:,0][labels==1].sum()"
   ]
  },
  {
   "cell_type": "code",
   "execution_count": 30,
   "metadata": {
    "ExecuteTime": {
     "end_time": "2020-08-28T13:13:01.897698Z",
     "start_time": "2020-08-28T13:13:01.884731Z"
    }
   },
   "outputs": [
    {
     "data": {
      "text/plain": [
       "0.6792114695340502"
      ]
     },
     "execution_count": 30,
     "metadata": {},
     "output_type": "execute_result"
    }
   ],
   "source": [
    "sum(Pvalue(n, m, ns, ms))"
   ]
  },
  {
   "cell_type": "markdown",
   "metadata": {},
   "source": [
    "The $P_{value}$ of *3189374977* is higher than what we generally think of as the threshold of significance: 0.05.Therefore, it is considered that this fragment has no correlation with chemical carcinogens."
   ]
  },
  {
   "cell_type": "markdown",
   "metadata": {},
   "source": [
    "Besides calculating the $P_{value}$ of each fragment one by one, we encapsulated three Class: <code>smash.CircularLearner</code>, <code>smash.PathLearner</code> and <code>smash.FunctionGroupLearner</code> to easily obtain the highly correlated fragments."
   ]
  },
  {
   "cell_type": "code",
   "execution_count": 31,
   "metadata": {
    "ExecuteTime": {
     "end_time": "2020-08-28T13:27:06.889469Z",
     "start_time": "2020-08-28T13:27:06.882489Z"
    }
   },
   "outputs": [],
   "source": [
    "cirLearner = CircularLearner(minRadius=1, maxRadius=4) #determine the size of the fragment"
   ]
  },
  {
   "cell_type": "markdown",
   "metadata": {},
   "source": [
    "Through <code>fit</code> method, the learner can summarize the corresponding type of significant fragments.\n",
    "\n",
    "The <code>fit</code> method could accept eight parameters:\n",
    "\n",
    "    mols : Iterable object, and each element is a rdkit.Chem.rdchem.Mol object\n",
    "        Compounds, which have aspecific endpoint label, used to obtain significant fragments\n",
    "    labels : array-like of shape (len(mols),)\n",
    "        The target values (class labels in classification)\n",
    "    aimLabel : any, optional\n",
    "        The label to be regarded as activity label (class labels in classification), by default 1\n",
    "    minNum : int, optional\n",
    "        The minimum frequency a fragment required, by default 5\n",
    "    pCutoff : float, optional\n",
    "        The pvalue cutoff, a fragment would be regarded as significant if its pvalue below pCutoff, by default 0.05\n",
    "    accCutoff : float, optional\n",
    "        The minimum accraucy lead by a fragment judge, by default None\n",
    "    Bonferroni : bool, optional\n",
    "        Whether use Bonferroni method to revised, by default False\n",
    "    svg : bool, optional\n",
    "        Whether output with a svg image, by default True"
   ]
  },
  {
   "cell_type": "code",
   "execution_count": 33,
   "metadata": {
    "ExecuteTime": {
     "end_time": "2020-08-28T13:33:36.655490Z",
     "start_time": "2020-08-28T13:33:00.582430Z"
    }
   },
   "outputs": [
    {
     "data": {
      "text/plain": [
       "<smash.CircularLearner at 0x1abc82e8518>"
      ]
     },
     "execution_count": 33,
     "metadata": {},
     "output_type": "execute_result"
    }
   ],
   "source": [
    "cirLearner.fit(mols, labels, aimLabel=1,\n",
    "               pCutoff=0.05, accCutoff=0.7)"
   ]
  },
  {
   "cell_type": "markdown",
   "metadata": {},
   "source": [
    "Similarity, calling <code>sigMatrix</code> attribute, user can obtain the **significant** fragments matrix."
   ]
  },
  {
   "cell_type": "code",
   "execution_count": 34,
   "metadata": {
    "ExecuteTime": {
     "end_time": "2020-08-28T13:36:09.743197Z",
     "start_time": "2020-08-28T13:36:09.705781Z"
    },
    "scrolled": false
   },
   "outputs": [
    {
     "data": {
      "text/html": [
       "<div>\n",
       "<style scoped>\n",
       "    .dataframe tbody tr th:only-of-type {\n",
       "        vertical-align: middle;\n",
       "    }\n",
       "\n",
       "    .dataframe tbody tr th {\n",
       "        vertical-align: top;\n",
       "    }\n",
       "\n",
       "    .dataframe thead th {\n",
       "        text-align: right;\n",
       "    }\n",
       "</style>\n",
       "<table border=\"1\" class=\"dataframe\">\n",
       "  <thead>\n",
       "    <tr style=\"text-align: right;\">\n",
       "      <th></th>\n",
       "      <th>2380084179</th>\n",
       "      <th>3153453529</th>\n",
       "      <th>1470580613</th>\n",
       "      <th>3440991424</th>\n",
       "      <th>3356397823</th>\n",
       "      <th>1083852209</th>\n",
       "      <th>1147919419</th>\n",
       "      <th>2378775366</th>\n",
       "      <th>3095540251</th>\n",
       "      <th>2378779377</th>\n",
       "      <th>...</th>\n",
       "      <th>178782170</th>\n",
       "      <th>1330196390</th>\n",
       "      <th>535847852</th>\n",
       "      <th>198706261</th>\n",
       "      <th>1495075844</th>\n",
       "      <th>4235614536</th>\n",
       "      <th>3888780669</th>\n",
       "      <th>3989046787</th>\n",
       "      <th>3575264755</th>\n",
       "      <th>1429883190</th>\n",
       "    </tr>\n",
       "  </thead>\n",
       "  <tbody>\n",
       "    <tr>\n",
       "      <th>0</th>\n",
       "      <td>0</td>\n",
       "      <td>0</td>\n",
       "      <td>0</td>\n",
       "      <td>0</td>\n",
       "      <td>0</td>\n",
       "      <td>0</td>\n",
       "      <td>0</td>\n",
       "      <td>0</td>\n",
       "      <td>0</td>\n",
       "      <td>0</td>\n",
       "      <td>...</td>\n",
       "      <td>0</td>\n",
       "      <td>0</td>\n",
       "      <td>0</td>\n",
       "      <td>0</td>\n",
       "      <td>0</td>\n",
       "      <td>0</td>\n",
       "      <td>0</td>\n",
       "      <td>0</td>\n",
       "      <td>0</td>\n",
       "      <td>0</td>\n",
       "    </tr>\n",
       "    <tr>\n",
       "      <th>1</th>\n",
       "      <td>0</td>\n",
       "      <td>0</td>\n",
       "      <td>0</td>\n",
       "      <td>0</td>\n",
       "      <td>0</td>\n",
       "      <td>0</td>\n",
       "      <td>0</td>\n",
       "      <td>0</td>\n",
       "      <td>0</td>\n",
       "      <td>0</td>\n",
       "      <td>...</td>\n",
       "      <td>0</td>\n",
       "      <td>0</td>\n",
       "      <td>0</td>\n",
       "      <td>0</td>\n",
       "      <td>0</td>\n",
       "      <td>0</td>\n",
       "      <td>0</td>\n",
       "      <td>0</td>\n",
       "      <td>0</td>\n",
       "      <td>0</td>\n",
       "    </tr>\n",
       "    <tr>\n",
       "      <th>2</th>\n",
       "      <td>0</td>\n",
       "      <td>0</td>\n",
       "      <td>0</td>\n",
       "      <td>0</td>\n",
       "      <td>0</td>\n",
       "      <td>0</td>\n",
       "      <td>0</td>\n",
       "      <td>0</td>\n",
       "      <td>0</td>\n",
       "      <td>0</td>\n",
       "      <td>...</td>\n",
       "      <td>0</td>\n",
       "      <td>0</td>\n",
       "      <td>0</td>\n",
       "      <td>0</td>\n",
       "      <td>0</td>\n",
       "      <td>0</td>\n",
       "      <td>0</td>\n",
       "      <td>0</td>\n",
       "      <td>0</td>\n",
       "      <td>0</td>\n",
       "    </tr>\n",
       "    <tr>\n",
       "      <th>3</th>\n",
       "      <td>0</td>\n",
       "      <td>0</td>\n",
       "      <td>0</td>\n",
       "      <td>0</td>\n",
       "      <td>0</td>\n",
       "      <td>0</td>\n",
       "      <td>0</td>\n",
       "      <td>0</td>\n",
       "      <td>0</td>\n",
       "      <td>0</td>\n",
       "      <td>...</td>\n",
       "      <td>0</td>\n",
       "      <td>0</td>\n",
       "      <td>0</td>\n",
       "      <td>0</td>\n",
       "      <td>0</td>\n",
       "      <td>0</td>\n",
       "      <td>0</td>\n",
       "      <td>0</td>\n",
       "      <td>0</td>\n",
       "      <td>0</td>\n",
       "    </tr>\n",
       "    <tr>\n",
       "      <th>4</th>\n",
       "      <td>0</td>\n",
       "      <td>0</td>\n",
       "      <td>0</td>\n",
       "      <td>0</td>\n",
       "      <td>0</td>\n",
       "      <td>0</td>\n",
       "      <td>0</td>\n",
       "      <td>0</td>\n",
       "      <td>0</td>\n",
       "      <td>0</td>\n",
       "      <td>...</td>\n",
       "      <td>0</td>\n",
       "      <td>0</td>\n",
       "      <td>0</td>\n",
       "      <td>0</td>\n",
       "      <td>0</td>\n",
       "      <td>0</td>\n",
       "      <td>0</td>\n",
       "      <td>0</td>\n",
       "      <td>0</td>\n",
       "      <td>0</td>\n",
       "    </tr>\n",
       "    <tr>\n",
       "      <th>...</th>\n",
       "      <td>...</td>\n",
       "      <td>...</td>\n",
       "      <td>...</td>\n",
       "      <td>...</td>\n",
       "      <td>...</td>\n",
       "      <td>...</td>\n",
       "      <td>...</td>\n",
       "      <td>...</td>\n",
       "      <td>...</td>\n",
       "      <td>...</td>\n",
       "      <td>...</td>\n",
       "      <td>...</td>\n",
       "      <td>...</td>\n",
       "      <td>...</td>\n",
       "      <td>...</td>\n",
       "      <td>...</td>\n",
       "      <td>...</td>\n",
       "      <td>...</td>\n",
       "      <td>...</td>\n",
       "      <td>...</td>\n",
       "      <td>...</td>\n",
       "    </tr>\n",
       "    <tr>\n",
       "      <th>1111</th>\n",
       "      <td>0</td>\n",
       "      <td>0</td>\n",
       "      <td>0</td>\n",
       "      <td>0</td>\n",
       "      <td>0</td>\n",
       "      <td>0</td>\n",
       "      <td>0</td>\n",
       "      <td>0</td>\n",
       "      <td>0</td>\n",
       "      <td>0</td>\n",
       "      <td>...</td>\n",
       "      <td>0</td>\n",
       "      <td>0</td>\n",
       "      <td>0</td>\n",
       "      <td>0</td>\n",
       "      <td>0</td>\n",
       "      <td>0</td>\n",
       "      <td>0</td>\n",
       "      <td>0</td>\n",
       "      <td>0</td>\n",
       "      <td>0</td>\n",
       "    </tr>\n",
       "    <tr>\n",
       "      <th>1112</th>\n",
       "      <td>0</td>\n",
       "      <td>0</td>\n",
       "      <td>0</td>\n",
       "      <td>0</td>\n",
       "      <td>0</td>\n",
       "      <td>0</td>\n",
       "      <td>0</td>\n",
       "      <td>0</td>\n",
       "      <td>0</td>\n",
       "      <td>0</td>\n",
       "      <td>...</td>\n",
       "      <td>0</td>\n",
       "      <td>0</td>\n",
       "      <td>0</td>\n",
       "      <td>0</td>\n",
       "      <td>0</td>\n",
       "      <td>0</td>\n",
       "      <td>0</td>\n",
       "      <td>0</td>\n",
       "      <td>0</td>\n",
       "      <td>0</td>\n",
       "    </tr>\n",
       "    <tr>\n",
       "      <th>1113</th>\n",
       "      <td>0</td>\n",
       "      <td>0</td>\n",
       "      <td>0</td>\n",
       "      <td>0</td>\n",
       "      <td>0</td>\n",
       "      <td>0</td>\n",
       "      <td>0</td>\n",
       "      <td>0</td>\n",
       "      <td>0</td>\n",
       "      <td>0</td>\n",
       "      <td>...</td>\n",
       "      <td>0</td>\n",
       "      <td>0</td>\n",
       "      <td>0</td>\n",
       "      <td>0</td>\n",
       "      <td>0</td>\n",
       "      <td>0</td>\n",
       "      <td>0</td>\n",
       "      <td>0</td>\n",
       "      <td>0</td>\n",
       "      <td>0</td>\n",
       "    </tr>\n",
       "    <tr>\n",
       "      <th>1114</th>\n",
       "      <td>0</td>\n",
       "      <td>0</td>\n",
       "      <td>0</td>\n",
       "      <td>0</td>\n",
       "      <td>0</td>\n",
       "      <td>0</td>\n",
       "      <td>0</td>\n",
       "      <td>0</td>\n",
       "      <td>0</td>\n",
       "      <td>0</td>\n",
       "      <td>...</td>\n",
       "      <td>0</td>\n",
       "      <td>0</td>\n",
       "      <td>0</td>\n",
       "      <td>0</td>\n",
       "      <td>0</td>\n",
       "      <td>0</td>\n",
       "      <td>0</td>\n",
       "      <td>0</td>\n",
       "      <td>0</td>\n",
       "      <td>0</td>\n",
       "    </tr>\n",
       "    <tr>\n",
       "      <th>1115</th>\n",
       "      <td>1</td>\n",
       "      <td>0</td>\n",
       "      <td>0</td>\n",
       "      <td>0</td>\n",
       "      <td>0</td>\n",
       "      <td>0</td>\n",
       "      <td>0</td>\n",
       "      <td>0</td>\n",
       "      <td>1</td>\n",
       "      <td>0</td>\n",
       "      <td>...</td>\n",
       "      <td>0</td>\n",
       "      <td>0</td>\n",
       "      <td>0</td>\n",
       "      <td>0</td>\n",
       "      <td>0</td>\n",
       "      <td>0</td>\n",
       "      <td>0</td>\n",
       "      <td>0</td>\n",
       "      <td>0</td>\n",
       "      <td>0</td>\n",
       "    </tr>\n",
       "  </tbody>\n",
       "</table>\n",
       "<p>1116 rows × 23 columns</p>\n",
       "</div>"
      ],
      "text/plain": [
       "      2380084179  3153453529  1470580613  3440991424  3356397823  1083852209  \\\n",
       "0     0           0           0           0           0           0            \n",
       "1     0           0           0           0           0           0            \n",
       "2     0           0           0           0           0           0            \n",
       "3     0           0           0           0           0           0            \n",
       "4     0           0           0           0           0           0            \n",
       "...  ..          ..          ..          ..          ..          ..            \n",
       "1111  0           0           0           0           0           0            \n",
       "1112  0           0           0           0           0           0            \n",
       "1113  0           0           0           0           0           0            \n",
       "1114  0           0           0           0           0           0            \n",
       "1115  1           0           0           0           0           0            \n",
       "\n",
       "      1147919419  2378775366  3095540251  2378779377  ...  178782170  \\\n",
       "0     0           0           0           0           ...  0           \n",
       "1     0           0           0           0           ...  0           \n",
       "2     0           0           0           0           ...  0           \n",
       "3     0           0           0           0           ...  0           \n",
       "4     0           0           0           0           ...  0           \n",
       "...  ..          ..          ..          ..           ... ..           \n",
       "1111  0           0           0           0           ...  0           \n",
       "1112  0           0           0           0           ...  0           \n",
       "1113  0           0           0           0           ...  0           \n",
       "1114  0           0           0           0           ...  0           \n",
       "1115  0           0           1           0           ...  0           \n",
       "\n",
       "      1330196390  535847852  198706261  1495075844  4235614536  3888780669  \\\n",
       "0     0           0          0          0           0           0            \n",
       "1     0           0          0          0           0           0            \n",
       "2     0           0          0          0           0           0            \n",
       "3     0           0          0          0           0           0            \n",
       "4     0           0          0          0           0           0            \n",
       "...  ..          ..         ..         ..          ..          ..            \n",
       "1111  0           0          0          0           0           0            \n",
       "1112  0           0          0          0           0           0            \n",
       "1113  0           0          0          0           0           0            \n",
       "1114  0           0          0          0           0           0            \n",
       "1115  0           0          0          0           0           0            \n",
       "\n",
       "      3989046787  3575264755  1429883190  \n",
       "0     0           0           0           \n",
       "1     0           0           0           \n",
       "2     0           0           0           \n",
       "3     0           0           0           \n",
       "4     0           0           0           \n",
       "...  ..          ..          ..           \n",
       "1111  0           0           0           \n",
       "1112  0           0           0           \n",
       "1113  0           0           0           \n",
       "1114  0           0           0           \n",
       "1115  0           0           0           \n",
       "\n",
       "[1116 rows x 23 columns]"
      ]
     },
     "execution_count": 34,
     "metadata": {},
     "output_type": "execute_result"
    }
   ],
   "source": [
    "cirLearner.sigMatrix"
   ]
  },
  {
   "cell_type": "markdown",
   "metadata": {},
   "source": [
    "Calling the <code>sigPvalue</code> attribute, a statistical information of significant fragments including the $P_{value}$ will be returned.\n",
    "\n",
    "**Note:**<br>\n",
    "$Accuracy=\\frac{ms}{ns}$ $Coverage=\\frac{ms}{m}$\n",
    "\n",
    "The default highlight colors for the Morgan bits indicate:\n",
    "\n",
    "    blue: the central atom in the environment\n",
    "\n",
    "    yellow: aromatic atoms\n",
    "\n",
    "    gray: aliphatic ring atoms"
   ]
  },
  {
   "cell_type": "code",
   "execution_count": 37,
   "metadata": {
    "ExecuteTime": {
     "end_time": "2020-08-28T13:41:45.600693Z",
     "start_time": "2020-08-28T13:41:45.583741Z"
    },
    "scrolled": false
   },
   "outputs": [
    {
     "data": {
      "text/html": [
       "<table border=\"1\" class=\"dataframe\">\n",
       "  <thead>\n",
       "    <tr style=\"text-align: right;\">\n",
       "      <th></th>\n",
       "      <th>Pvalue</th>\n",
       "      <th>Total</th>\n",
       "      <th>Hitted</th>\n",
       "      <th>Accuracy</th>\n",
       "      <th>Coverage</th>\n",
       "      <th>SMARTS</th>\n",
       "      <th>Substructure</th>\n",
       "    </tr>\n",
       "  </thead>\n",
       "  <tbody>\n",
       "    <tr>\n",
       "      <th>2380084179</th>\n",
       "      <td>6.669066e-09</td>\n",
       "      <td>127</td>\n",
       "      <td>114</td>\n",
       "      <td>0.897638</td>\n",
       "      <td>0.150396</td>\n",
       "      <td>*N=O</td>\n",
       "      <td><?xml version='1.0' encoding='iso-8859-1'?><svg version='1.1' baseProfile='full'              xmlns='http://www.w3.org/2000/svg'                      xmlns:rdkit='http://www.rdkit.org/xml'                      xmlns:xlink='http://www.w3.org/1999/xlink'                  xml:space='preserve'width='150px' height='150px' ><!-- END OF HEADER --><rect style='opacity:1.0;fill:#FFFFFF;stroke:none' width='150' height='150' x='0' y='0'> </rect><ellipse cx='118.38' cy='30.4489' rx='15.9333' ry='15.9333' style='fill:#9999E5;fill-rule:evenodd;stroke:#9999E5;stroke-width:2px;stroke-linecap:butt;stroke-linejoin:miter;stroke-opacity:1' /><path class='bond-0' d='M 37.2805,52.0849 15.7158,112.051' style='fill:none;fill-rule:evenodd;stroke:#E5E5E5;stroke-width:4px;stroke-linecap:butt;stroke-linejoin:miter;stroke-opacity:1' /><path class='bond-1' d='M 47.8918,51.253 80.3402,45.4025' style='fill:none;fill-rule:evenodd;stroke:#0000FF;stroke-width:2px;stroke-linecap:butt;stroke-linejoin:miter;stroke-opacity:1' /><path class='bond-1' d='M 80.3402,45.4025 112.789,39.552' style='fill:none;fill-rule:evenodd;stroke:#FF0000;stroke-width:2px;stroke-linecap:butt;stroke-linejoin:miter;stroke-opacity:1' /><path class='bond-1' d='M 45.0646,35.5726 77.513,29.7221' style='fill:none;fill-rule:evenodd;stroke:#0000FF;stroke-width:2px;stroke-linecap:butt;stroke-linejoin:miter;stroke-opacity:1' /><path class='bond-1' d='M 77.513,29.7221 109.961,23.8716' style='fill:none;fill-rule:evenodd;stroke:#FF0000;stroke-width:2px;stroke-linecap:butt;stroke-linejoin:miter;stroke-opacity:1' /><text x='33.477' y='52.0849' style='font-size:15px;font-style:normal;font-weight:normal;fill-opacity:1;stroke:none;font-family:sans-serif;text-anchor:start;fill:#0000FF' ><tspan>N</tspan></text><text x='9.5163' y='127.051' style='font-size:15px;font-style:normal;font-weight:normal;fill-opacity:1;stroke:none;font-family:sans-serif;text-anchor:start;fill:#7F7F7F' ><tspan>*</tspan></text><text x='111.375' y='37.9489' style='font-size:15px;font-style:normal;font-weight:normal;fill-opacity:1;stroke:none;font-family:sans-serif;text-anchor:start;fill:#FF0000' ><tspan>O</tspan></text></svg></td>\n",
       "    </tr>\n",
       "    <tr>\n",
       "      <th>3153453529</th>\n",
       "      <td>1.368092e-04</td>\n",
       "      <td>23</td>\n",
       "      <td>23</td>\n",
       "      <td>1.000000</td>\n",
       "      <td>0.030343</td>\n",
       "      <td>*CN(N=O)C(*)=*</td>\n",
       "      <td><?xml version='1.0' encoding='iso-8859-1'?><svg version='1.1' baseProfile='full'              xmlns='http://www.w3.org/2000/svg'                      xmlns:rdkit='http://www.rdkit.org/xml'                      xmlns:xlink='http://www.w3.org/1999/xlink'                  xml:space='preserve'width='150px' height='150px' ><!-- END OF HEADER --><rect style='opacity:1.0;fill:#FFFFFF;stroke:none' width='150' height='150' x='0' y='0'> </rect><ellipse cx='79.6996' cy='34.8364' rx='7.27966' ry='7.27966' style='fill:#9999E5;fill-rule:evenodd;stroke:#9999E5;stroke-width:2px;stroke-linecap:butt;stroke-linejoin:miter;stroke-opacity:1' /><path class='bond-0' d='M 15.3169,64.9575 41.3922,84.9069' style='fill:none;fill-rule:evenodd;stroke:#E5E5E5;stroke-width:4px;stroke-linecap:butt;stroke-linejoin:miter;stroke-opacity:1' /><path class='bond-5' d='M 41.3922,84.9069 55.5671,79.0118' style='fill:none;fill-rule:evenodd;stroke:#000000;stroke-width:2px;stroke-linecap:butt;stroke-linejoin:miter;stroke-opacity:1' /><path class='bond-5' d='M 55.5671,79.0118 69.742,73.1168' style='fill:none;fill-rule:evenodd;stroke:#0000FF;stroke-width:2px;stroke-linecap:butt;stroke-linejoin:miter;stroke-opacity:1' /><path class='bond-1' d='M 100.299,92.5768 96.3891,122.604' style='fill:none;fill-rule:evenodd;stroke:#E5E5E5;stroke-width:4px;stroke-linecap:butt;stroke-linejoin:miter;stroke-opacity:1' /><path class='bond-1' d='M 107.518,93.5168 103.608,123.544' style='fill:none;fill-rule:evenodd;stroke:#E5E5E5;stroke-width:4px;stroke-linecap:butt;stroke-linejoin:miter;stroke-opacity:1' /><path class='bond-2' d='M 103.908,93.0468 134.683,80.2481' style='fill:none;fill-rule:evenodd;stroke:#E5E5E5;stroke-width:4px;stroke-linecap:butt;stroke-linejoin:miter;stroke-opacity:1' /><path class='bond-6' d='M 103.908,93.0468 92.0831,83.9998' style='fill:none;fill-rule:evenodd;stroke:#000000;stroke-width:2px;stroke-linecap:butt;stroke-linejoin:miter;stroke-opacity:1' /><path class='bond-6' d='M 92.0831,83.9998 80.258,74.9528' style='fill:none;fill-rule:evenodd;stroke:#0000FF;stroke-width:2px;stroke-linecap:butt;stroke-linejoin:miter;stroke-opacity:1' /><path class='bond-3' d='M 75.7899,64.8637 78.9097,40.9028' style='fill:none;fill-rule:evenodd;stroke:#0000FF;stroke-width:2px;stroke-linecap:butt;stroke-linejoin:miter;stroke-opacity:1' /><path class='bond-4' d='M 86.3553,36.0105 97.6972,31.2936' style='fill:none;fill-rule:evenodd;stroke:#0000FF;stroke-width:2px;stroke-linecap:butt;stroke-linejoin:miter;stroke-opacity:1' /><path class='bond-4' d='M 97.6972,31.2936 109.039,26.5767' style='fill:none;fill-rule:evenodd;stroke:#FF0000;stroke-width:2px;stroke-linecap:butt;stroke-linejoin:miter;stroke-opacity:1' /><path class='bond-4' d='M 83.5599,29.2889 94.9019,24.572' style='fill:none;fill-rule:evenodd;stroke:#0000FF;stroke-width:2px;stroke-linecap:butt;stroke-linejoin:miter;stroke-opacity:1' /><path class='bond-4' d='M 94.9019,24.572 106.244,19.8551' style='fill:none;fill-rule:evenodd;stroke:#FF0000;stroke-width:2px;stroke-linecap:butt;stroke-linejoin:miter;stroke-opacity:1' /><text x='9.6511' y='68.8565' style='font-size:12px;font-style:normal;font-weight:normal;fill-opacity:1;stroke:none;font-family:sans-serif;text-anchor:start;fill:#7F7F7F' ><tspan>*</tspan></text><text x='96.3757' y='135.207' style='font-size:12px;font-style:normal;font-weight:normal;fill-opacity:1;stroke:none;font-family:sans-serif;text-anchor:start;fill:#7F7F7F' ><tspan>*</tspan></text><text x='134.683' y='85.1363' style='font-size:12px;font-style:normal;font-weight:normal;fill-opacity:1;stroke:none;font-family:sans-serif;text-anchor:start;fill:#7F7F7F' ><tspan>*</tspan></text><text x='69.742' y='76.9964' style='font-size:12px;font-style:normal;font-weight:normal;fill-opacity:1;stroke:none;font-family:sans-serif;text-anchor:start;fill:#0000FF' ><tspan>N</tspan></text><text x='74.4416' y='40.9028' style='font-size:12px;font-style:normal;font-weight:normal;fill-opacity:1;stroke:none;font-family:sans-serif;text-anchor:start;fill:#0000FF' ><tspan>N</tspan></text><text x='107.642' y='26.926' style='font-size:12px;font-style:normal;font-weight:normal;fill-opacity:1;stroke:none;font-family:sans-serif;text-anchor:start;fill:#FF0000' ><tspan>O</tspan></text></svg></td>\n",
       "    </tr>\n",
       "    <tr>\n",
       "      <th>1470580613</th>\n",
       "      <td>9.464337e-04</td>\n",
       "      <td>18</td>\n",
       "      <td>18</td>\n",
       "      <td>1.000000</td>\n",
       "      <td>0.023747</td>\n",
       "      <td>*c(*)-c1ccc([N+](=O)[O-])o1</td>\n",
       "      <td><?xml version='1.0' encoding='iso-8859-1'?><svg version='1.1' baseProfile='full'              xmlns='http://www.w3.org/2000/svg'                      xmlns:rdkit='http://www.rdkit.org/xml'                      xmlns:xlink='http://www.w3.org/1999/xlink'                  xml:space='preserve'width='150px' height='150px' ><!-- END OF HEADER --><rect style='opacity:1.0;fill:#FFFFFF;stroke:none' width='150' height='150' x='0' y='0'> </rect><ellipse cx='29.7365' cy='75.0173' rx='4.92656' ry='4.92656' style='fill:#E5E533;fill-rule:evenodd;stroke:#E5E533;stroke-width:2px;stroke-linecap:butt;stroke-linejoin:miter;stroke-opacity:1' /><ellipse cx='93.3479' cy='70.9707' rx='4.92656' ry='4.92656' style='fill:#E5E533;fill-rule:evenodd;stroke:#E5E533;stroke-width:2px;stroke-linecap:butt;stroke-linejoin:miter;stroke-opacity:1' /><ellipse cx='87.0634' cy='47.153' rx='4.92656' ry='4.92656' style='fill:#9999E5;fill-rule:evenodd;stroke:#9999E5;stroke-width:2px;stroke-linecap:butt;stroke-linejoin:miter;stroke-opacity:1' /><ellipse cx='62.4695' cy='45.7699' rx='4.92656' ry='4.92656' style='fill:#E5E533;fill-rule:evenodd;stroke:#E5E533;stroke-width:2px;stroke-linecap:butt;stroke-linejoin:miter;stroke-opacity:1' /><ellipse cx='72.638' cy='84.3076' rx='4.92656' ry='4.92656' style='fill:#E5E533;fill-rule:evenodd;stroke:#E5E533;stroke-width:2px;stroke-linecap:butt;stroke-linejoin:miter;stroke-opacity:1' /><ellipse cx='53.5541' cy='68.7327' rx='4.92656' ry='4.92656' style='fill:#E5E533;fill-rule:evenodd;stroke:#E5E533;stroke-width:2px;stroke-linecap:butt;stroke-linejoin:miter;stroke-opacity:1' /><path class='bond-0' d='M 29.7365,75.0173 22.4151,93.8746' style='fill:none;fill-rule:evenodd;stroke:#E5E5E5;stroke-width:4px;stroke-linecap:butt;stroke-linejoin:miter;stroke-opacity:1' /><path class='bond-0' d='M 24.0457,76.0628 18.9207,89.2629' style='fill:none;fill-rule:evenodd;stroke:#E5E5E5;stroke-width:4px;stroke-linecap:butt;stroke-linejoin:miter;stroke-opacity:1;stroke-dasharray:6,6' /><path class='bond-1' d='M 29.7365,75.0173 12.5698,61.007' style='fill:none;fill-rule:evenodd;stroke:#E5E5E5;stroke-width:4px;stroke-linecap:butt;stroke-linejoin:miter;stroke-opacity:1' /><path class='bond-1' d='M 24.0465,76.7325 12.0298,66.9253' style='fill:none;fill-rule:evenodd;stroke:#E5E5E5;stroke-width:4px;stroke-linecap:butt;stroke-linejoin:miter;stroke-opacity:1;stroke-dasharray:6,6' /><path class='bond-10' d='M 29.7365,75.0173 53.5541,68.7327' style='fill:none;fill-rule:evenodd;stroke:#000000;stroke-width:2px;stroke-linecap:butt;stroke-linejoin:miter;stroke-opacity:1' /><path class='bond-2' d='M 93.3479,70.9707 87.0634,47.153' style='fill:none;fill-rule:evenodd;stroke:#000000;stroke-width:2px;stroke-linecap:butt;stroke-linejoin:miter;stroke-opacity:1' /><path class='bond-2' d='M 87.6417,68.6549 83.2425,51.9826' style='fill:none;fill-rule:evenodd;stroke:#000000;stroke-width:2px;stroke-linecap:butt;stroke-linejoin:miter;stroke-opacity:1;stroke-dasharray:6,6' /><path class='bond-4' d='M 93.3479,70.9707 102.331,74.4582' style='fill:none;fill-rule:evenodd;stroke:#000000;stroke-width:2px;stroke-linecap:butt;stroke-linejoin:miter;stroke-opacity:1' /><path class='bond-4' d='M 102.331,74.4582 111.313,77.9457' style='fill:none;fill-rule:evenodd;stroke:#0000FF;stroke-width:2px;stroke-linecap:butt;stroke-linejoin:miter;stroke-opacity:1' /><path class='bond-5' d='M 93.3479,70.9707 84.9102,76.4045' style='fill:none;fill-rule:evenodd;stroke:#000000;stroke-width:2px;stroke-linecap:butt;stroke-linejoin:miter;stroke-opacity:1' /><path class='bond-5' d='M 84.9102,76.4045 76.4724,81.8383' style='fill:none;fill-rule:evenodd;stroke:#FF0000;stroke-width:2px;stroke-linecap:butt;stroke-linejoin:miter;stroke-opacity:1' /><path class='bond-5' d='M 88.1492,68.4588 82.2428,72.2625' style='fill:none;fill-rule:evenodd;stroke:#000000;stroke-width:2px;stroke-linecap:butt;stroke-linejoin:miter;stroke-opacity:1;stroke-dasharray:6,6' /><path class='bond-5' d='M 82.2428,72.2625 76.3364,76.0662' style='fill:none;fill-rule:evenodd;stroke:#FF0000;stroke-width:2px;stroke-linecap:butt;stroke-linejoin:miter;stroke-opacity:1;stroke-dasharray:6,6' /><path class='bond-3' d='M 87.0634,47.153 62.4695,45.7699' style='fill:none;fill-rule:evenodd;stroke:#000000;stroke-width:2px;stroke-linecap:butt;stroke-linejoin:miter;stroke-opacity:1' /><path class='bond-3' d='M 83.0977,51.8644 65.8819,50.8962' style='fill:none;fill-rule:evenodd;stroke:#000000;stroke-width:2px;stroke-linecap:butt;stroke-linejoin:miter;stroke-opacity:1;stroke-dasharray:6,6' /><path class='bond-6' d='M 62.4695,45.7699 53.5541,68.7327' style='fill:none;fill-rule:evenodd;stroke:#000000;stroke-width:2px;stroke-linecap:butt;stroke-linejoin:miter;stroke-opacity:1' /><path class='bond-6' d='M 65.7247,50.9974 59.484,67.0714' style='fill:none;fill-rule:evenodd;stroke:#000000;stroke-width:2px;stroke-linecap:butt;stroke-linejoin:miter;stroke-opacity:1;stroke-dasharray:6,6' /><path class='bond-7' d='M 117.008,84.402 118.191,92.058' style='fill:none;fill-rule:evenodd;stroke:#0000FF;stroke-width:2px;stroke-linecap:butt;stroke-linejoin:miter;stroke-opacity:1' /><path class='bond-7' d='M 118.191,92.058 119.374,99.7141' style='fill:none;fill-rule:evenodd;stroke:#FF0000;stroke-width:2px;stroke-linecap:butt;stroke-linejoin:miter;stroke-opacity:1' /><path class='bond-8' d='M 122.851,77.7908 128.036,73.6246' style='fill:none;fill-rule:evenodd;stroke:#0000FF;stroke-width:2px;stroke-linecap:butt;stroke-linejoin:miter;stroke-opacity:1' /><path class='bond-8' d='M 128.036,73.6246 133.222,69.4584' style='fill:none;fill-rule:evenodd;stroke:#FF0000;stroke-width:2px;stroke-linecap:butt;stroke-linejoin:miter;stroke-opacity:1' /><path class='bond-8' d='M 119.765,73.9504 124.951,69.7842' style='fill:none;fill-rule:evenodd;stroke:#0000FF;stroke-width:2px;stroke-linecap:butt;stroke-linejoin:miter;stroke-opacity:1' /><path class='bond-8' d='M 124.951,69.7842 130.136,65.618' style='fill:none;fill-rule:evenodd;stroke:#FF0000;stroke-width:2px;stroke-linecap:butt;stroke-linejoin:miter;stroke-opacity:1' /><path class='bond-9' d='M 68.8036,81.1783 61.1789,74.9555' style='fill:none;fill-rule:evenodd;stroke:#FF0000;stroke-width:2px;stroke-linecap:butt;stroke-linejoin:miter;stroke-opacity:1' /><path class='bond-9' d='M 61.1789,74.9555 53.5541,68.7327' style='fill:none;fill-rule:evenodd;stroke:#000000;stroke-width:2px;stroke-linecap:butt;stroke-linejoin:miter;stroke-opacity:1' /><path class='bond-9' d='M 69.6312,75.4947 64.2939,71.1387' style='fill:none;fill-rule:evenodd;stroke:#FF0000;stroke-width:2px;stroke-linecap:butt;stroke-linejoin:miter;stroke-opacity:1;stroke-dasharray:6,6' /><path class='bond-9' d='M 64.2939,71.1387 58.9565,66.7828' style='fill:none;fill-rule:evenodd;stroke:#000000;stroke-width:2px;stroke-linecap:butt;stroke-linejoin:miter;stroke-opacity:1;stroke-dasharray:6,6' /><text x='18.9039' y='102.086' style='font-size:8px;font-style:normal;font-weight:normal;fill-opacity:1;stroke:none;font-family:sans-serif;text-anchor:start;fill:#7F7F7F' ><tspan>*</tspan></text><text x='8.73538' y='63.5478' style='font-size:8px;font-style:normal;font-weight:normal;fill-opacity:1;stroke:none;font-family:sans-serif;text-anchor:start;fill:#7F7F7F' ><tspan>*</tspan></text><text x='111.313' y='84.402' style='font-size:8px;font-style:normal;font-weight:normal;fill-opacity:1;stroke:none;font-family:sans-serif;text-anchor:start;fill:#0000FF' ><tspan>N</tspan><tspan style='baseline-shift:super;font-size:6px;'>+</tspan><tspan></tspan></text><text x='68.8036' y='88.4131' style='font-size:8px;font-style:normal;font-weight:normal;fill-opacity:1;stroke:none;font-family:sans-serif;text-anchor:start;fill:#FF0000' ><tspan>O</tspan></text><text x='115.416' y='108.746' style='font-size:8px;font-style:normal;font-weight:normal;fill-opacity:1;stroke:none;font-family:sans-serif;text-anchor:start;fill:#FF0000' ><tspan>O</tspan><tspan style='baseline-shift:super;font-size:6px;'>-</tspan><tspan></tspan></text><text x='131.679' y='68.5628' style='font-size:8px;font-style:normal;font-weight:normal;fill-opacity:1;stroke:none;font-family:sans-serif;text-anchor:start;fill:#FF0000' ><tspan>O</tspan></text></svg></td>\n",
       "    </tr>\n",
       "    <tr>\n",
       "      <th>3440991424</th>\n",
       "      <td>1.023642e-03</td>\n",
       "      <td>30</td>\n",
       "      <td>28</td>\n",
       "      <td>0.933333</td>\n",
       "      <td>0.036939</td>\n",
       "      <td>*c1ccc([N+](=O)[O-])o1</td>\n",
       "      <td><?xml version='1.0' encoding='iso-8859-1'?><svg version='1.1' baseProfile='full'              xmlns='http://www.w3.org/2000/svg'                      xmlns:rdkit='http://www.rdkit.org/xml'                      xmlns:xlink='http://www.w3.org/1999/xlink'                  xml:space='preserve'width='150px' height='150px' ><!-- END OF HEADER --><rect style='opacity:1.0;fill:#FFFFFF;stroke:none' width='150' height='150' x='0' y='0'> </rect><ellipse cx='111.911' cy='77.282' rx='5.72469' ry='5.72469' style='fill:#E5E533;fill-rule:evenodd;stroke:#E5E533;stroke-width:2px;stroke-linecap:butt;stroke-linejoin:miter;stroke-opacity:1' /><ellipse cx='104.249' cy='104.861' rx='5.72469' ry='5.72469' style='fill:#E5E533;fill-rule:evenodd;stroke:#E5E533;stroke-width:2px;stroke-linecap:butt;stroke-linejoin:miter;stroke-opacity:1' /><ellipse cx='75.652' cy='106.096' rx='5.72469' ry='5.72469' style='fill:#E5E533;fill-rule:evenodd;stroke:#E5E533;stroke-width:2px;stroke-linecap:butt;stroke-linejoin:miter;stroke-opacity:1' /><ellipse cx='65.6403' cy='79.2808' rx='5.72469' ry='5.72469' style='fill:#9999E5;fill-rule:evenodd;stroke:#9999E5;stroke-width:2px;stroke-linecap:butt;stroke-linejoin:miter;stroke-opacity:1' /><ellipse cx='88.0494' cy='61.4727' rx='5.72469' ry='5.72469' style='fill:#E5E533;fill-rule:evenodd;stroke:#E5E533;stroke-width:2px;stroke-linecap:butt;stroke-linejoin:miter;stroke-opacity:1' /><path class='bond-0' d='M 111.911,77.282 104.249,104.861' style='fill:none;fill-rule:evenodd;stroke:#E5E5E5;stroke-width:4px;stroke-linecap:butt;stroke-linejoin:miter;stroke-opacity:1' /><path class='bond-0' d='M 105.246,79.8864 99.8823,99.1917' style='fill:none;fill-rule:evenodd;stroke:#E5E5E5;stroke-width:4px;stroke-linecap:butt;stroke-linejoin:miter;stroke-opacity:1;stroke-dasharray:6,6' /><path class='bond-1' d='M 111.911,77.282 136.498,68.102' style='fill:none;fill-rule:evenodd;stroke:#E5E5E5;stroke-width:4px;stroke-linecap:butt;stroke-linejoin:miter;stroke-opacity:1' /><path class='bond-6' d='M 111.911,77.282 102.208,70.8534' style='fill:none;fill-rule:evenodd;stroke:#000000;stroke-width:2px;stroke-linecap:butt;stroke-linejoin:miter;stroke-opacity:1' /><path class='bond-6' d='M 102.208,70.8534 92.505,64.4247' style='fill:none;fill-rule:evenodd;stroke:#FF0000;stroke-width:2px;stroke-linecap:butt;stroke-linejoin:miter;stroke-opacity:1' /><path class='bond-6' d='M 105.838,80.1257 99.0461,75.6256' style='fill:none;fill-rule:evenodd;stroke:#000000;stroke-width:2px;stroke-linecap:butt;stroke-linejoin:miter;stroke-opacity:1;stroke-dasharray:6,6' /><path class='bond-6' d='M 99.0461,75.6256 92.254,71.1256' style='fill:none;fill-rule:evenodd;stroke:#FF0000;stroke-width:2px;stroke-linecap:butt;stroke-linejoin:miter;stroke-opacity:1;stroke-dasharray:6,6' /><path class='bond-5' d='M 104.249,104.861 75.652,106.096' style='fill:none;fill-rule:evenodd;stroke:#000000;stroke-width:2px;stroke-linecap:butt;stroke-linejoin:miter;stroke-opacity:1' /><path class='bond-5' d='M 99.7122,99.3268 79.6945,100.192' style='fill:none;fill-rule:evenodd;stroke:#000000;stroke-width:2px;stroke-linecap:butt;stroke-linejoin:miter;stroke-opacity:1;stroke-dasharray:6,6' /><path class='bond-2' d='M 75.652,106.096 65.6403,79.2808' style='fill:none;fill-rule:evenodd;stroke:#000000;stroke-width:2px;stroke-linecap:butt;stroke-linejoin:miter;stroke-opacity:1' /><path class='bond-2' d='M 79.5133,100.072 72.5051,81.3008' style='fill:none;fill-rule:evenodd;stroke:#000000;stroke-width:2px;stroke-linecap:butt;stroke-linejoin:miter;stroke-opacity:1;stroke-dasharray:6,6' /><path class='bond-3' d='M 65.6403,79.2808 74.6171,72.1471' style='fill:none;fill-rule:evenodd;stroke:#000000;stroke-width:2px;stroke-linecap:butt;stroke-linejoin:miter;stroke-opacity:1' /><path class='bond-3' d='M 74.6171,72.1471 83.5938,65.0134' style='fill:none;fill-rule:evenodd;stroke:#FF0000;stroke-width:2px;stroke-linecap:butt;stroke-linejoin:miter;stroke-opacity:1' /><path class='bond-3' d='M 71.8949,81.6225 78.1787,76.629' style='fill:none;fill-rule:evenodd;stroke:#000000;stroke-width:2px;stroke-linecap:butt;stroke-linejoin:miter;stroke-opacity:1;stroke-dasharray:6,6' /><path class='bond-3' d='M 78.1787,76.629 84.4624,71.6354' style='fill:none;fill-rule:evenodd;stroke:#FF0000;stroke-width:2px;stroke-linecap:butt;stroke-linejoin:miter;stroke-opacity:1;stroke-dasharray:6,6' /><path class='bond-4' d='M 65.6403,79.2808 54.7544,76.2565' style='fill:none;fill-rule:evenodd;stroke:#000000;stroke-width:2px;stroke-linecap:butt;stroke-linejoin:miter;stroke-opacity:1' /><path class='bond-4' d='M 54.7544,76.2565 43.8685,73.2322' style='fill:none;fill-rule:evenodd;stroke:#0000FF;stroke-width:2px;stroke-linecap:butt;stroke-linejoin:miter;stroke-opacity:1' /><path class='bond-7' d='M 39.4783,65.6558 37.1944,56.8074' style='fill:none;fill-rule:evenodd;stroke:#0000FF;stroke-width:2px;stroke-linecap:butt;stroke-linejoin:miter;stroke-opacity:1' /><path class='bond-7' d='M 37.1944,56.8074 34.9104,47.959' style='fill:none;fill-rule:evenodd;stroke:#FF0000;stroke-width:2px;stroke-linecap:butt;stroke-linejoin:miter;stroke-opacity:1' /><path class='bond-7' d='M 33.9353,67.0866 31.6513,58.2382' style='fill:none;fill-rule:evenodd;stroke:#0000FF;stroke-width:2px;stroke-linecap:butt;stroke-linejoin:miter;stroke-opacity:1' /><path class='bond-7' d='M 31.6513,58.2382 29.3674,49.3897' style='fill:none;fill-rule:evenodd;stroke:#FF0000;stroke-width:2px;stroke-linecap:butt;stroke-linejoin:miter;stroke-opacity:1' /><path class='bond-8' d='M 32.7164,76.8664 27.8489,81.6453' style='fill:none;fill-rule:evenodd;stroke:#0000FF;stroke-width:2px;stroke-linecap:butt;stroke-linejoin:miter;stroke-opacity:1' /><path class='bond-8' d='M 27.8489,81.6453 22.9814,86.4242' style='fill:none;fill-rule:evenodd;stroke:#FF0000;stroke-width:2px;stroke-linecap:butt;stroke-linejoin:miter;stroke-opacity:1' /><text x='136.498' y='72.0408' style='font-size:9px;font-style:normal;font-weight:normal;fill-opacity:1;stroke:none;font-family:sans-serif;text-anchor:start;fill:#7F7F7F' ><tspan>*</tspan></text><text x='83.5938' y='66.2432' style='font-size:9px;font-style:normal;font-weight:normal;fill-opacity:1;stroke:none;font-family:sans-serif;text-anchor:start;fill:#FF0000' ><tspan>O</tspan></text><text x='32.2542' y='76.8664' style='font-size:9px;font-style:normal;font-weight:normal;fill-opacity:1;stroke:none;font-family:sans-serif;text-anchor:start;fill:#0000FF' ><tspan>N</tspan><tspan style='baseline-shift:super;font-size:6.75px;'>+</tspan><tspan></tspan></text><text x='26.4519' y='48.6743' style='font-size:9px;font-style:normal;font-weight:normal;fill-opacity:1;stroke:none;font-family:sans-serif;text-anchor:start;fill:#FF0000' ><tspan>O</tspan></text><text x='12.2273' y='96.9194' style='font-size:9px;font-style:normal;font-weight:normal;fill-opacity:1;stroke:none;font-family:sans-serif;text-anchor:start;fill:#FF0000' ><tspan>O</tspan><tspan style='baseline-shift:super;font-size:6.75px;'>-</tspan><tspan></tspan></text></svg></td>\n",
       "    </tr>\n",
       "    <tr>\n",
       "      <th>3356397823</th>\n",
       "      <td>1.023642e-03</td>\n",
       "      <td>30</td>\n",
       "      <td>28</td>\n",
       "      <td>0.933333</td>\n",
       "      <td>0.036939</td>\n",
       "      <td>*cc(o*)[N+](=O)[O-]</td>\n",
       "      <td><?xml version='1.0' encoding='iso-8859-1'?><svg version='1.1' baseProfile='full'              xmlns='http://www.w3.org/2000/svg'                      xmlns:rdkit='http://www.rdkit.org/xml'                      xmlns:xlink='http://www.w3.org/1999/xlink'                  xml:space='preserve'width='150px' height='150px' ><!-- END OF HEADER --><rect style='opacity:1.0;fill:#FFFFFF;stroke:none' width='150' height='150' x='0' y='0'> </rect><ellipse cx='107.933' cy='58.1614' rx='7.12599' ry='7.12599' style='fill:#E5E533;fill-rule:evenodd;stroke:#E5E533;stroke-width:2px;stroke-linecap:butt;stroke-linejoin:miter;stroke-opacity:1' /><ellipse cx='92.5013' cy='113.708' rx='7.12599' ry='7.12599' style='fill:#E5E533;fill-rule:evenodd;stroke:#E5E533;stroke-width:2px;stroke-linecap:butt;stroke-linejoin:miter;stroke-opacity:1' /><ellipse cx='80.0388' cy='80.3287' rx='7.12599' ry='7.12599' style='fill:#E5E533;fill-rule:evenodd;stroke:#E5E533;stroke-width:2px;stroke-linecap:butt;stroke-linejoin:miter;stroke-opacity:1' /><ellipse cx='45.7092' cy='70.7911' rx='7.12599' ry='7.12599' style='fill:#9999E5;fill-rule:evenodd;stroke:#9999E5;stroke-width:2px;stroke-linecap:butt;stroke-linejoin:miter;stroke-opacity:1' /><path class='bond-0' d='M 113.48,61.8361 134.862,76.0033' style='fill:none;fill-rule:evenodd;stroke:#E5E5E5;stroke-width:4px;stroke-linecap:butt;stroke-linejoin:miter;stroke-opacity:1' /><path class='bond-0' d='M 112.751,69.9016 127.719,79.8186' style='fill:none;fill-rule:evenodd;stroke:#E5E5E5;stroke-width:4px;stroke-linecap:butt;stroke-linejoin:miter;stroke-opacity:1;stroke-dasharray:6,6' /><path class='bond-6' d='M 102.387,62.5689 91.213,71.4488' style='fill:none;fill-rule:evenodd;stroke:#FF0000;stroke-width:2px;stroke-linecap:butt;stroke-linejoin:miter;stroke-opacity:1' /><path class='bond-6' d='M 91.213,71.4488 80.0388,80.3287' style='fill:none;fill-rule:evenodd;stroke:#000000;stroke-width:2px;stroke-linecap:butt;stroke-linejoin:miter;stroke-opacity:1' /><path class='bond-6' d='M 94.6014,59.654 86.7795,65.8699' style='fill:none;fill-rule:evenodd;stroke:#FF0000;stroke-width:2px;stroke-linecap:butt;stroke-linejoin:miter;stroke-opacity:1;stroke-dasharray:6,6' /><path class='bond-6' d='M 86.7795,65.8699 78.9576,72.0858' style='fill:none;fill-rule:evenodd;stroke:#000000;stroke-width:2px;stroke-linecap:butt;stroke-linejoin:miter;stroke-opacity:1;stroke-dasharray:6,6' /><path class='bond-1' d='M 125.325,112.29 92.5013,113.708' style='fill:none;fill-rule:evenodd;stroke:#E5E5E5;stroke-width:4px;stroke-linecap:butt;stroke-linejoin:miter;stroke-opacity:1' /><path class='bond-1' d='M 120.094,105.383 97.1173,106.376' style='fill:none;fill-rule:evenodd;stroke:#E5E5E5;stroke-width:4px;stroke-linecap:butt;stroke-linejoin:miter;stroke-opacity:1;stroke-dasharray:6,6' /><path class='bond-5' d='M 92.5013,113.708 80.0388,80.3287' style='fill:none;fill-rule:evenodd;stroke:#000000;stroke-width:2px;stroke-linecap:butt;stroke-linejoin:miter;stroke-opacity:1' /><path class='bond-5' d='M 97.3078,106.209 88.5841,82.8431' style='fill:none;fill-rule:evenodd;stroke:#000000;stroke-width:2px;stroke-linecap:butt;stroke-linejoin:miter;stroke-opacity:1;stroke-dasharray:6,6' /><path class='bond-2' d='M 80.0388,80.3287 66.4883,76.5641' style='fill:none;fill-rule:evenodd;stroke:#000000;stroke-width:2px;stroke-linecap:butt;stroke-linejoin:miter;stroke-opacity:1' /><path class='bond-2' d='M 66.4883,76.5641 52.9378,72.7994' style='fill:none;fill-rule:evenodd;stroke:#0000FF;stroke-width:2px;stroke-linecap:butt;stroke-linejoin:miter;stroke-opacity:1' /><path class='bond-3' d='M 47.473,63.3685 44.6299,52.3541' style='fill:none;fill-rule:evenodd;stroke:#0000FF;stroke-width:2px;stroke-linecap:butt;stroke-linejoin:miter;stroke-opacity:1' /><path class='bond-3' d='M 44.6299,52.3541 41.7868,41.3398' style='fill:none;fill-rule:evenodd;stroke:#FF0000;stroke-width:2px;stroke-linecap:butt;stroke-linejoin:miter;stroke-opacity:1' /><path class='bond-3' d='M 40.5731,65.1495 37.7301,54.1352' style='fill:none;fill-rule:evenodd;stroke:#0000FF;stroke-width:2px;stroke-linecap:butt;stroke-linejoin:miter;stroke-opacity:1' /><path class='bond-3' d='M 37.7301,54.1352 34.887,43.1208' style='fill:none;fill-rule:evenodd;stroke:#FF0000;stroke-width:2px;stroke-linecap:butt;stroke-linejoin:miter;stroke-opacity:1' /><path class='bond-4' d='M 39.0558,77.3233 32.9969,83.2719' style='fill:none;fill-rule:evenodd;stroke:#0000FF;stroke-width:2px;stroke-linecap:butt;stroke-linejoin:miter;stroke-opacity:1' /><path class='bond-4' d='M 32.9969,83.2719 26.9379,89.2206' style='fill:none;fill-rule:evenodd;stroke:#FF0000;stroke-width:2px;stroke-linecap:butt;stroke-linejoin:miter;stroke-opacity:1' /><text x='102.387' y='64.0997' style='font-size:11px;font-style:normal;font-weight:normal;fill-opacity:1;stroke:none;font-family:sans-serif;text-anchor:start;fill:#FF0000' ><tspan>O</tspan></text><text x='134.862' y='83.7789' style='font-size:11px;font-style:normal;font-weight:normal;fill-opacity:1;stroke:none;font-family:sans-serif;text-anchor:start;fill:#7F7F7F' ><tspan>*</tspan></text><text x='125.325' y='118.109' style='font-size:11px;font-style:normal;font-weight:normal;fill-opacity:1;stroke:none;font-family:sans-serif;text-anchor:start;fill:#7F7F7F' ><tspan>*</tspan></text><text x='38.4805' y='77.3233' style='font-size:11px;font-style:normal;font-weight:normal;fill-opacity:1;stroke:none;font-family:sans-serif;text-anchor:start;fill:#0000FF' ><tspan>N</tspan><tspan style='baseline-shift:super;font-size:8.25px;'>+</tspan><tspan></tspan></text><text x='31.2578' y='42.2303' style='font-size:11px;font-style:normal;font-weight:normal;fill-opacity:1;stroke:none;font-family:sans-serif;text-anchor:start;fill:#FF0000' ><tspan>O</tspan></text><text x='13.5514' y='102.285' style='font-size:11px;font-style:normal;font-weight:normal;fill-opacity:1;stroke:none;font-family:sans-serif;text-anchor:start;fill:#FF0000' ><tspan>O</tspan><tspan style='baseline-shift:super;font-size:8.25px;'>-</tspan><tspan></tspan></text></svg></td>\n",
       "    </tr>\n",
       "    <tr>\n",
       "      <th>1083852209</th>\n",
       "      <td>1.140720e-03</td>\n",
       "      <td>120</td>\n",
       "      <td>97</td>\n",
       "      <td>0.808333</td>\n",
       "      <td>0.127968</td>\n",
       "      <td>*c(*)N</td>\n",
       "      <td><?xml version='1.0' encoding='iso-8859-1'?><svg version='1.1' baseProfile='full'              xmlns='http://www.w3.org/2000/svg'                      xmlns:rdkit='http://www.rdkit.org/xml'                      xmlns:xlink='http://www.w3.org/1999/xlink'                  xml:space='preserve'width='150px' height='150px' ><!-- END OF HEADER --><rect style='opacity:1.0;fill:#FFFFFF;stroke:none' width='150' height='150' x='0' y='0'> </rect><ellipse cx='68.3579' cy='81.2051' rx='10.898' ry='10.898' style='fill:#E5E533;fill-rule:evenodd;stroke:#E5E533;stroke-width:2px;stroke-linecap:butt;stroke-linejoin:miter;stroke-opacity:1' /><ellipse cx='105.634' cy='120.949' rx='10.898' ry='10.898' style='fill:#9999E5;fill-rule:evenodd;stroke:#9999E5;stroke-width:2px;stroke-linecap:butt;stroke-linejoin:miter;stroke-opacity:1' /><path class='bond-0' d='M 81.3913,38.1323 68.3579,81.2051' style='fill:none;fill-rule:evenodd;stroke:#E5E5E5;stroke-width:4px;stroke-linecap:butt;stroke-linejoin:miter;stroke-opacity:1' /><path class='bond-0' d='M 69.0054,41.4369 59.882,71.5879' style='fill:none;fill-rule:evenodd;stroke:#E5E5E5;stroke-width:4px;stroke-linecap:butt;stroke-linejoin:miter;stroke-opacity:1;stroke-dasharray:6,6' /><path class='bond-1' d='M 68.3579,81.2051 19.5412,92.6233' style='fill:none;fill-rule:evenodd;stroke:#E5E5E5;stroke-width:4px;stroke-linecap:butt;stroke-linejoin:miter;stroke-opacity:1' /><path class='bond-1' d='M 58.5534,72.3063 24.3817,80.299' style='fill:none;fill-rule:evenodd;stroke:#E5E5E5;stroke-width:4px;stroke-linecap:butt;stroke-linejoin:miter;stroke-opacity:1;stroke-dasharray:6,6' /><path class='bond-2' d='M 68.3579,81.2051 82.3113,96.0823' style='fill:none;fill-rule:evenodd;stroke:#000000;stroke-width:2px;stroke-linecap:butt;stroke-linejoin:miter;stroke-opacity:1' /><path class='bond-2' d='M 82.3113,96.0823 96.2648,110.96' style='fill:none;fill-rule:evenodd;stroke:#0000FF;stroke-width:2px;stroke-linecap:butt;stroke-linejoin:miter;stroke-opacity:1' /><text x='79.8983' y='38.1323' style='font-size:18px;font-style:normal;font-weight:normal;fill-opacity:1;stroke:none;font-family:sans-serif;text-anchor:start;fill:#7F7F7F' ><tspan>*</tspan></text><text x='11.0592' y='102.697' style='font-size:18px;font-style:normal;font-weight:normal;fill-opacity:1;stroke:none;font-family:sans-serif;text-anchor:start;fill:#7F7F7F' ><tspan>*</tspan></text><text x='86.8605' y='130.939' style='font-size:18px;font-style:normal;font-weight:normal;fill-opacity:1;stroke:none;font-family:sans-serif;text-anchor:start;fill:#0000FF' ><tspan>NH</tspan><tspan style='baseline-shift:sub;font-size:13.5px;'>2</tspan><tspan></tspan></text></svg></td>\n",
       "    </tr>\n",
       "    <tr>\n",
       "      <th>1147919419</th>\n",
       "      <td>2.294315e-03</td>\n",
       "      <td>22</td>\n",
       "      <td>21</td>\n",
       "      <td>0.954545</td>\n",
       "      <td>0.027704</td>\n",
       "      <td>*CN(C*)N=O</td>\n",
       "      <td><?xml version='1.0' encoding='iso-8859-1'?><svg version='1.1' baseProfile='full'              xmlns='http://www.w3.org/2000/svg'                      xmlns:rdkit='http://www.rdkit.org/xml'                      xmlns:xlink='http://www.w3.org/1999/xlink'                  xml:space='preserve'width='150px' height='150px' ><!-- END OF HEADER --><rect style='opacity:1.0;fill:#FFFFFF;stroke:none' width='150' height='150' x='0' y='0'> </rect><ellipse cx='76.8049' cy='94.6206' rx='7.23202' ry='7.23202' style='fill:#9999E5;fill-rule:evenodd;stroke:#9999E5;stroke-width:2px;stroke-linecap:butt;stroke-linejoin:miter;stroke-opacity:1' /><path class='bond-0' d='M 42.821,42.0111 15.2613,59.8137' style='fill:none;fill-rule:evenodd;stroke:#E5E5E5;stroke-width:4px;stroke-linecap:butt;stroke-linejoin:miter;stroke-opacity:1' /><path class='bond-4' d='M 42.821,42.0111 56.2987,48.9196' style='fill:none;fill-rule:evenodd;stroke:#000000;stroke-width:2px;stroke-linecap:butt;stroke-linejoin:miter;stroke-opacity:1' /><path class='bond-4' d='M 56.2987,48.9196 69.7764,55.828' style='fill:none;fill-rule:evenodd;stroke:#0000FF;stroke-width:2px;stroke-linecap:butt;stroke-linejoin:miter;stroke-opacity:1' /><path class='bond-1' d='M 105.374,38.885 134.739,53.9368' style='fill:none;fill-rule:evenodd;stroke:#E5E5E5;stroke-width:4px;stroke-linecap:butt;stroke-linejoin:miter;stroke-opacity:1' /><path class='bond-5' d='M 105.374,38.885 92.7989,47.0081' style='fill:none;fill-rule:evenodd;stroke:#000000;stroke-width:2px;stroke-linecap:butt;stroke-linejoin:miter;stroke-opacity:1' /><path class='bond-5' d='M 92.7989,47.0081 80.2236,55.1313' style='fill:none;fill-rule:evenodd;stroke:#0000FF;stroke-width:2px;stroke-linecap:butt;stroke-linejoin:miter;stroke-opacity:1' /><path class='bond-2' d='M 105.005,105.012 94.3412,99.5461' style='fill:none;fill-rule:evenodd;stroke:#FF0000;stroke-width:2px;stroke-linecap:butt;stroke-linejoin:miter;stroke-opacity:1' /><path class='bond-2' d='M 94.3412,99.5461 83.6779,94.0802' style='fill:none;fill-rule:evenodd;stroke:#0000FF;stroke-width:2px;stroke-linecap:butt;stroke-linejoin:miter;stroke-opacity:1' /><path class='bond-2' d='M 101.706,111.448 91.0423,105.982' style='fill:none;fill-rule:evenodd;stroke:#FF0000;stroke-width:2px;stroke-linecap:butt;stroke-linejoin:miter;stroke-opacity:1' /><path class='bond-2' d='M 91.0423,105.982 80.379,100.516' style='fill:none;fill-rule:evenodd;stroke:#0000FF;stroke-width:2px;stroke-linecap:butt;stroke-linejoin:miter;stroke-opacity:1' /><path class='bond-3' d='M 76.5037,88.5939 75.3012,64.5322' style='fill:none;fill-rule:evenodd;stroke:#0000FF;stroke-width:2px;stroke-linecap:butt;stroke-linejoin:miter;stroke-opacity:1' /><text x='9.63256' y='67.6584' style='font-size:12px;font-style:normal;font-weight:normal;fill-opacity:1;stroke:none;font-family:sans-serif;text-anchor:start;fill:#7F7F7F' ><tspan>*</tspan></text><text x='134.739' y='61.4061' style='font-size:12px;font-style:normal;font-weight:normal;fill-opacity:1;stroke:none;font-family:sans-serif;text-anchor:start;fill:#7F7F7F' ><tspan>*</tspan></text><text x='103.355' y='117.142' style='font-size:12px;font-style:normal;font-weight:normal;fill-opacity:1;stroke:none;font-family:sans-serif;text-anchor:start;fill:#FF0000' ><tspan>O</tspan></text><text x='71.5813' y='100.647' style='font-size:12px;font-style:normal;font-weight:normal;fill-opacity:1;stroke:none;font-family:sans-serif;text-anchor:start;fill:#0000FF' ><tspan>N</tspan></text><text x='69.7764' y='64.5322' style='font-size:12px;font-style:normal;font-weight:normal;fill-opacity:1;stroke:none;font-family:sans-serif;text-anchor:start;fill:#0000FF' ><tspan>N</tspan></text></svg></td>\n",
       "    </tr>\n",
       "    <tr>\n",
       "      <th>2378775366</th>\n",
       "      <td>3.322000e-03</td>\n",
       "      <td>114</td>\n",
       "      <td>91</td>\n",
       "      <td>0.798246</td>\n",
       "      <td>0.120053</td>\n",
       "      <td>*[N+](=*)[O-]</td>\n",
       "      <td><?xml version='1.0' encoding='iso-8859-1'?><svg version='1.1' baseProfile='full'              xmlns='http://www.w3.org/2000/svg'                      xmlns:rdkit='http://www.rdkit.org/xml'                      xmlns:xlink='http://www.w3.org/1999/xlink'                  xml:space='preserve'width='150px' height='150px' ><!-- END OF HEADER --><rect style='opacity:1.0;fill:#FFFFFF;stroke:none' width='150' height='150' x='0' y='0'> </rect><ellipse cx='64.3874' cy='128.072' rx='13.4104' ry='13.4104' style='fill:#9999E5;fill-rule:evenodd;stroke:#9999E5;stroke-width:2px;stroke-linecap:butt;stroke-linejoin:miter;stroke-opacity:1' /><path class='bond-0' d='M 20.758,24.4783 62.3328,54.7473' style='fill:none;fill-rule:evenodd;stroke:#E5E5E5;stroke-width:4px;stroke-linecap:butt;stroke-linejoin:miter;stroke-opacity:1' /><path class='bond-1' d='M 83.3133,63.4685 131.963,41.8661' style='fill:none;fill-rule:evenodd;stroke:#E5E5E5;stroke-width:4px;stroke-linecap:butt;stroke-linejoin:miter;stroke-opacity:1' /><path class='bond-1' d='M 77.871,51.2121 126.521,29.6097' style='fill:none;fill-rule:evenodd;stroke:#E5E5E5;stroke-width:4px;stroke-linecap:butt;stroke-linejoin:miter;stroke-opacity:1' /><path class='bond-2' d='M 70.5871,69.6442 67.9249,94.733' style='fill:none;fill-rule:evenodd;stroke:#0000FF;stroke-width:2px;stroke-linecap:butt;stroke-linejoin:miter;stroke-opacity:1' /><path class='bond-2' d='M 67.9249,94.733 65.2628,119.822' style='fill:none;fill-rule:evenodd;stroke:#FF0000;stroke-width:2px;stroke-linecap:butt;stroke-linejoin:miter;stroke-opacity:1' /><text x='13.7532' y='29.4283' style='font-size:15px;font-style:normal;font-weight:normal;fill-opacity:1;stroke:none;font-family:sans-serif;text-anchor:start;fill:#7F7F7F' ><tspan>*</tspan></text><text x='62.3328' y='69.6442' style='font-size:15px;font-style:normal;font-weight:normal;fill-opacity:1;stroke:none;font-family:sans-serif;text-anchor:start;fill:#0000FF' ><tspan>N</tspan><tspan style='baseline-shift:super;font-size:11.25px;'>+</tspan><tspan></tspan></text><text x='129.242' y='41.6827' style='font-size:15px;font-style:normal;font-weight:normal;fill-opacity:1;stroke:none;font-family:sans-serif;text-anchor:start;fill:#7F7F7F' ><tspan>*</tspan></text><text x='55.8835' y='136.322' style='font-size:15px;font-style:normal;font-weight:normal;fill-opacity:1;stroke:none;font-family:sans-serif;text-anchor:start;fill:#FF0000' ><tspan>O</tspan><tspan style='baseline-shift:super;font-size:11.25px;'>-</tspan><tspan></tspan></text></svg></td>\n",
       "    </tr>\n",
       "    <tr>\n",
       "      <th>3095540251</th>\n",
       "      <td>6.547344e-03</td>\n",
       "      <td>13</td>\n",
       "      <td>13</td>\n",
       "      <td>1.000000</td>\n",
       "      <td>0.017150</td>\n",
       "      <td>*CN(C)N=O</td>\n",
       "      <td><?xml version='1.0' encoding='iso-8859-1'?><svg version='1.1' baseProfile='full'              xmlns='http://www.w3.org/2000/svg'                      xmlns:rdkit='http://www.rdkit.org/xml'                      xmlns:xlink='http://www.w3.org/1999/xlink'                  xml:space='preserve'width='150px' height='150px' ><!-- END OF HEADER --><rect style='opacity:1.0;fill:#FFFFFF;stroke:none' width='150' height='150' x='0' y='0'> </rect><ellipse cx='90.3162' cy='43.8402' rx='8.1617' ry='8.1617' style='fill:#9999E5;fill-rule:evenodd;stroke:#9999E5;stroke-width:2px;stroke-linecap:butt;stroke-linejoin:miter;stroke-opacity:1' /><path class='bond-0' d='M 36.3458,89.4822 13.1705,62.0781' style='fill:none;fill-rule:evenodd;stroke:#E5E5E5;stroke-width:4px;stroke-linecap:butt;stroke-linejoin:miter;stroke-opacity:1' /><path class='bond-3' d='M 36.3458,89.4822 53.4787,86.3931' style='fill:none;fill-rule:evenodd;stroke:#000000;stroke-width:2px;stroke-linecap:butt;stroke-linejoin:miter;stroke-opacity:1' /><path class='bond-3' d='M 53.4787,86.3931 70.6116,83.304' style='fill:none;fill-rule:evenodd;stroke:#0000FF;stroke-width:2px;stroke-linecap:butt;stroke-linejoin:miter;stroke-opacity:1' /><path class='bond-1' d='M 123.401,33.7283 109.444,36.2447' style='fill:none;fill-rule:evenodd;stroke:#FF0000;stroke-width:2px;stroke-linecap:butt;stroke-linejoin:miter;stroke-opacity:1' /><path class='bond-1' d='M 109.444,36.2447 95.4872,38.7612' style='fill:none;fill-rule:evenodd;stroke:#0000FF;stroke-width:2px;stroke-linecap:butt;stroke-linejoin:miter;stroke-opacity:1' /><path class='bond-1' d='M 124.849,41.7605 110.892,44.2769' style='fill:none;fill-rule:evenodd;stroke:#FF0000;stroke-width:2px;stroke-linecap:butt;stroke-linejoin:miter;stroke-opacity:1' /><path class='bond-1' d='M 110.892,44.2769 96.9354,46.7934' style='fill:none;fill-rule:evenodd;stroke:#0000FF;stroke-width:2px;stroke-linecap:butt;stroke-linejoin:miter;stroke-opacity:1' /><path class='bond-2' d='M 87.8703,50.6416 78.9526,75.4397' style='fill:none;fill-rule:evenodd;stroke:#0000FF;stroke-width:2px;stroke-linecap:butt;stroke-linejoin:miter;stroke-opacity:1' /><path class='bond-4' d='M 82.2586,89.0425 92.5583,101.222' style='fill:none;fill-rule:evenodd;stroke:#0000FF;stroke-width:2px;stroke-linecap:butt;stroke-linejoin:miter;stroke-opacity:1' /><path class='bond-4' d='M 92.5583,101.222 102.858,113.401' style='fill:none;fill-rule:evenodd;stroke:#000000;stroke-width:2px;stroke-linecap:butt;stroke-linejoin:miter;stroke-opacity:1' /><text x='6.81818' y='65.1237' style='font-size:13px;font-style:normal;font-weight:normal;fill-opacity:1;stroke:none;font-family:sans-serif;text-anchor:start;fill:#7F7F7F' ><tspan>*</tspan></text><text x='124.125' y='43.4005' style='font-size:13px;font-style:normal;font-weight:normal;fill-opacity:1;stroke:none;font-family:sans-serif;text-anchor:start;fill:#FF0000' ><tspan>O</tspan></text><text x='84.4211' y='50.6416' style='font-size:13px;font-style:normal;font-weight:normal;fill-opacity:1;stroke:none;font-family:sans-serif;text-anchor:start;fill:#0000FF' ><tspan>N</tspan></text><text x='70.6116' y='89.0425' style='font-size:13px;font-style:normal;font-weight:normal;fill-opacity:1;stroke:none;font-family:sans-serif;text-anchor:start;fill:#0000FF' ><tspan>N</tspan></text></svg></td>\n",
       "    </tr>\n",
       "    <tr>\n",
       "      <th>2378779377</th>\n",
       "      <td>1.059133e-02</td>\n",
       "      <td>107</td>\n",
       "      <td>84</td>\n",
       "      <td>0.785047</td>\n",
       "      <td>0.110818</td>\n",
       "      <td>*[N+]([*-])=O</td>\n",
       "      <td><?xml version='1.0' encoding='iso-8859-1'?><svg version='1.1' baseProfile='full'              xmlns='http://www.w3.org/2000/svg'                      xmlns:rdkit='http://www.rdkit.org/xml'                      xmlns:xlink='http://www.w3.org/1999/xlink'                  xml:space='preserve'width='150px' height='150px' ><!-- END OF HEADER --><rect style='opacity:1.0;fill:#FFFFFF;stroke:none' width='150' height='150' x='0' y='0'> </rect><ellipse cx='123.791' cy='37.0848' rx='12.4569' ry='12.4569' style='fill:#9999E5;fill-rule:evenodd;stroke:#9999E5;stroke-width:2px;stroke-linecap:butt;stroke-linejoin:miter;stroke-opacity:1' /><path class='bond-0' d='M 20.0159,28.2516 57.7367,55.7146' style='fill:none;fill-rule:evenodd;stroke:#E5E5E5;stroke-width:4px;stroke-linecap:butt;stroke-linejoin:miter;stroke-opacity:1' /><path class='bond-1' d='M 65.9909,70.6116 61.1697,116.048' style='fill:none;fill-rule:evenodd;stroke:#E5E5E5;stroke-width:4px;stroke-linecap:butt;stroke-linejoin:miter;stroke-opacity:1' /><path class='bond-2' d='M 78.5236,64.0002 98.9188,54.9439' style='fill:none;fill-rule:evenodd;stroke:#0000FF;stroke-width:2px;stroke-linecap:butt;stroke-linejoin:miter;stroke-opacity:1' /><path class='bond-2' d='M 98.9188,54.9439 119.314,45.8877' style='fill:none;fill-rule:evenodd;stroke:#FF0000;stroke-width:2px;stroke-linecap:butt;stroke-linejoin:miter;stroke-opacity:1' /><path class='bond-2' d='M 73.4683,52.6152 93.8635,43.5589' style='fill:none;fill-rule:evenodd;stroke:#0000FF;stroke-width:2px;stroke-linecap:butt;stroke-linejoin:miter;stroke-opacity:1' /><path class='bond-2' d='M 93.8635,43.5589 114.259,34.5027' style='fill:none;fill-rule:evenodd;stroke:#FF0000;stroke-width:2px;stroke-linecap:butt;stroke-linejoin:miter;stroke-opacity:1' /><text x='13.0111' y='33.2017' style='font-size:15px;font-style:normal;font-weight:normal;fill-opacity:1;stroke:none;font-family:sans-serif;text-anchor:start;fill:#7F7F7F' ><tspan>*</tspan></text><text x='57.7367' y='70.6116' style='font-size:15px;font-style:normal;font-weight:normal;fill-opacity:1;stroke:none;font-family:sans-serif;text-anchor:start;fill:#0000FF' ><tspan>N</tspan><tspan style='baseline-shift:super;font-size:11.25px;'>+</tspan><tspan></tspan></text><text x='55.2928' y='132.548' style='font-size:15px;font-style:normal;font-weight:normal;fill-opacity:1;stroke:none;font-family:sans-serif;text-anchor:start;fill:#7F7F7F' ><tspan>*</tspan><tspan style='baseline-shift:super;font-size:11.25px;'>-</tspan><tspan></tspan></text><text x='116.786' y='44.5848' style='font-size:15px;font-style:normal;font-weight:normal;fill-opacity:1;stroke:none;font-family:sans-serif;text-anchor:start;fill:#FF0000' ><tspan>O</tspan></text></svg></td>\n",
       "    </tr>\n",
       "    <tr>\n",
       "      <th>526982671</th>\n",
       "      <td>1.419238e-02</td>\n",
       "      <td>11</td>\n",
       "      <td>11</td>\n",
       "      <td>1.000000</td>\n",
       "      <td>0.014512</td>\n",
       "      <td>*CN(N=*)C(N)=O</td>\n",
       "      <td><?xml version='1.0' encoding='iso-8859-1'?><svg version='1.1' baseProfile='full'              xmlns='http://www.w3.org/2000/svg'                      xmlns:rdkit='http://www.rdkit.org/xml'                      xmlns:xlink='http://www.w3.org/1999/xlink'                  xml:space='preserve'width='150px' height='150px' ><!-- END OF HEADER --><rect style='opacity:1.0;fill:#FFFFFF;stroke:none' width='150' height='150' x='0' y='0'> </rect><ellipse cx='91.8075' cy='90.7976' rx='6.37237' ry='6.37237' style='fill:#9999E5;fill-rule:evenodd;stroke:#9999E5;stroke-width:2px;stroke-linecap:butt;stroke-linejoin:miter;stroke-opacity:1' /><path class='bond-0' d='M 14.2577,66.2091 37.0831,83.6722' style='fill:none;fill-rule:evenodd;stroke:#E5E5E5;stroke-width:4px;stroke-linecap:butt;stroke-linejoin:miter;stroke-opacity:1' /><path class='bond-5' d='M 37.0831,83.6722 49.4913,78.5118' style='fill:none;fill-rule:evenodd;stroke:#000000;stroke-width:2px;stroke-linecap:butt;stroke-linejoin:miter;stroke-opacity:1' /><path class='bond-5' d='M 49.4913,78.5118 61.8995,73.3515' style='fill:none;fill-rule:evenodd;stroke:#0000FF;stroke-width:2px;stroke-linecap:butt;stroke-linejoin:miter;stroke-opacity:1' /><path class='bond-1' d='M 76.4423,40.8699 98.7789,31.5805' style='fill:none;fill-rule:evenodd;stroke:#E5E5E5;stroke-width:4px;stroke-linecap:butt;stroke-linejoin:miter;stroke-opacity:1' /><path class='bond-1' d='M 73.9953,34.9861 96.3319,25.6967' style='fill:none;fill-rule:evenodd;stroke:#E5E5E5;stroke-width:4px;stroke-linecap:butt;stroke-linejoin:miter;stroke-opacity:1' /><path class='bond-6' d='M 69.9247,45.1525 67.1937,66.127' style='fill:none;fill-rule:evenodd;stroke:#0000FF;stroke-width:2px;stroke-linecap:butt;stroke-linejoin:miter;stroke-opacity:1' /><path class='bond-2' d='M 71.1049,74.9587 81.4562,82.8781' style='fill:none;fill-rule:evenodd;stroke:#0000FF;stroke-width:2px;stroke-linecap:butt;stroke-linejoin:miter;stroke-opacity:1' /><path class='bond-2' d='M 81.4562,82.8781 91.8075,90.7976' style='fill:none;fill-rule:evenodd;stroke:#000000;stroke-width:2px;stroke-linecap:butt;stroke-linejoin:miter;stroke-opacity:1' /><path class='bond-3' d='M 88.648,90.3862 86.9368,103.529' style='fill:none;fill-rule:evenodd;stroke:#000000;stroke-width:2px;stroke-linecap:butt;stroke-linejoin:miter;stroke-opacity:1' /><path class='bond-3' d='M 86.9368,103.529 85.2256,116.671' style='fill:none;fill-rule:evenodd;stroke:#FF0000;stroke-width:2px;stroke-linecap:butt;stroke-linejoin:miter;stroke-opacity:1' /><path class='bond-3' d='M 94.967,91.209 93.2558,104.351' style='fill:none;fill-rule:evenodd;stroke:#000000;stroke-width:2px;stroke-linecap:butt;stroke-linejoin:miter;stroke-opacity:1' /><path class='bond-3' d='M 93.2558,104.351 91.5446,117.494' style='fill:none;fill-rule:evenodd;stroke:#FF0000;stroke-width:2px;stroke-linecap:butt;stroke-linejoin:miter;stroke-opacity:1' /><path class='bond-4' d='M 91.8075,90.7976 101.028,86.9628' style='fill:none;fill-rule:evenodd;stroke:#000000;stroke-width:2px;stroke-linecap:butt;stroke-linejoin:miter;stroke-opacity:1' /><path class='bond-4' d='M 101.028,86.9628 110.249,83.1281' style='fill:none;fill-rule:evenodd;stroke:#0000FF;stroke-width:2px;stroke-linecap:butt;stroke-linejoin:miter;stroke-opacity:1' /><text x='9.29802' y='69.6222' style='font-size:10px;font-style:normal;font-weight:normal;fill-opacity:1;stroke:none;font-family:sans-serif;text-anchor:start;fill:#7F7F7F' ><tspan>*</tspan></text><text x='66.0134' y='45.1525' style='font-size:10px;font-style:normal;font-weight:normal;fill-opacity:1;stroke:none;font-family:sans-serif;text-anchor:start;fill:#0000FF' ><tspan>N</tspan></text><text x='97.5554' y='32.9176' style='font-size:10px;font-style:normal;font-weight:normal;fill-opacity:1;stroke:none;font-family:sans-serif;text-anchor:start;fill:#7F7F7F' ><tspan>*</tspan></text><text x='61.8995' y='76.7476' style='font-size:10px;font-style:normal;font-weight:normal;fill-opacity:1;stroke:none;font-family:sans-serif;text-anchor:start;fill:#0000FF' ><tspan>N</tspan></text><text x='82.734' y='127.703' style='font-size:10px;font-style:normal;font-weight:normal;fill-opacity:1;stroke:none;font-family:sans-serif;text-anchor:start;fill:#FF0000' ><tspan>O</tspan></text><text x='110.249' y='84.404' style='font-size:10px;font-style:normal;font-weight:normal;fill-opacity:1;stroke:none;font-family:sans-serif;text-anchor:start;fill:#0000FF' ><tspan>NH</tspan><tspan style='baseline-shift:sub;font-size:7.5px;'>2</tspan><tspan></tspan></text></svg></td>\n",
       "    </tr>\n",
       "    <tr>\n",
       "      <th>3203709451</th>\n",
       "      <td>1.419238e-02</td>\n",
       "      <td>11</td>\n",
       "      <td>11</td>\n",
       "      <td>1.000000</td>\n",
       "      <td>0.014512</td>\n",
       "      <td>C1CO1</td>\n",
       "      <td><?xml version='1.0' encoding='iso-8859-1'?><svg version='1.1' baseProfile='full'              xmlns='http://www.w3.org/2000/svg'                      xmlns:rdkit='http://www.rdkit.org/xml'                      xmlns:xlink='http://www.w3.org/1999/xlink'                  xml:space='preserve'width='150px' height='150px' ><!-- END OF HEADER --><rect style='opacity:1.0;fill:#FFFFFF;stroke:none' width='150' height='150' x='0' y='0'> </rect><ellipse cx='6.81818' cy='8.2655' rx='26.6938' ry='26.6938' style='fill:#CCCCCC;fill-rule:evenodd;stroke:#CCCCCC;stroke-width:2px;stroke-linecap:butt;stroke-linejoin:miter;stroke-opacity:1' /><ellipse cx='6.81818' cy='141.735' rx='26.6938' ry='26.6938' style='fill:#CCCCCC;fill-rule:evenodd;stroke:#CCCCCC;stroke-width:2px;stroke-linecap:butt;stroke-linejoin:miter;stroke-opacity:1' /><ellipse cx='122.406' cy='75' rx='26.6938' ry='26.6938' style='fill:#9999E5;fill-rule:evenodd;stroke:#9999E5;stroke-width:2px;stroke-linecap:butt;stroke-linejoin:miter;stroke-opacity:1' /><path class='bond-0' d='M 6.81818,8.2655 6.81818,141.735' style='fill:none;fill-rule:evenodd;stroke:#E5E5E5;stroke-width:4px;stroke-linecap:butt;stroke-linejoin:miter;stroke-opacity:1' /><path class='bond-1' d='M 6.81818,8.2655 61.1096,39.6106' style='fill:none;fill-rule:evenodd;stroke:#000000;stroke-width:2px;stroke-linecap:butt;stroke-linejoin:miter;stroke-opacity:1' /><path class='bond-1' d='M 61.1096,39.6106 115.401,70.9558' style='fill:none;fill-rule:evenodd;stroke:#FF0000;stroke-width:2px;stroke-linecap:butt;stroke-linejoin:miter;stroke-opacity:1' /><path class='bond-2' d='M 6.81818,141.735 61.1096,110.389' style='fill:none;fill-rule:evenodd;stroke:#000000;stroke-width:2px;stroke-linecap:butt;stroke-linejoin:miter;stroke-opacity:1' /><path class='bond-2' d='M 61.1096,110.389 115.401,79.0442' style='fill:none;fill-rule:evenodd;stroke:#FF0000;stroke-width:2px;stroke-linecap:butt;stroke-linejoin:miter;stroke-opacity:1' /><text x='115.401' y='82.5' style='font-size:15px;font-style:normal;font-weight:normal;fill-opacity:1;stroke:none;font-family:sans-serif;text-anchor:start;fill:#FF0000' ><tspan>O</tspan></text></svg></td>\n",
       "    </tr>\n",
       "    <tr>\n",
       "      <th>1287447825</th>\n",
       "      <td>1.712945e-02</td>\n",
       "      <td>21</td>\n",
       "      <td>19</td>\n",
       "      <td>0.904762</td>\n",
       "      <td>0.025066</td>\n",
       "      <td>*CN(C*)N=O</td>\n",
       "      <td><?xml version='1.0' encoding='iso-8859-1'?><svg version='1.1' baseProfile='full'              xmlns='http://www.w3.org/2000/svg'                      xmlns:rdkit='http://www.rdkit.org/xml'                      xmlns:xlink='http://www.w3.org/1999/xlink'                  xml:space='preserve'width='150px' height='150px' ><!-- END OF HEADER --><rect style='opacity:1.0;fill:#FFFFFF;stroke:none' width='150' height='150' x='0' y='0'> </rect><ellipse cx='88.5506' cy='48.4527' rx='7.22549' ry='7.22549' style='fill:#CCCCCC;fill-rule:evenodd;stroke:#CCCCCC;stroke-width:2px;stroke-linecap:butt;stroke-linejoin:miter;stroke-opacity:1' /><ellipse cx='102.316' cy='109.495' rx='7.22549' ry='7.22549' style='fill:#CCCCCC;fill-rule:evenodd;stroke:#CCCCCC;stroke-width:2px;stroke-linecap:butt;stroke-linejoin:miter;stroke-opacity:1' /><ellipse cx='42.5693' cy='90.8944' rx='7.22549' ry='7.22549' style='fill:#9999E5;fill-rule:evenodd;stroke:#9999E5;stroke-width:2px;stroke-linecap:butt;stroke-linejoin:miter;stroke-opacity:1' /><ellipse cx='77.8118' cy='82.9472' rx='7.22549' ry='7.22549' style='fill:#CCCCCC;fill-rule:evenodd;stroke:#CCCCCC;stroke-width:2px;stroke-linecap:butt;stroke-linejoin:miter;stroke-opacity:1' /><path class='bond-0' d='M 88.5506,48.4527 120.981,41.1395' style='fill:none;fill-rule:evenodd;stroke:#E5E5E5;stroke-width:4px;stroke-linecap:butt;stroke-linejoin:miter;stroke-opacity:1' /><path class='bond-4' d='M 88.5506,48.4527 84.1185,62.6893' style='fill:none;fill-rule:evenodd;stroke:#000000;stroke-width:2px;stroke-linecap:butt;stroke-linejoin:miter;stroke-opacity:1' /><path class='bond-4' d='M 84.1185,62.6893 79.6864,76.926' style='fill:none;fill-rule:evenodd;stroke:#0000FF;stroke-width:2px;stroke-linecap:butt;stroke-linejoin:miter;stroke-opacity:1' /><path class='bond-1' d='M 134.746,102.181 102.316,109.495' style='fill:none;fill-rule:evenodd;stroke:#E5E5E5;stroke-width:4px;stroke-linecap:butt;stroke-linejoin:miter;stroke-opacity:1' /><path class='bond-5' d='M 102.316,109.495 92.6732,99.0479' style='fill:none;fill-rule:evenodd;stroke:#000000;stroke-width:2px;stroke-linecap:butt;stroke-linejoin:miter;stroke-opacity:1' /><path class='bond-5' d='M 92.6732,99.0479 83.0307,88.6014' style='fill:none;fill-rule:evenodd;stroke:#0000FF;stroke-width:2px;stroke-linecap:butt;stroke-linejoin:miter;stroke-opacity:1' /><path class='bond-2' d='M 20.9686,72.8188 27.8321,80.2547' style='fill:none;fill-rule:evenodd;stroke:#FF0000;stroke-width:2px;stroke-linecap:butt;stroke-linejoin:miter;stroke-opacity:1' /><path class='bond-2' d='M 27.8321,80.2547 34.6957,87.6907' style='fill:none;fill-rule:evenodd;stroke:#0000FF;stroke-width:2px;stroke-linecap:butt;stroke-linejoin:miter;stroke-opacity:1' /><path class='bond-2' d='M 26.278,67.918 33.1416,75.354' style='fill:none;fill-rule:evenodd;stroke:#FF0000;stroke-width:2px;stroke-linecap:butt;stroke-linejoin:miter;stroke-opacity:1' /><path class='bond-2' d='M 33.1416,75.354 40.0051,82.7899' style='fill:none;fill-rule:evenodd;stroke:#0000FF;stroke-width:2px;stroke-linecap:butt;stroke-linejoin:miter;stroke-opacity:1' /><path class='bond-3' d='M 47.7882,89.7176 72.5929,84.1241' style='fill:none;fill-rule:evenodd;stroke:#0000FF;stroke-width:2px;stroke-linecap:butt;stroke-linejoin:miter;stroke-opacity:1' /><text x='120.981' y='46.5267' style='font-size:12px;font-style:normal;font-weight:normal;fill-opacity:1;stroke:none;font-family:sans-serif;text-anchor:start;fill:#7F7F7F' ><tspan>*</tspan></text><text x='134.746' y='107.569' style='font-size:12px;font-style:normal;font-weight:normal;fill-opacity:1;stroke:none;font-family:sans-serif;text-anchor:start;fill:#7F7F7F' ><tspan>*</tspan></text><text x='12.4419' y='70.3684' style='font-size:12px;font-style:normal;font-weight:normal;fill-opacity:1;stroke:none;font-family:sans-serif;text-anchor:start;fill:#FF0000' ><tspan>O</tspan></text><text x='37.3504' y='96.9157' style='font-size:12px;font-style:normal;font-weight:normal;fill-opacity:1;stroke:none;font-family:sans-serif;text-anchor:start;fill:#0000FF' ><tspan>N</tspan></text><text x='72.5929' y='88.9685' style='font-size:12px;font-style:normal;font-weight:normal;fill-opacity:1;stroke:none;font-family:sans-serif;text-anchor:start;fill:#0000FF' ><tspan>N</tspan></text></svg></td>\n",
       "    </tr>\n",
       "    <tr>\n",
       "      <th>178782170</th>\n",
       "      <td>2.089537e-02</td>\n",
       "      <td>10</td>\n",
       "      <td>10</td>\n",
       "      <td>1.000000</td>\n",
       "      <td>0.013193</td>\n",
       "      <td>*=Cc1ccc([N+](=O)[O-])o1</td>\n",
       "      <td><?xml version='1.0' encoding='iso-8859-1'?><svg version='1.1' baseProfile='full'              xmlns='http://www.w3.org/2000/svg'                      xmlns:rdkit='http://www.rdkit.org/xml'                      xmlns:xlink='http://www.w3.org/1999/xlink'                  xml:space='preserve'width='150px' height='150px' ><!-- END OF HEADER --><rect style='opacity:1.0;fill:#FFFFFF;stroke:none' width='150' height='150' x='0' y='0'> </rect><ellipse cx='90.6723' cy='100.7' rx='4.92698' ry='4.92698' style='fill:#E5E533;fill-rule:evenodd;stroke:#E5E533;stroke-width:2px;stroke-linecap:butt;stroke-linejoin:miter;stroke-opacity:1' /><ellipse cx='66.0603' cy='101.763' rx='4.92698' ry='4.92698' style='fill:#9999E5;fill-rule:evenodd;stroke:#9999E5;stroke-width:2px;stroke-linecap:butt;stroke-linejoin:miter;stroke-opacity:1' /><ellipse cx='57.4437' cy='78.6843' rx='4.92698' ry='4.92698' style='fill:#E5E533;fill-rule:evenodd;stroke:#E5E533;stroke-width:2px;stroke-linecap:butt;stroke-linejoin:miter;stroke-opacity:1' /><ellipse cx='97.2666' cy='76.964' rx='4.92698' ry='4.92698' style='fill:#E5E533;fill-rule:evenodd;stroke:#E5E533;stroke-width:2px;stroke-linecap:butt;stroke-linejoin:miter;stroke-opacity:1' /><ellipse cx='76.7302' cy='63.3576' rx='4.92698' ry='4.92698' style='fill:#E5E533;fill-rule:evenodd;stroke:#E5E533;stroke-width:2px;stroke-linecap:butt;stroke-linejoin:miter;stroke-opacity:1' /><path class='bond-0' d='M 138.998,80.5437 121.913,66.4472' style='fill:none;fill-rule:evenodd;stroke:#E5E5E5;stroke-width:4px;stroke-linecap:butt;stroke-linejoin:miter;stroke-opacity:1' /><path class='bond-0' d='M 135.862,84.344 118.778,70.2475' style='fill:none;fill-rule:evenodd;stroke:#E5E5E5;stroke-width:4px;stroke-linecap:butt;stroke-linejoin:miter;stroke-opacity:1' /><path class='bond-6' d='M 120.345,68.3474 97.2666,76.964' style='fill:none;fill-rule:evenodd;stroke:#000000;stroke-width:2px;stroke-linecap:butt;stroke-linejoin:miter;stroke-opacity:1' /><path class='bond-1' d='M 90.6723,100.7 66.0603,101.763' style='fill:none;fill-rule:evenodd;stroke:#000000;stroke-width:2px;stroke-linecap:butt;stroke-linejoin:miter;stroke-opacity:1' /><path class='bond-1' d='M 86.7679,95.937 69.5395,96.6812' style='fill:none;fill-rule:evenodd;stroke:#000000;stroke-width:2px;stroke-linecap:butt;stroke-linejoin:miter;stroke-opacity:1;stroke-dasharray:6,6' /><path class='bond-3' d='M 90.6723,100.7 97.2666,76.964' style='fill:none;fill-rule:evenodd;stroke:#000000;stroke-width:2px;stroke-linecap:butt;stroke-linejoin:miter;stroke-opacity:1' /><path class='bond-3' d='M 86.9143,95.8207 91.5303,79.2055' style='fill:none;fill-rule:evenodd;stroke:#000000;stroke-width:2px;stroke-linecap:butt;stroke-linejoin:miter;stroke-opacity:1;stroke-dasharray:6,6' /><path class='bond-2' d='M 66.0603,101.763 57.4437,78.6843' style='fill:none;fill-rule:evenodd;stroke:#000000;stroke-width:2px;stroke-linecap:butt;stroke-linejoin:miter;stroke-opacity:1' /><path class='bond-2' d='M 69.3836,96.578 63.3519,80.4228' style='fill:none;fill-rule:evenodd;stroke:#000000;stroke-width:2px;stroke-linecap:butt;stroke-linejoin:miter;stroke-opacity:1;stroke-dasharray:6,6' /><path class='bond-4' d='M 57.4437,78.6843 65.1696,72.5447' style='fill:none;fill-rule:evenodd;stroke:#000000;stroke-width:2px;stroke-linecap:butt;stroke-linejoin:miter;stroke-opacity:1' /><path class='bond-4' d='M 65.1696,72.5447 72.8955,66.405' style='fill:none;fill-rule:evenodd;stroke:#FF0000;stroke-width:2px;stroke-linecap:butt;stroke-linejoin:miter;stroke-opacity:1' /><path class='bond-4' d='M 62.8268,80.6997 68.2349,76.402' style='fill:none;fill-rule:evenodd;stroke:#000000;stroke-width:2px;stroke-linecap:butt;stroke-linejoin:miter;stroke-opacity:1;stroke-dasharray:6,6' /><path class='bond-4' d='M 68.2349,76.402 73.6431,72.1042' style='fill:none;fill-rule:evenodd;stroke:#FF0000;stroke-width:2px;stroke-linecap:butt;stroke-linejoin:miter;stroke-opacity:1;stroke-dasharray:6,6' /><path class='bond-5' d='M 57.4437,78.6843 48.0747,76.0814' style='fill:none;fill-rule:evenodd;stroke:#000000;stroke-width:2px;stroke-linecap:butt;stroke-linejoin:miter;stroke-opacity:1' /><path class='bond-5' d='M 48.0747,76.0814 38.7057,73.4785' style='fill:none;fill-rule:evenodd;stroke:#0000FF;stroke-width:2px;stroke-linecap:butt;stroke-linejoin:miter;stroke-opacity:1' /><path class='bond-7' d='M 97.2666,76.964 88.9158,71.4312' style='fill:none;fill-rule:evenodd;stroke:#000000;stroke-width:2px;stroke-linecap:butt;stroke-linejoin:miter;stroke-opacity:1' /><path class='bond-7' d='M 88.9158,71.4312 80.565,65.8983' style='fill:none;fill-rule:evenodd;stroke:#FF0000;stroke-width:2px;stroke-linecap:butt;stroke-linejoin:miter;stroke-opacity:1' /><path class='bond-7' d='M 92.0401,79.4114 86.1945,75.5385' style='fill:none;fill-rule:evenodd;stroke:#000000;stroke-width:2px;stroke-linecap:butt;stroke-linejoin:miter;stroke-opacity:1;stroke-dasharray:6,6' /><path class='bond-7' d='M 86.1945,75.5385 80.3489,71.6655' style='fill:none;fill-rule:evenodd;stroke:#FF0000;stroke-width:2px;stroke-linecap:butt;stroke-linejoin:miter;stroke-opacity:1;stroke-dasharray:6,6' /><path class='bond-8' d='M 34.9273,66.9578 32.9616,59.3424' style='fill:none;fill-rule:evenodd;stroke:#0000FF;stroke-width:2px;stroke-linecap:butt;stroke-linejoin:miter;stroke-opacity:1' /><path class='bond-8' d='M 32.9616,59.3424 30.9958,51.727' style='fill:none;fill-rule:evenodd;stroke:#FF0000;stroke-width:2px;stroke-linecap:butt;stroke-linejoin:miter;stroke-opacity:1' /><path class='bond-8' d='M 30.1567,68.1893 28.191,60.5738' style='fill:none;fill-rule:evenodd;stroke:#0000FF;stroke-width:2px;stroke-linecap:butt;stroke-linejoin:miter;stroke-opacity:1' /><path class='bond-8' d='M 28.191,60.5738 26.2252,52.9584' style='fill:none;fill-rule:evenodd;stroke:#FF0000;stroke-width:2px;stroke-linecap:butt;stroke-linejoin:miter;stroke-opacity:1' /><path class='bond-9' d='M 29.1076,76.6064 24.9184,80.7193' style='fill:none;fill-rule:evenodd;stroke:#0000FF;stroke-width:2px;stroke-linecap:butt;stroke-linejoin:miter;stroke-opacity:1' /><path class='bond-9' d='M 24.9184,80.7193 20.7291,84.8323' style='fill:none;fill-rule:evenodd;stroke:#FF0000;stroke-width:2px;stroke-linecap:butt;stroke-linejoin:miter;stroke-opacity:1' /><text x='137.43' y='88.1317' style='font-size:8px;font-style:normal;font-weight:normal;fill-opacity:1;stroke:none;font-family:sans-serif;text-anchor:start;fill:#7F7F7F' ><tspan>*</tspan></text><text x='72.8955' y='67.4634' style='font-size:8px;font-style:normal;font-weight:normal;fill-opacity:1;stroke:none;font-family:sans-serif;text-anchor:start;fill:#FF0000' ><tspan>O</tspan></text><text x='28.7098' y='76.6064' style='font-size:8px;font-style:normal;font-weight:normal;fill-opacity:1;stroke:none;font-family:sans-serif;text-anchor:start;fill:#0000FF' ><tspan>N</tspan><tspan style='baseline-shift:super;font-size:6px;'>+</tspan><tspan></tspan></text><text x='23.716' y='52.3427' style='font-size:8px;font-style:normal;font-weight:normal;fill-opacity:1;stroke:none;font-family:sans-serif;text-anchor:start;fill:#FF0000' ><tspan>O</tspan></text><text x='11.4736' y='93.8651' style='font-size:8px;font-style:normal;font-weight:normal;fill-opacity:1;stroke:none;font-family:sans-serif;text-anchor:start;fill:#FF0000' ><tspan>O</tspan><tspan style='baseline-shift:super;font-size:6px;'>-</tspan><tspan></tspan></text></svg></td>\n",
       "    </tr>\n",
       "    <tr>\n",
       "      <th>1330196390</th>\n",
       "      <td>2.089537e-02</td>\n",
       "      <td>10</td>\n",
       "      <td>10</td>\n",
       "      <td>1.000000</td>\n",
       "      <td>0.013193</td>\n",
       "      <td>O=NN1CC*CC1</td>\n",
       "      <td><?xml version='1.0' encoding='iso-8859-1'?><svg version='1.1' baseProfile='full'              xmlns='http://www.w3.org/2000/svg'                      xmlns:rdkit='http://www.rdkit.org/xml'                      xmlns:xlink='http://www.w3.org/1999/xlink'                  xml:space='preserve'width='150px' height='150px' ><!-- END OF HEADER --><rect style='opacity:1.0;fill:#FFFFFF;stroke:none' width='150' height='150' x='0' y='0'> </rect><ellipse cx='117.367' cy='42.4005' rx='6.82855' ry='6.82855' style='fill:#CCCCCC;fill-rule:evenodd;stroke:#CCCCCC;stroke-width:2px;stroke-linecap:butt;stroke-linejoin:miter;stroke-opacity:1' /><ellipse cx='130.376' cy='100.089' rx='6.82855' ry='6.82855' style='fill:#CCCCCC;fill-rule:evenodd;stroke:#CCCCCC;stroke-width:2px;stroke-linecap:butt;stroke-linejoin:miter;stroke-opacity:1' /><ellipse cx='73.9116' cy='82.5106' rx='6.82855' ry='6.82855' style='fill:#9999E5;fill-rule:evenodd;stroke:#9999E5;stroke-width:2px;stroke-linecap:butt;stroke-linejoin:miter;stroke-opacity:1' /><ellipse cx='84.0605' cy='49.9111' rx='6.82855' ry='6.82855' style='fill:#CCCCCC;fill-rule:evenodd;stroke:#CCCCCC;stroke-width:2px;stroke-linecap:butt;stroke-linejoin:miter;stroke-opacity:1' /><ellipse cx='97.0692' cy='107.6' rx='6.82855' ry='6.82855' style='fill:#CCCCCC;fill-rule:evenodd;stroke:#CCCCCC;stroke-width:2px;stroke-linecap:butt;stroke-linejoin:miter;stroke-opacity:1' /><path class='bond-0' d='M 117.367,42.4005 137.867,64.6104' style='fill:none;fill-rule:evenodd;stroke:#E5E5E5;stroke-width:4px;stroke-linecap:butt;stroke-linejoin:miter;stroke-opacity:1' /><path class='bond-6' d='M 117.367,42.4005 84.0605,49.9111' style='fill:none;fill-rule:evenodd;stroke:#000000;stroke-width:2px;stroke-linecap:butt;stroke-linejoin:miter;stroke-opacity:1' /><path class='bond-1' d='M 138.753,73.1798 130.376,100.089' style='fill:none;fill-rule:evenodd;stroke:#E5E5E5;stroke-width:4px;stroke-linecap:butt;stroke-linejoin:miter;stroke-opacity:1' /><path class='bond-7' d='M 130.376,100.089 97.0692,107.6' style='fill:none;fill-rule:evenodd;stroke:#000000;stroke-width:2px;stroke-linecap:butt;stroke-linejoin:miter;stroke-opacity:1' /><path class='bond-2' d='M 45.5374,88.909 68.9795,83.6228' style='fill:none;fill-rule:evenodd;stroke:#0000FF;stroke-width:2px;stroke-linecap:butt;stroke-linejoin:miter;stroke-opacity:1' /><path class='bond-5' d='M 38.1819,82.362 31.6955,75.3345' style='fill:none;fill-rule:evenodd;stroke:#0000FF;stroke-width:2px;stroke-linecap:butt;stroke-linejoin:miter;stroke-opacity:1' /><path class='bond-5' d='M 31.6955,75.3345 25.209,68.3071' style='fill:none;fill-rule:evenodd;stroke:#FF0000;stroke-width:2px;stroke-linecap:butt;stroke-linejoin:miter;stroke-opacity:1' /><path class='bond-5' d='M 33.1642,86.9935 26.6777,79.966' style='fill:none;fill-rule:evenodd;stroke:#0000FF;stroke-width:2px;stroke-linecap:butt;stroke-linejoin:miter;stroke-opacity:1' /><path class='bond-5' d='M 26.6777,79.966 20.1912,72.9386' style='fill:none;fill-rule:evenodd;stroke:#FF0000;stroke-width:2px;stroke-linecap:butt;stroke-linejoin:miter;stroke-opacity:1' /><path class='bond-3' d='M 75.6832,76.8202 79.8718,63.3656' style='fill:none;fill-rule:evenodd;stroke:#0000FF;stroke-width:2px;stroke-linecap:butt;stroke-linejoin:miter;stroke-opacity:1' /><path class='bond-3' d='M 79.8718,63.3656 84.0605,49.9111' style='fill:none;fill-rule:evenodd;stroke:#000000;stroke-width:2px;stroke-linecap:butt;stroke-linejoin:miter;stroke-opacity:1' /><path class='bond-4' d='M 78.8438,87.8541 87.9565,97.7268' style='fill:none;fill-rule:evenodd;stroke:#0000FF;stroke-width:2px;stroke-linecap:butt;stroke-linejoin:miter;stroke-opacity:1' /><path class='bond-4' d='M 87.9565,97.7268 97.0692,107.6' style='fill:none;fill-rule:evenodd;stroke:#000000;stroke-width:2px;stroke-linecap:butt;stroke-linejoin:miter;stroke-opacity:1' /><text x='137.867' y='73.1798' style='font-size:11px;font-style:normal;font-weight:normal;fill-opacity:1;stroke:none;font-family:sans-serif;text-anchor:start;fill:#7F7F7F' ><tspan>*</tspan></text><text x='35.6731' y='95.7117' style='font-size:11px;font-style:normal;font-weight:normal;fill-opacity:1;stroke:none;font-family:sans-serif;text-anchor:start;fill:#0000FF' ><tspan>N</tspan></text><text x='68.9795' y='88.2011' style='font-size:11px;font-style:normal;font-weight:normal;fill-opacity:1;stroke:none;font-family:sans-serif;text-anchor:start;fill:#0000FF' ><tspan>N</tspan></text><text x='12.1329' y='70.6228' style='font-size:11px;font-style:normal;font-weight:normal;fill-opacity:1;stroke:none;font-family:sans-serif;text-anchor:start;fill:#FF0000' ><tspan>O</tspan></text></svg></td>\n",
       "    </tr>\n",
       "    <tr>\n",
       "      <th>535847852</th>\n",
       "      <td>2.306553e-02</td>\n",
       "      <td>20</td>\n",
       "      <td>18</td>\n",
       "      <td>0.900000</td>\n",
       "      <td>0.023747</td>\n",
       "      <td>*CC=C</td>\n",
       "      <td><?xml version='1.0' encoding='iso-8859-1'?><svg version='1.1' baseProfile='full'              xmlns='http://www.w3.org/2000/svg'                      xmlns:rdkit='http://www.rdkit.org/xml'                      xmlns:xlink='http://www.w3.org/1999/xlink'                  xml:space='preserve'width='150px' height='150px' ><!-- END OF HEADER --><rect style='opacity:1.0;fill:#FFFFFF;stroke:none' width='150' height='150' x='0' y='0'> </rect><ellipse cx='51.7088' cy='60.3373' rx='9.75717' ry='9.75717' style='fill:#9999E5;fill-rule:evenodd;stroke:#9999E5;stroke-width:2px;stroke-linecap:butt;stroke-linejoin:miter;stroke-opacity:1' /><path class='bond-0' d='M 131.791,72.1763 90.6971,89.6627' style='fill:none;fill-rule:evenodd;stroke:#E5E5E5;stroke-width:4px;stroke-linecap:butt;stroke-linejoin:miter;stroke-opacity:1' /><path class='bond-1' d='M 90.6971,89.6627 51.7088,60.3373' style='fill:none;fill-rule:evenodd;stroke:#000000;stroke-width:2px;stroke-linecap:butt;stroke-linejoin:miter;stroke-opacity:1' /><path class='bond-2' d='M 49.7986,55.8483 4.90797,74.9504' style='fill:none;fill-rule:evenodd;stroke:#000000;stroke-width:2px;stroke-linecap:butt;stroke-linejoin:miter;stroke-opacity:1' /><path class='bond-2' d='M 53.619,64.8264 8.7284,83.9286' style='fill:none;fill-rule:evenodd;stroke:#000000;stroke-width:2px;stroke-linecap:butt;stroke-linejoin:miter;stroke-opacity:1' /><text x='131.791' y='78.6915' style='font-size:16px;font-style:normal;font-weight:normal;fill-opacity:1;stroke:none;font-family:sans-serif;text-anchor:start;fill:#7F7F7F' ><tspan>*</tspan></text></svg></td>\n",
       "    </tr>\n",
       "    <tr>\n",
       "      <th>198706261</th>\n",
       "      <td>2.350702e-02</td>\n",
       "      <td>57</td>\n",
       "      <td>46</td>\n",
       "      <td>0.807018</td>\n",
       "      <td>0.060686</td>\n",
       "      <td>*CCl</td>\n",
       "      <td><?xml version='1.0' encoding='iso-8859-1'?><svg version='1.1' baseProfile='full'              xmlns='http://www.w3.org/2000/svg'                      xmlns:rdkit='http://www.rdkit.org/xml'                      xmlns:xlink='http://www.w3.org/1999/xlink'                  xml:space='preserve'width='150px' height='150px' ><!-- END OF HEADER --><rect style='opacity:1.0;fill:#FFFFFF;stroke:none' width='150' height='150' x='0' y='0'> </rect><ellipse cx='37.1977' cy='26.3736' rx='16.0844' ry='16.0844' style='fill:#9999E5;fill-rule:evenodd;stroke:#9999E5;stroke-width:2px;stroke-linecap:butt;stroke-linejoin:miter;stroke-opacity:1' /><path class='bond-0' d='M 134.812,116.126 115.135,46.2119' style='fill:none;fill-rule:evenodd;stroke:#E5E5E5;stroke-width:4px;stroke-linecap:butt;stroke-linejoin:miter;stroke-opacity:1' /><path class='bond-1' d='M 115.135,46.2119 80.4159,37.3745' style='fill:none;fill-rule:evenodd;stroke:#000000;stroke-width:2px;stroke-linecap:butt;stroke-linejoin:miter;stroke-opacity:1' /><path class='bond-1' d='M 80.4159,37.3745 45.6971,28.537' style='fill:none;fill-rule:evenodd;stroke:#00CC00;stroke-width:2px;stroke-linecap:butt;stroke-linejoin:miter;stroke-opacity:1' /><text x='133.42' y='131.126' style='font-size:15px;font-style:normal;font-weight:normal;fill-opacity:1;stroke:none;font-family:sans-serif;text-anchor:start;fill:#7F7F7F' ><tspan>*</tspan></text><text x='28.6983' y='33.8736' style='font-size:15px;font-style:normal;font-weight:normal;fill-opacity:1;stroke:none;font-family:sans-serif;text-anchor:start;fill:#00CC00' ><tspan>Cl</tspan></text></svg></td>\n",
       "    </tr>\n",
       "    <tr>\n",
       "      <th>1495075844</th>\n",
       "      <td>3.076416e-02</td>\n",
       "      <td>9</td>\n",
       "      <td>9</td>\n",
       "      <td>1.000000</td>\n",
       "      <td>0.011873</td>\n",
       "      <td>*N(*)CCCl</td>\n",
       "      <td><?xml version='1.0' encoding='iso-8859-1'?><svg version='1.1' baseProfile='full'              xmlns='http://www.w3.org/2000/svg'                      xmlns:rdkit='http://www.rdkit.org/xml'                      xmlns:xlink='http://www.w3.org/1999/xlink'                  xml:space='preserve'width='150px' height='150px' ><!-- END OF HEADER --><rect style='opacity:1.0;fill:#FFFFFF;stroke:none' width='150' height='150' x='0' y='0'> </rect><ellipse cx='34.5187' cy='56.985' rx='8.2344' ry='8.2344' style='fill:#9999E5;fill-rule:evenodd;stroke:#9999E5;stroke-width:2px;stroke-linecap:butt;stroke-linejoin:miter;stroke-opacity:1' /><path class='bond-0' d='M 91.4754,100.637 77.5716,123.724' style='fill:none;fill-rule:evenodd;stroke:#E5E5E5;stroke-width:4px;stroke-linecap:butt;stroke-linejoin:miter;stroke-opacity:1' /><path class='bond-1' d='M 101.556,93.885 133.568,94.4761' style='fill:none;fill-rule:evenodd;stroke:#E5E5E5;stroke-width:4px;stroke-linecap:butt;stroke-linejoin:miter;stroke-opacity:1' /><path class='bond-4' d='M 91.8133,86.9132 83.7485,72.3292' style='fill:none;fill-rule:evenodd;stroke:#0000FF;stroke-width:2px;stroke-linecap:butt;stroke-linejoin:miter;stroke-opacity:1' /><path class='bond-4' d='M 83.7485,72.3292 75.6837,57.7452' style='fill:none;fill-rule:evenodd;stroke:#000000;stroke-width:2px;stroke-linecap:butt;stroke-linejoin:miter;stroke-opacity:1' /><path class='bond-2' d='M 18.3892,27.817 26.454,42.401' style='fill:none;fill-rule:evenodd;stroke:#00CC00;stroke-width:2px;stroke-linecap:butt;stroke-linejoin:miter;stroke-opacity:1' /><path class='bond-2' d='M 26.454,42.401 34.5187,56.985' style='fill:none;fill-rule:evenodd;stroke:#000000;stroke-width:2px;stroke-linecap:butt;stroke-linejoin:miter;stroke-opacity:1' /><path class='bond-3' d='M 34.5187,56.985 75.6837,57.7452' style='fill:none;fill-rule:evenodd;stroke:#000000;stroke-width:2px;stroke-linecap:butt;stroke-linejoin:miter;stroke-opacity:1' /><text x='89.6603' y='100.637' style='font-size:13px;font-style:normal;font-weight:normal;fill-opacity:1;stroke:none;font-family:sans-serif;text-anchor:start;fill:#0000FF' ><tspan>N</tspan></text><text x='71.1626' y='135.907' style='font-size:13px;font-style:normal;font-weight:normal;fill-opacity:1;stroke:none;font-family:sans-serif;text-anchor:start;fill:#7F7F7F' ><tspan>*</tspan></text><text x='133.568' y='101.397' style='font-size:13px;font-style:normal;font-weight:normal;fill-opacity:1;stroke:none;font-family:sans-serif;text-anchor:start;fill:#7F7F7F' ><tspan>*</tspan></text><text x='6.81818' y='27.817' style='font-size:13px;font-style:normal;font-weight:normal;fill-opacity:1;stroke:none;font-family:sans-serif;text-anchor:start;fill:#00CC00' ><tspan>Cl</tspan></text></svg></td>\n",
       "    </tr>\n",
       "    <tr>\n",
       "      <th>4235614536</th>\n",
       "      <td>4.529394e-02</td>\n",
       "      <td>8</td>\n",
       "      <td>8</td>\n",
       "      <td>1.000000</td>\n",
       "      <td>0.010554</td>\n",
       "      <td>*=[N+]([*-])c1ccc(-c(c*)n*)o1</td>\n",
       "      <td><?xml version='1.0' encoding='iso-8859-1'?><svg version='1.1' baseProfile='full'              xmlns='http://www.w3.org/2000/svg'                      xmlns:rdkit='http://www.rdkit.org/xml'                      xmlns:xlink='http://www.w3.org/1999/xlink'                  xml:space='preserve'width='150px' height='150px' ><!-- END OF HEADER --><rect style='opacity:1.0;fill:#FFFFFF;stroke:none' width='150' height='150' x='0' y='0'> </rect><ellipse cx='29.0614' cy='58.4961' rx='4.37803' ry='4.37803' style='fill:#E5E533;fill-rule:evenodd;stroke:#E5E533;stroke-width:2px;stroke-linecap:butt;stroke-linejoin:miter;stroke-opacity:1' /><ellipse cx='36.8064' cy='93.0579' rx='4.37803' ry='4.37803' style='fill:#E5E533;fill-rule:evenodd;stroke:#E5E533;stroke-width:2px;stroke-linecap:butt;stroke-linejoin:miter;stroke-opacity:1' /><ellipse cx='97.3265' cy='50.1307' rx='4.37803' ry='4.37803' style='fill:#E5E533;fill-rule:evenodd;stroke:#E5E533;stroke-width:2px;stroke-linecap:butt;stroke-linejoin:miter;stroke-opacity:1' /><ellipse cx='75.5324' cy='48.0824' rx='4.37803' ry='4.37803' style='fill:#9999E5;fill-rule:evenodd;stroke:#9999E5;stroke-width:2px;stroke-linecap:butt;stroke-linejoin:miter;stroke-opacity:1' /><ellipse cx='66.8496' cy='68.1768' rx='4.37803' ry='4.37803' style='fill:#E5E533;fill-rule:evenodd;stroke:#E5E533;stroke-width:2px;stroke-linecap:butt;stroke-linejoin:miter;stroke-opacity:1' /><ellipse cx='102.113' cy='71.4911' rx='4.37803' ry='4.37803' style='fill:#E5E533;fill-rule:evenodd;stroke:#E5E533;stroke-width:2px;stroke-linecap:butt;stroke-linejoin:miter;stroke-opacity:1' /><ellipse cx='83.2774' cy='82.6442' rx='4.37803' ry='4.37803' style='fill:#E5E533;fill-rule:evenodd;stroke:#E5E533;stroke-width:2px;stroke-linecap:butt;stroke-linejoin:miter;stroke-opacity:1' /><ellipse cx='45.4892' cy='72.9634' rx='4.37803' ry='4.37803' style='fill:#E5E533;fill-rule:evenodd;stroke:#E5E533;stroke-width:2px;stroke-linecap:butt;stroke-linejoin:miter;stroke-opacity:1' /><path class='bond-0' d='M 124.269,97.9044 122.674,84.1871' style='fill:none;fill-rule:evenodd;stroke:#E5E5E5;stroke-width:4px;stroke-linecap:butt;stroke-linejoin:miter;stroke-opacity:1' /><path class='bond-1' d='M 127.955,78.6287 139.377,70.1365' style='fill:none;fill-rule:evenodd;stroke:#E5E5E5;stroke-width:4px;stroke-linecap:butt;stroke-linejoin:miter;stroke-opacity:1' /><path class='bond-1' d='M 125.343,75.1153 136.765,66.6231' style='fill:none;fill-rule:evenodd;stroke:#E5E5E5;stroke-width:4px;stroke-linecap:butt;stroke-linejoin:miter;stroke-opacity:1' /><path class='bond-9' d='M 117.766,78.2549 109.94,74.873' style='fill:none;fill-rule:evenodd;stroke:#0000FF;stroke-width:2px;stroke-linecap:butt;stroke-linejoin:miter;stroke-opacity:1' /><path class='bond-9' d='M 109.94,74.873 102.113,71.4911' style='fill:none;fill-rule:evenodd;stroke:#000000;stroke-width:2px;stroke-linecap:butt;stroke-linejoin:miter;stroke-opacity:1' /><path class='bond-2' d='M 11.9294,68.6403 25.8992,60.3685' style='fill:none;fill-rule:evenodd;stroke:#E5E5E5;stroke-width:4px;stroke-linecap:butt;stroke-linejoin:miter;stroke-opacity:1' /><path class='bond-2' d='M 16.2555,71.1667 26.0344,65.3764' style='fill:none;fill-rule:evenodd;stroke:#E5E5E5;stroke-width:4px;stroke-linecap:butt;stroke-linejoin:miter;stroke-opacity:1;stroke-dasharray:6,6' /><path class='bond-12' d='M 32.2236,61.2809 38.8564,67.1222' style='fill:none;fill-rule:evenodd;stroke:#0000FF;stroke-width:2px;stroke-linecap:butt;stroke-linejoin:miter;stroke-opacity:1' /><path class='bond-12' d='M 38.8564,67.1222 45.4892,72.9634' style='fill:none;fill-rule:evenodd;stroke:#000000;stroke-width:2px;stroke-linecap:butt;stroke-linejoin:miter;stroke-opacity:1' /><path class='bond-12' d='M 31.32,66.3188 35.9629,70.4077' style='fill:none;fill-rule:evenodd;stroke:#0000FF;stroke-width:2px;stroke-linecap:butt;stroke-linejoin:miter;stroke-opacity:1;stroke-dasharray:6,6' /><path class='bond-12' d='M 35.9629,70.4077 40.6059,74.4966' style='fill:none;fill-rule:evenodd;stroke:#000000;stroke-width:2px;stroke-linecap:butt;stroke-linejoin:miter;stroke-opacity:1;stroke-dasharray:6,6' /><path class='bond-3' d='M 36.8064,93.0579 16.716,91.1697' style='fill:none;fill-rule:evenodd;stroke:#E5E5E5;stroke-width:4px;stroke-linecap:butt;stroke-linejoin:miter;stroke-opacity:1' /><path class='bond-3' d='M 34.2025,88.4158 20.1393,87.0941' style='fill:none;fill-rule:evenodd;stroke:#E5E5E5;stroke-width:4px;stroke-linecap:butt;stroke-linejoin:miter;stroke-opacity:1;stroke-dasharray:6,6' /><path class='bond-11' d='M 36.8064,93.0579 45.4892,72.9634' style='fill:none;fill-rule:evenodd;stroke:#000000;stroke-width:2px;stroke-linecap:butt;stroke-linejoin:miter;stroke-opacity:1' /><path class='bond-11' d='M 42.1277,91.7803 48.2057,77.7142' style='fill:none;fill-rule:evenodd;stroke:#000000;stroke-width:2px;stroke-linecap:butt;stroke-linejoin:miter;stroke-opacity:1;stroke-dasharray:6,6' /><path class='bond-4' d='M 97.3265,50.1307 75.5324,48.0824' style='fill:none;fill-rule:evenodd;stroke:#000000;stroke-width:2px;stroke-linecap:butt;stroke-linejoin:miter;stroke-opacity:1' /><path class='bond-4' d='M 93.6477,54.1823 78.3919,52.7484' style='fill:none;fill-rule:evenodd;stroke:#000000;stroke-width:2px;stroke-linecap:butt;stroke-linejoin:miter;stroke-opacity:1;stroke-dasharray:6,6' /><path class='bond-6' d='M 97.3265,50.1307 102.113,71.4911' style='fill:none;fill-rule:evenodd;stroke:#000000;stroke-width:2px;stroke-linecap:butt;stroke-linejoin:miter;stroke-opacity:1' /><path class='bond-6' d='M 93.7724,54.2921 97.1231,69.2444' style='fill:none;fill-rule:evenodd;stroke:#000000;stroke-width:2px;stroke-linecap:butt;stroke-linejoin:miter;stroke-opacity:1;stroke-dasharray:6,6' /><path class='bond-5' d='M 75.5324,48.0824 66.8496,68.1768' style='fill:none;fill-rule:evenodd;stroke:#000000;stroke-width:2px;stroke-linecap:butt;stroke-linejoin:miter;stroke-opacity:1' /><path class='bond-5' d='M 78.2489,52.8331 72.1709,66.8992' style='fill:none;fill-rule:evenodd;stroke:#000000;stroke-width:2px;stroke-linecap:butt;stroke-linejoin:miter;stroke-opacity:1;stroke-dasharray:6,6' /><path class='bond-7' d='M 66.8496,68.1768 73.3598,73.9101' style='fill:none;fill-rule:evenodd;stroke:#000000;stroke-width:2px;stroke-linecap:butt;stroke-linejoin:miter;stroke-opacity:1' /><path class='bond-7' d='M 73.3598,73.9101 79.8699,79.6433' style='fill:none;fill-rule:evenodd;stroke:#FF0000;stroke-width:2px;stroke-linecap:butt;stroke-linejoin:miter;stroke-opacity:1' /><path class='bond-7' d='M 71.6961,66.6112 76.2532,70.6245' style='fill:none;fill-rule:evenodd;stroke:#000000;stroke-width:2px;stroke-linecap:butt;stroke-linejoin:miter;stroke-opacity:1;stroke-dasharray:6,6' /><path class='bond-7' d='M 76.2532,70.6245 80.8103,74.6378' style='fill:none;fill-rule:evenodd;stroke:#FF0000;stroke-width:2px;stroke-linecap:butt;stroke-linejoin:miter;stroke-opacity:1;stroke-dasharray:6,6' /><path class='bond-8' d='M 66.8496,68.1768 45.4892,72.9634' style='fill:none;fill-rule:evenodd;stroke:#000000;stroke-width:2px;stroke-linecap:butt;stroke-linejoin:miter;stroke-opacity:1' /><path class='bond-10' d='M 102.113,71.4911 94.399,76.0588' style='fill:none;fill-rule:evenodd;stroke:#000000;stroke-width:2px;stroke-linecap:butt;stroke-linejoin:miter;stroke-opacity:1' /><path class='bond-10' d='M 94.399,76.0588 86.6849,80.6265' style='fill:none;fill-rule:evenodd;stroke:#FF0000;stroke-width:2px;stroke-linecap:butt;stroke-linejoin:miter;stroke-opacity:1' /><path class='bond-10' d='M 97.5683,69.0943 92.1684,72.2917' style='fill:none;fill-rule:evenodd;stroke:#000000;stroke-width:2px;stroke-linecap:butt;stroke-linejoin:miter;stroke-opacity:1;stroke-dasharray:6,6' /><path class='bond-10' d='M 92.1684,72.2917 86.7685,75.4891' style='fill:none;fill-rule:evenodd;stroke:#FF0000;stroke-width:2px;stroke-linecap:butt;stroke-linejoin:miter;stroke-opacity:1;stroke-dasharray:6,6' /><text x='122.302' y='105.931' style='font-size:7px;font-style:normal;font-weight:normal;fill-opacity:1;stroke:none;font-family:sans-serif;text-anchor:start;fill:#7F7F7F' ><tspan>*</tspan><tspan style='baseline-shift:super;font-size:5.25px;'>-</tspan><tspan></tspan></text><text x='117.766' y='84.1871' style='font-size:7px;font-style:normal;font-weight:normal;fill-opacity:1;stroke:none;font-family:sans-serif;text-anchor:start;fill:#0000FF' ><tspan>N</tspan><tspan style='baseline-shift:super;font-size:5.25px;'>+</tspan><tspan></tspan></text><text x='138.071' y='70.7614' style='font-size:7px;font-style:normal;font-weight:normal;fill-opacity:1;stroke:none;font-family:sans-serif;text-anchor:start;fill:#7F7F7F' ><tspan>*</tspan></text><text x='8.52192' y='73.2975' style='font-size:7px;font-style:normal;font-weight:normal;fill-opacity:1;stroke:none;font-family:sans-serif;text-anchor:start;fill:#7F7F7F' ><tspan>*</tspan></text><text x='25.8992' y='62.1444' style='font-size:7px;font-style:normal;font-weight:normal;fill-opacity:1;stroke:none;font-family:sans-serif;text-anchor:start;fill:#0000FF' ><tspan>N</tspan></text><text x='13.3086' y='94.6579' style='font-size:7px;font-style:normal;font-weight:normal;fill-opacity:1;stroke:none;font-family:sans-serif;text-anchor:start;fill:#7F7F7F' ><tspan>*</tspan></text><text x='79.8699' y='86.2925' style='font-size:7px;font-style:normal;font-weight:normal;fill-opacity:1;stroke:none;font-family:sans-serif;text-anchor:start;fill:#FF0000' ><tspan>O</tspan></text></svg></td>\n",
       "    </tr>\n",
       "    <tr>\n",
       "      <th>3888780669</th>\n",
       "      <td>4.529394e-02</td>\n",
       "      <td>8</td>\n",
       "      <td>8</td>\n",
       "      <td>1.000000</td>\n",
       "      <td>0.010554</td>\n",
       "      <td>*1CCOCC1</td>\n",
       "      <td><?xml version='1.0' encoding='iso-8859-1'?><svg version='1.1' baseProfile='full'              xmlns='http://www.w3.org/2000/svg'                      xmlns:rdkit='http://www.rdkit.org/xml'                      xmlns:xlink='http://www.w3.org/1999/xlink'                  xml:space='preserve'width='150px' height='150px' ><!-- END OF HEADER --><rect style='opacity:1.0;fill:#FFFFFF;stroke:none' width='150' height='150' x='0' y='0'> </rect><ellipse cx='107.903' cy='127.874' rx='12.2108' ry='12.2108' style='fill:#CCCCCC;fill-rule:evenodd;stroke:#CCCCCC;stroke-width:2px;stroke-linecap:butt;stroke-linejoin:miter;stroke-opacity:1' /><ellipse cx='107.903' cy='22.1257' rx='12.2108' ry='12.2108' style='fill:#CCCCCC;fill-rule:evenodd;stroke:#CCCCCC;stroke-width:2px;stroke-linecap:butt;stroke-linejoin:miter;stroke-opacity:1' /><ellipse cx='46.849' cy='127.874' rx='12.2108' ry='12.2108' style='fill:#CCCCCC;fill-rule:evenodd;stroke:#CCCCCC;stroke-width:2px;stroke-linecap:butt;stroke-linejoin:miter;stroke-opacity:1' /><ellipse cx='16.322' cy='75' rx='12.2108' ry='12.2108' style='fill:#9999E5;fill-rule:evenodd;stroke:#9999E5;stroke-width:2px;stroke-linecap:butt;stroke-linejoin:miter;stroke-opacity:1' /><ellipse cx='46.849' cy='22.1257' rx='12.2108' ry='12.2108' style='fill:#CCCCCC;fill-rule:evenodd;stroke:#CCCCCC;stroke-width:2px;stroke-linecap:butt;stroke-linejoin:miter;stroke-opacity:1' /><path class='bond-0' d='M 134.928,81.0663 107.903,127.874' style='fill:none;fill-rule:evenodd;stroke:#E5E5E5;stroke-width:4px;stroke-linecap:butt;stroke-linejoin:miter;stroke-opacity:1' /><path class='bond-1' d='M 134.928,68.9337 107.903,22.1257' style='fill:none;fill-rule:evenodd;stroke:#E5E5E5;stroke-width:4px;stroke-linecap:butt;stroke-linejoin:miter;stroke-opacity:1' /><path class='bond-4' d='M 107.903,127.874 46.849,127.874' style='fill:none;fill-rule:evenodd;stroke:#000000;stroke-width:2px;stroke-linecap:butt;stroke-linejoin:miter;stroke-opacity:1' /><path class='bond-5' d='M 107.903,22.1257 46.849,22.1257' style='fill:none;fill-rule:evenodd;stroke:#000000;stroke-width:2px;stroke-linecap:butt;stroke-linejoin:miter;stroke-opacity:1' /><path class='bond-2' d='M 46.849,127.874 33.7505,105.187' style='fill:none;fill-rule:evenodd;stroke:#000000;stroke-width:2px;stroke-linecap:butt;stroke-linejoin:miter;stroke-opacity:1' /><path class='bond-2' d='M 33.7505,105.187 20.6521,82.5' style='fill:none;fill-rule:evenodd;stroke:#FF0000;stroke-width:2px;stroke-linecap:butt;stroke-linejoin:miter;stroke-opacity:1' /><path class='bond-3' d='M 20.6521,67.5 33.7505,44.8129' style='fill:none;fill-rule:evenodd;stroke:#FF0000;stroke-width:2px;stroke-linecap:butt;stroke-linejoin:miter;stroke-opacity:1' /><path class='bond-3' d='M 33.7505,44.8129 46.849,22.1257' style='fill:none;fill-rule:evenodd;stroke:#000000;stroke-width:2px;stroke-linecap:butt;stroke-linejoin:miter;stroke-opacity:1' /><text x='134.928' y='82.5' style='font-size:15px;font-style:normal;font-weight:normal;fill-opacity:1;stroke:none;font-family:sans-serif;text-anchor:start;fill:#7F7F7F' ><tspan>*</tspan></text><text x='9.31718' y='82.5' style='font-size:15px;font-style:normal;font-weight:normal;fill-opacity:1;stroke:none;font-family:sans-serif;text-anchor:start;fill:#FF0000' ><tspan>O</tspan></text></svg></td>\n",
       "    </tr>\n",
       "    <tr>\n",
       "      <th>3989046787</th>\n",
       "      <td>4.529394e-02</td>\n",
       "      <td>8</td>\n",
       "      <td>8</td>\n",
       "      <td>1.000000</td>\n",
       "      <td>0.010554</td>\n",
       "      <td>*cc(n*)-c1ccc([N+](=O)[O-])o1</td>\n",
       "      <td><?xml version='1.0' encoding='iso-8859-1'?><svg version='1.1' baseProfile='full'              xmlns='http://www.w3.org/2000/svg'                      xmlns:rdkit='http://www.rdkit.org/xml'                      xmlns:xlink='http://www.w3.org/1999/xlink'                  xml:space='preserve'width='150px' height='150px' ><!-- END OF HEADER --><rect style='opacity:1.0;fill:#FFFFFF;stroke:none' width='150' height='150' x='0' y='0'> </rect><ellipse cx='111.639' cy='51.1665' rx='4.25974' ry='4.25974' style='fill:#E5E533;fill-rule:evenodd;stroke:#E5E533;stroke-width:2px;stroke-linecap:butt;stroke-linejoin:miter;stroke-opacity:1' /><ellipse cx='122.855' cy='83.7521' rx='4.25974' ry='4.25974' style='fill:#E5E533;fill-rule:evenodd;stroke:#E5E533;stroke-width:2px;stroke-linecap:butt;stroke-linejoin:miter;stroke-opacity:1' /><ellipse cx='50.8138' cy='79.0641' rx='4.25974' ry='4.25974' style='fill:#E5E533;fill-rule:evenodd;stroke:#E5E533;stroke-width:2px;stroke-linecap:butt;stroke-linejoin:miter;stroke-opacity:1' /><ellipse cx='67.825' cy='66.2479' rx='4.25974' ry='4.25974' style='fill:#9999E5;fill-rule:evenodd;stroke:#9999E5;stroke-width:2px;stroke-linecap:butt;stroke-linejoin:miter;stroke-opacity:1' /><ellipse cx='85.2706' cy='78.4661' rx='4.25974' ry='4.25974' style='fill:#E5E533;fill-rule:evenodd;stroke:#E5E533;stroke-width:2px;stroke-linecap:butt;stroke-linejoin:miter;stroke-opacity:1' /><ellipse cx='57.7459' cy='99.2031' rx='4.25974' ry='4.25974' style='fill:#E5E533;fill-rule:evenodd;stroke:#E5E533;stroke-width:2px;stroke-linecap:butt;stroke-linejoin:miter;stroke-opacity:1' /><ellipse cx='105.41' cy='71.5339' rx='4.25974' ry='4.25974' style='fill:#E5E533;fill-rule:evenodd;stroke:#E5E533;stroke-width:2px;stroke-linecap:butt;stroke-linejoin:miter;stroke-opacity:1' /><ellipse cx='79.0414' cy='98.8335' rx='4.25974' ry='4.25974' style='fill:#E5E533;fill-rule:evenodd;stroke:#E5E533;stroke-width:2px;stroke-linecap:butt;stroke-linejoin:miter;stroke-opacity:1' /><path class='bond-0' d='M 131.277,50.8257 111.639,51.1665' style='fill:none;fill-rule:evenodd;stroke:#E5E5E5;stroke-width:4px;stroke-linecap:butt;stroke-linejoin:miter;stroke-opacity:1' /><path class='bond-0' d='M 128.405,55.1359 114.658,55.3745' style='fill:none;fill-rule:evenodd;stroke:#E5E5E5;stroke-width:4px;stroke-linecap:butt;stroke-linejoin:miter;stroke-opacity:1;stroke-dasharray:6,6' /><path class='bond-11' d='M 111.639,51.1665 105.41,71.5339' style='fill:none;fill-rule:evenodd;stroke:#000000;stroke-width:2px;stroke-linecap:butt;stroke-linejoin:miter;stroke-opacity:1' /><path class='bond-11' d='M 114.778,55.4675 110.417,69.7246' style='fill:none;fill-rule:evenodd;stroke:#000000;stroke-width:2px;stroke-linecap:butt;stroke-linejoin:miter;stroke-opacity:1;stroke-dasharray:6,6' /><path class='bond-1' d='M 125.932,81.4341 138.209,72.1848' style='fill:none;fill-rule:evenodd;stroke:#E5E5E5;stroke-width:4px;stroke-linecap:butt;stroke-linejoin:miter;stroke-opacity:1' /><path class='bond-1' d='M 125.21,76.6445 133.804,70.17' style='fill:none;fill-rule:evenodd;stroke:#E5E5E5;stroke-width:4px;stroke-linecap:butt;stroke-linejoin:miter;stroke-opacity:1;stroke-dasharray:6,6' /><path class='bond-12' d='M 119.778,81.5973 112.594,76.5656' style='fill:none;fill-rule:evenodd;stroke:#0000FF;stroke-width:2px;stroke-linecap:butt;stroke-linejoin:miter;stroke-opacity:1' /><path class='bond-12' d='M 112.594,76.5656 105.41,71.5339' style='fill:none;fill-rule:evenodd;stroke:#000000;stroke-width:2px;stroke-linecap:butt;stroke-linejoin:miter;stroke-opacity:1' /><path class='bond-12' d='M 115.18,83.5769 110.15,80.0547' style='fill:none;fill-rule:evenodd;stroke:#0000FF;stroke-width:2px;stroke-linecap:butt;stroke-linejoin:miter;stroke-opacity:1;stroke-dasharray:6,6' /><path class='bond-12' d='M 110.15,80.0547 105.121,76.5326' style='fill:none;fill-rule:evenodd;stroke:#000000;stroke-width:2px;stroke-linecap:butt;stroke-linejoin:miter;stroke-opacity:1;stroke-dasharray:6,6' /><path class='bond-2' d='M 50.8138,79.0641 57.6617,73.9049' style='fill:none;fill-rule:evenodd;stroke:#000000;stroke-width:2px;stroke-linecap:butt;stroke-linejoin:miter;stroke-opacity:1' /><path class='bond-2' d='M 57.6617,73.9049 64.5096,68.7457' style='fill:none;fill-rule:evenodd;stroke:#FF0000;stroke-width:2px;stroke-linecap:butt;stroke-linejoin:miter;stroke-opacity:1' /><path class='bond-2' d='M 55.4314,80.9186 60.2249,77.3071' style='fill:none;fill-rule:evenodd;stroke:#000000;stroke-width:2px;stroke-linecap:butt;stroke-linejoin:miter;stroke-opacity:1;stroke-dasharray:6,6' /><path class='bond-2' d='M 60.2249,77.3071 65.0184,73.6957' style='fill:none;fill-rule:evenodd;stroke:#FF0000;stroke-width:2px;stroke-linecap:butt;stroke-linejoin:miter;stroke-opacity:1;stroke-dasharray:6,6' /><path class='bond-4' d='M 50.8138,79.0641 57.7459,99.2031' style='fill:none;fill-rule:evenodd;stroke:#000000;stroke-width:2px;stroke-linecap:butt;stroke-linejoin:miter;stroke-opacity:1' /><path class='bond-4' d='M 55.8814,80.6985 60.7339,94.7958' style='fill:none;fill-rule:evenodd;stroke:#000000;stroke-width:2px;stroke-linecap:butt;stroke-linejoin:miter;stroke-opacity:1;stroke-dasharray:6,6' /><path class='bond-5' d='M 50.8138,79.0641 42.7906,76.6103' style='fill:none;fill-rule:evenodd;stroke:#000000;stroke-width:2px;stroke-linecap:butt;stroke-linejoin:miter;stroke-opacity:1' /><path class='bond-5' d='M 42.7906,76.6103 34.7675,74.1565' style='fill:none;fill-rule:evenodd;stroke:#0000FF;stroke-width:2px;stroke-linecap:butt;stroke-linejoin:miter;stroke-opacity:1' /><path class='bond-3' d='M 71.1404,68.5699 78.2055,73.518' style='fill:none;fill-rule:evenodd;stroke:#FF0000;stroke-width:2px;stroke-linecap:butt;stroke-linejoin:miter;stroke-opacity:1' /><path class='bond-3' d='M 78.2055,73.518 85.2706,78.4661' style='fill:none;fill-rule:evenodd;stroke:#000000;stroke-width:2px;stroke-linecap:butt;stroke-linejoin:miter;stroke-opacity:1' /><path class='bond-3' d='M 70.8163,73.5434 75.7618,77.0071' style='fill:none;fill-rule:evenodd;stroke:#FF0000;stroke-width:2px;stroke-linecap:butt;stroke-linejoin:miter;stroke-opacity:1;stroke-dasharray:6,6' /><path class='bond-3' d='M 75.7618,77.0071 80.7074,80.4708' style='fill:none;fill-rule:evenodd;stroke:#000000;stroke-width:2px;stroke-linecap:butt;stroke-linejoin:miter;stroke-opacity:1;stroke-dasharray:6,6' /><path class='bond-6' d='M 85.2706,78.4661 105.41,71.5339' style='fill:none;fill-rule:evenodd;stroke:#000000;stroke-width:2px;stroke-linecap:butt;stroke-linejoin:miter;stroke-opacity:1' /><path class='bond-7' d='M 85.2706,78.4661 79.0414,98.8335' style='fill:none;fill-rule:evenodd;stroke:#000000;stroke-width:2px;stroke-linecap:butt;stroke-linejoin:miter;stroke-opacity:1' /><path class='bond-7' d='M 80.2627,80.2754 75.9023,94.5325' style='fill:none;fill-rule:evenodd;stroke:#000000;stroke-width:2px;stroke-linecap:butt;stroke-linejoin:miter;stroke-opacity:1;stroke-dasharray:6,6' /><path class='bond-8' d='M 57.7459,99.2031 79.0414,98.8335' style='fill:none;fill-rule:evenodd;stroke:#000000;stroke-width:2px;stroke-linecap:butt;stroke-linejoin:miter;stroke-opacity:1' /><path class='bond-8' d='M 60.8664,94.8885 75.7732,94.6298' style='fill:none;fill-rule:evenodd;stroke:#000000;stroke-width:2px;stroke-linecap:butt;stroke-linejoin:miter;stroke-opacity:1;stroke-dasharray:6,6' /><path class='bond-9' d='M 31.6206,68.4512 30.0862,61.8019' style='fill:none;fill-rule:evenodd;stroke:#0000FF;stroke-width:2px;stroke-linecap:butt;stroke-linejoin:miter;stroke-opacity:1' /><path class='bond-9' d='M 30.0862,61.8019 28.5518,55.1525' style='fill:none;fill-rule:evenodd;stroke:#FF0000;stroke-width:2px;stroke-linecap:butt;stroke-linejoin:miter;stroke-opacity:1' /><path class='bond-9' d='M 27.47,69.409 25.9355,62.7597' style='fill:none;fill-rule:evenodd;stroke:#0000FF;stroke-width:2px;stroke-linecap:butt;stroke-linejoin:miter;stroke-opacity:1' /><path class='bond-9' d='M 25.9355,62.7597 24.4011,56.1103' style='fill:none;fill-rule:evenodd;stroke:#FF0000;stroke-width:2px;stroke-linecap:butt;stroke-linejoin:miter;stroke-opacity:1' /><path class='bond-10' d='M 26.2582,76.7397 22.5756,80.1731' style='fill:none;fill-rule:evenodd;stroke:#0000FF;stroke-width:2px;stroke-linecap:butt;stroke-linejoin:miter;stroke-opacity:1' /><path class='bond-10' d='M 22.5756,80.1731 18.893,83.6065' style='fill:none;fill-rule:evenodd;stroke:#FF0000;stroke-width:2px;stroke-linecap:butt;stroke-linejoin:miter;stroke-opacity:1' /><text x='131.277' y='54.3467' style='font-size:7px;font-style:normal;font-weight:normal;fill-opacity:1;stroke:none;font-family:sans-serif;text-anchor:start;fill:#7F7F7F' ><tspan>*</tspan></text><text x='119.778' y='87.3019' style='font-size:7px;font-style:normal;font-weight:normal;fill-opacity:1;stroke:none;font-family:sans-serif;text-anchor:start;fill:#0000FF' ><tspan>N</tspan></text><text x='138.209' y='74.4857' style='font-size:7px;font-style:normal;font-weight:normal;fill-opacity:1;stroke:none;font-family:sans-serif;text-anchor:start;fill:#7F7F7F' ><tspan>*</tspan></text><text x='64.5096' y='69.7977' style='font-size:7px;font-style:normal;font-weight:normal;fill-opacity:1;stroke:none;font-family:sans-serif;text-anchor:start;fill:#FF0000' ><tspan>O</tspan></text><text x='26.1253' y='76.7397' style='font-size:7px;font-style:normal;font-weight:normal;fill-opacity:1;stroke:none;font-family:sans-serif;text-anchor:start;fill:#0000FF' ><tspan>N</tspan><tspan style='baseline-shift:super;font-size:5.25px;'>+</tspan><tspan></tspan></text><text x='22.3419' y='55.6314' style='font-size:7px;font-style:normal;font-weight:normal;fill-opacity:1;stroke:none;font-family:sans-serif;text-anchor:start;fill:#FF0000' ><tspan>O</tspan></text><text x='10.8431' y='91.2638' style='font-size:7px;font-style:normal;font-weight:normal;fill-opacity:1;stroke:none;font-family:sans-serif;text-anchor:start;fill:#FF0000' ><tspan>O</tspan><tspan style='baseline-shift:super;font-size:5.25px;'>-</tspan><tspan></tspan></text></svg></td>\n",
       "    </tr>\n",
       "    <tr>\n",
       "      <th>3575264755</th>\n",
       "      <td>4.529394e-02</td>\n",
       "      <td>8</td>\n",
       "      <td>8</td>\n",
       "      <td>1.000000</td>\n",
       "      <td>0.010554</td>\n",
       "      <td>*CC1CO1</td>\n",
       "      <td><?xml version='1.0' encoding='iso-8859-1'?><svg version='1.1' baseProfile='full'              xmlns='http://www.w3.org/2000/svg'                      xmlns:rdkit='http://www.rdkit.org/xml'                      xmlns:xlink='http://www.w3.org/1999/xlink'                  xml:space='preserve'width='150px' height='150px' ><!-- END OF HEADER --><rect style='opacity:1.0;fill:#FFFFFF;stroke:none' width='150' height='150' x='0' y='0'> </rect><ellipse cx='15.1276' cy='36.5345' rx='10.6763' ry='10.6763' style='fill:#CCCCCC;fill-rule:evenodd;stroke:#CCCCCC;stroke-width:2px;stroke-linecap:butt;stroke-linejoin:miter;stroke-opacity:1' /><ellipse cx='13.4166' cy='89.8884' rx='10.6763' ry='10.6763' style='fill:#9999E5;fill-rule:evenodd;stroke:#9999E5;stroke-width:2px;stroke-linecap:butt;stroke-linejoin:miter;stroke-opacity:1' /><ellipse cx='60.478' cy='64.6932' rx='10.6763' ry='10.6763' style='fill:#CCCCCC;fill-rule:evenodd;stroke:#CCCCCC;stroke-width:2px;stroke-linecap:butt;stroke-linejoin:miter;stroke-opacity:1' /><path class='bond-0' d='M 134.872,105.705 113.832,66.4042' style='fill:none;fill-rule:evenodd;stroke:#E5E5E5;stroke-width:4px;stroke-linecap:butt;stroke-linejoin:miter;stroke-opacity:1' /><path class='bond-4' d='M 113.832,66.4042 60.478,64.6932' style='fill:none;fill-rule:evenodd;stroke:#000000;stroke-width:2px;stroke-linecap:butt;stroke-linejoin:miter;stroke-opacity:1' /><path class='bond-1' d='M 14.8423,45.4313 14.1295,67.6599' style='fill:none;fill-rule:evenodd;stroke:#FF0000;stroke-width:2px;stroke-linecap:butt;stroke-linejoin:miter;stroke-opacity:1' /><path class='bond-1' d='M 14.1295,67.6599 13.4166,89.8884' style='fill:none;fill-rule:evenodd;stroke:#000000;stroke-width:2px;stroke-linecap:butt;stroke-linejoin:miter;stroke-opacity:1' /><path class='bond-3' d='M 23.4371,41.6939 41.9575,53.1936' style='fill:none;fill-rule:evenodd;stroke:#FF0000;stroke-width:2px;stroke-linecap:butt;stroke-linejoin:miter;stroke-opacity:1' /><path class='bond-3' d='M 41.9575,53.1936 60.478,64.6932' style='fill:none;fill-rule:evenodd;stroke:#000000;stroke-width:2px;stroke-linecap:butt;stroke-linejoin:miter;stroke-opacity:1' /><path class='bond-2' d='M 13.4166,89.8884 60.478,64.6932' style='fill:none;fill-rule:evenodd;stroke:#000000;stroke-width:2px;stroke-linecap:butt;stroke-linejoin:miter;stroke-opacity:1' /><text x='134.872' y='122.362' style='font-size:17px;font-style:normal;font-weight:normal;fill-opacity:1;stroke:none;font-family:sans-serif;text-anchor:start;fill:#7F7F7F' ><tspan>*</tspan></text><text x='6.81818' y='45.4313' style='font-size:17px;font-style:normal;font-weight:normal;fill-opacity:1;stroke:none;font-family:sans-serif;text-anchor:start;fill:#FF0000' ><tspan>O</tspan></text></svg></td>\n",
       "    </tr>\n",
       "    <tr>\n",
       "      <th>1429883190</th>\n",
       "      <td>4.730703e-02</td>\n",
       "      <td>26</td>\n",
       "      <td>22</td>\n",
       "      <td>0.846154</td>\n",
       "      <td>0.029024</td>\n",
       "      <td>*Cc1c*c(*)cc1</td>\n",
       "      <td><?xml version='1.0' encoding='iso-8859-1'?><svg version='1.1' baseProfile='full'              xmlns='http://www.w3.org/2000/svg'                      xmlns:rdkit='http://www.rdkit.org/xml'                      xmlns:xlink='http://www.w3.org/1999/xlink'                  xml:space='preserve'width='150px' height='150px' ><!-- END OF HEADER --><rect style='opacity:1.0;fill:#FFFFFF;stroke:none' width='150' height='150' x='0' y='0'> </rect><ellipse cx='63.9478' cy='57.3218' rx='5.66081' ry='5.66081' style='fill:#E5E533;fill-rule:evenodd;stroke:#E5E533;stroke-width:2px;stroke-linecap:butt;stroke-linejoin:miter;stroke-opacity:1' /><ellipse cx='112.414' cy='64.6962' rx='5.66081' ry='5.66081' style='fill:#E5E533;fill-rule:evenodd;stroke:#E5E533;stroke-width:2px;stroke-linecap:butt;stroke-linejoin:miter;stroke-opacity:1' /><ellipse cx='108.156' cy='92.6782' rx='5.66081' ry='5.66081' style='fill:#E5E533;fill-rule:evenodd;stroke:#E5E533;stroke-width:2px;stroke-linecap:butt;stroke-linejoin:miter;stroke-opacity:1' /><ellipse cx='81.7946' cy='102.982' rx='5.66081' ry='5.66081' style='fill:#9999E5;fill-rule:evenodd;stroke:#9999E5;stroke-width:2px;stroke-linecap:butt;stroke-linejoin:miter;stroke-opacity:1' /><ellipse cx='59.6903' cy='85.3038' rx='5.66081' ry='5.66081' style='fill:#E5E533;fill-rule:evenodd;stroke:#E5E533;stroke-width:2px;stroke-linecap:butt;stroke-linejoin:miter;stroke-opacity:1' /><path class='bond-0' d='M 13.427,79.6913 33.3284,95.6077' style='fill:none;fill-rule:evenodd;stroke:#E5E5E5;stroke-width:4px;stroke-linecap:butt;stroke-linejoin:miter;stroke-opacity:1' /><path class='bond-7' d='M 33.3284,95.6077 59.6903,85.3038' style='fill:none;fill-rule:evenodd;stroke:#000000;stroke-width:2px;stroke-linecap:butt;stroke-linejoin:miter;stroke-opacity:1' /><path class='bond-1' d='M 63.9478,57.3218 88.1068,47.8791' style='fill:none;fill-rule:evenodd;stroke:#E5E5E5;stroke-width:4px;stroke-linecap:butt;stroke-linejoin:miter;stroke-opacity:1' /><path class='bond-1' d='M 69.6324,61.1778 86.5437,54.5679' style='fill:none;fill-rule:evenodd;stroke:#E5E5E5;stroke-width:4px;stroke-linecap:butt;stroke-linejoin:miter;stroke-opacity:1;stroke-dasharray:6,6' /><path class='bond-8' d='M 63.9478,57.3218 59.6903,85.3038' style='fill:none;fill-rule:evenodd;stroke:#000000;stroke-width:2px;stroke-linecap:butt;stroke-linejoin:miter;stroke-opacity:1' /><path class='bond-8' d='M 68.9056,62.3707 65.9253,81.958' style='fill:none;fill-rule:evenodd;stroke:#000000;stroke-width:2px;stroke-linecap:butt;stroke-linejoin:miter;stroke-opacity:1;stroke-dasharray:6,6' /><path class='bond-2' d='M 92.5127,48.7798 112.414,64.6962' style='fill:none;fill-rule:evenodd;stroke:#E5E5E5;stroke-width:4px;stroke-linecap:butt;stroke-linejoin:miter;stroke-opacity:1' /><path class='bond-2' d='M 91.9622,55.5882 105.893,66.7296' style='fill:none;fill-rule:evenodd;stroke:#E5E5E5;stroke-width:4px;stroke-linecap:butt;stroke-linejoin:miter;stroke-opacity:1;stroke-dasharray:6,6' /><path class='bond-3' d='M 112.414,64.6962 136.573,55.2534' style='fill:none;fill-rule:evenodd;stroke:#E5E5E5;stroke-width:4px;stroke-linecap:butt;stroke-linejoin:miter;stroke-opacity:1' /><path class='bond-6' d='M 112.414,64.6962 108.156,92.6782' style='fill:none;fill-rule:evenodd;stroke:#000000;stroke-width:2px;stroke-linecap:butt;stroke-linejoin:miter;stroke-opacity:1' /><path class='bond-6' d='M 106.179,68.042 103.199,87.6293' style='fill:none;fill-rule:evenodd;stroke:#000000;stroke-width:2px;stroke-linecap:butt;stroke-linejoin:miter;stroke-opacity:1;stroke-dasharray:6,6' /><path class='bond-4' d='M 108.156,92.6782 81.7946,102.982' style='fill:none;fill-rule:evenodd;stroke:#000000;stroke-width:2px;stroke-linecap:butt;stroke-linejoin:miter;stroke-opacity:1' /><path class='bond-4' d='M 102.141,88.9514 83.6881,96.164' style='fill:none;fill-rule:evenodd;stroke:#000000;stroke-width:2px;stroke-linecap:butt;stroke-linejoin:miter;stroke-opacity:1;stroke-dasharray:6,6' /><path class='bond-5' d='M 81.7946,102.982 59.6903,85.3038' style='fill:none;fill-rule:evenodd;stroke:#000000;stroke-width:2px;stroke-linecap:butt;stroke-linejoin:miter;stroke-opacity:1' /><path class='bond-5' d='M 82.0146,95.9094 66.5415,83.5347' style='fill:none;fill-rule:evenodd;stroke:#000000;stroke-width:2px;stroke-linecap:butt;stroke-linejoin:miter;stroke-opacity:1;stroke-dasharray:6,6' /><text x='9.02112' y='82.6468' style='font-size:9px;font-style:normal;font-weight:normal;fill-opacity:1;stroke:none;font-family:sans-serif;text-anchor:start;fill:#7F7F7F' ><tspan>*</tspan></text><text x='88.1068' y='51.7354' style='font-size:9px;font-style:normal;font-weight:normal;fill-opacity:1;stroke:none;font-family:sans-serif;text-anchor:start;fill:#7F7F7F' ><tspan>*</tspan></text><text x='136.573' y='59.1097' style='font-size:9px;font-style:normal;font-weight:normal;fill-opacity:1;stroke:none;font-family:sans-serif;text-anchor:start;fill:#7F7F7F' ><tspan>*</tspan></text></svg></td>\n",
       "    </tr>\n",
       "  </tbody>\n",
       "</table>"
      ],
      "text/plain": [
       "<IPython.core.display.HTML object>"
      ]
     },
     "execution_count": 37,
     "metadata": {},
     "output_type": "execute_result"
    }
   ],
   "source": [
    "IPython.display.HTML(cirLearner.sigPvalue.to_html(escape=False))"
   ]
  },
  {
   "cell_type": "markdown",
   "metadata": {},
   "source": [
    "The *sigPvalue* and *fitted learner* can be saved by calling <code>savePvalue</code> and <code>saveModel</code> respectively. Through the *fitted learner*, user can predict the non-label molecules."
   ]
  },
  {
   "cell_type": "markdown",
   "metadata": {},
   "source": [
    "### Predicting with Significant Fragments"
   ]
  },
  {
   "cell_type": "markdown",
   "metadata": {},
   "source": [
    "Through <code>Predict</code> method, user can predict non-label molecules."
   ]
  },
  {
   "cell_type": "code",
   "execution_count": 40,
   "metadata": {
    "ExecuteTime": {
     "end_time": "2020-08-28T13:54:21.473991Z",
     "start_time": "2020-08-28T13:54:17.339131Z"
    }
   },
   "outputs": [],
   "source": [
    "testMols = Chem.SDMolSupplier(r\"./datasets/Test/50.sdf\")\n",
    "testMols = [mol for mol in testMols]\n",
    "predLabel, predMatrix = cirLearner.predict(testMols)"
   ]
  },
  {
   "cell_type": "markdown",
   "metadata": {
    "ExecuteTime": {
     "end_time": "2020-08-29T02:12:03.531559Z",
     "start_time": "2020-08-29T02:12:03.485689Z"
    }
   },
   "source": [
    "This method return two variable, the first one if the predicted label of input molecules, another one is the predicted fragment matrix. "
   ]
  },
  {
   "cell_type": "code",
   "execution_count": 43,
   "metadata": {
    "ExecuteTime": {
     "end_time": "2020-08-29T06:57:16.506274Z",
     "start_time": "2020-08-29T06:57:16.480161Z"
    }
   },
   "outputs": [
    {
     "data": {
      "text/plain": [
       "array([0, 0, 0, 0, 0, 0, 0, 0, 0, 0, 0, 0, 0, 0, 0, 0, 0, 0, 0, 0, 0, 0,\n",
       "       0, 0, 0, 0, 0, 0, 0, 0, 0, 0, 0, 0, 0, 0, 0, 0, 0, 0, 0, 0, 0, 0,\n",
       "       0, 0, 0, 0, 0, 0])"
      ]
     },
     "execution_count": 43,
     "metadata": {},
     "output_type": "execute_result"
    }
   ],
   "source": [
    "predLabel"
   ]
  }
 ],
 "metadata": {
  "kernelspec": {
   "display_name": "Python 3",
   "language": "python",
   "name": "python3"
  },
  "notify_time": "30",
  "varInspector": {
   "cols": {
    "lenName": 16,
    "lenType": 16,
    "lenVar": 40
   },
   "kernels_config": {
    "python": {
     "delete_cmd_postfix": "",
     "delete_cmd_prefix": "del ",
     "library": "var_list.py",
     "varRefreshCmd": "print(var_dic_list())"
    },
    "r": {
     "delete_cmd_postfix": ") ",
     "delete_cmd_prefix": "rm(",
     "library": "var_list.r",
     "varRefreshCmd": "cat(var_dic_list()) "
    }
   },
   "types_to_exclude": [
    "module",
    "function",
    "builtin_function_or_method",
    "instance",
    "_Feature"
   ],
   "window_display": false
  }
 },
 "nbformat": 4,
 "nbformat_minor": 2
}
